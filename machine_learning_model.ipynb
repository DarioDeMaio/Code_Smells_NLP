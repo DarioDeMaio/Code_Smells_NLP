{
 "cells": [
  {
   "attachments": {},
   "cell_type": "markdown",
   "metadata": {},
   "source": [
    "## Identificare code smells con approcci basati su Machine Learning"
   ]
  },
  {
   "cell_type": "code",
   "execution_count": 898,
   "metadata": {},
   "outputs": [],
   "source": [
    "# Import delle librerie necessarie\n",
    "import pandas as pd\n",
    "import mysql.connector\n",
    "import seaborn as sns\n",
    "from sklearn.preprocessing import MinMaxScaler\n",
    "from sklearn.model_selection import train_test_split\n",
    "from sklearn.ensemble import RandomForestClassifier\n",
    "from sklearn.metrics import accuracy_score, precision_score, recall_score, f1_score, matthews_corrcoef, PrecisionRecallDisplay, roc_auc_score"
   ]
  },
  {
   "cell_type": "code",
   "execution_count": 899,
   "metadata": {},
   "outputs": [
    {
     "data": {
      "text/html": [
       "<div>\n",
       "<style scoped>\n",
       "    .dataframe tbody tr th:only-of-type {\n",
       "        vertical-align: middle;\n",
       "    }\n",
       "\n",
       "    .dataframe tbody tr th {\n",
       "        vertical-align: top;\n",
       "    }\n",
       "\n",
       "    .dataframe thead th {\n",
       "        text-align: right;\n",
       "    }\n",
       "</style>\n",
       "<table border=\"1\" class=\"dataframe\">\n",
       "  <thead>\n",
       "    <tr style=\"text-align: right;\">\n",
       "      <th></th>\n",
       "      <th>count</th>\n",
       "      <th>mean</th>\n",
       "      <th>std</th>\n",
       "      <th>min</th>\n",
       "      <th>25%</th>\n",
       "      <th>50%</th>\n",
       "      <th>75%</th>\n",
       "      <th>max</th>\n",
       "    </tr>\n",
       "  </thead>\n",
       "  <tbody>\n",
       "    <tr>\n",
       "      <th>CBO</th>\n",
       "      <td>20861.0</td>\n",
       "      <td>9.069316</td>\n",
       "      <td>11.370901</td>\n",
       "      <td>0.0</td>\n",
       "      <td>2.000000</td>\n",
       "      <td>5.0</td>\n",
       "      <td>12.0</td>\n",
       "      <td>207.0</td>\n",
       "    </tr>\n",
       "    <tr>\n",
       "      <th>CYCLO</th>\n",
       "      <td>20861.0</td>\n",
       "      <td>36.428359</td>\n",
       "      <td>71.593285</td>\n",
       "      <td>0.0</td>\n",
       "      <td>5.000000</td>\n",
       "      <td>14.0</td>\n",
       "      <td>34.0</td>\n",
       "      <td>956.0</td>\n",
       "    </tr>\n",
       "    <tr>\n",
       "      <th>DIT</th>\n",
       "      <td>20861.0</td>\n",
       "      <td>1.576387</td>\n",
       "      <td>0.494142</td>\n",
       "      <td>1.0</td>\n",
       "      <td>1.000000</td>\n",
       "      <td>2.0</td>\n",
       "      <td>2.0</td>\n",
       "      <td>2.0</td>\n",
       "    </tr>\n",
       "    <tr>\n",
       "      <th>ELOC</th>\n",
       "      <td>20861.0</td>\n",
       "      <td>209.126983</td>\n",
       "      <td>461.044339</td>\n",
       "      <td>2.0</td>\n",
       "      <td>24.000000</td>\n",
       "      <td>61.0</td>\n",
       "      <td>168.0</td>\n",
       "      <td>5438.0</td>\n",
       "    </tr>\n",
       "    <tr>\n",
       "      <th>FanIn</th>\n",
       "      <td>20861.0</td>\n",
       "      <td>145.199271</td>\n",
       "      <td>909.997981</td>\n",
       "      <td>0.0</td>\n",
       "      <td>1.000000</td>\n",
       "      <td>6.0</td>\n",
       "      <td>29.0</td>\n",
       "      <td>31934.0</td>\n",
       "    </tr>\n",
       "    <tr>\n",
       "      <th>FanOut</th>\n",
       "      <td>20861.0</td>\n",
       "      <td>39.832894</td>\n",
       "      <td>99.290150</td>\n",
       "      <td>0.0</td>\n",
       "      <td>1.000000</td>\n",
       "      <td>10.0</td>\n",
       "      <td>36.0</td>\n",
       "      <td>1926.0</td>\n",
       "    </tr>\n",
       "    <tr>\n",
       "      <th>LCOM</th>\n",
       "      <td>20861.0</td>\n",
       "      <td>195.574757</td>\n",
       "      <td>1016.795110</td>\n",
       "      <td>0.0</td>\n",
       "      <td>0.000000</td>\n",
       "      <td>3.0</td>\n",
       "      <td>36.0</td>\n",
       "      <td>21736.0</td>\n",
       "    </tr>\n",
       "    <tr>\n",
       "      <th>LOC</th>\n",
       "      <td>20861.0</td>\n",
       "      <td>209.126983</td>\n",
       "      <td>461.044339</td>\n",
       "      <td>2.0</td>\n",
       "      <td>24.000000</td>\n",
       "      <td>61.0</td>\n",
       "      <td>168.0</td>\n",
       "      <td>5438.0</td>\n",
       "    </tr>\n",
       "    <tr>\n",
       "      <th>LOCNAMM</th>\n",
       "      <td>20861.0</td>\n",
       "      <td>206.116869</td>\n",
       "      <td>458.603401</td>\n",
       "      <td>2.0</td>\n",
       "      <td>23.000000</td>\n",
       "      <td>59.0</td>\n",
       "      <td>166.0</td>\n",
       "      <td>5438.0</td>\n",
       "    </tr>\n",
       "    <tr>\n",
       "      <th>NOA</th>\n",
       "      <td>20861.0</td>\n",
       "      <td>5.989646</td>\n",
       "      <td>20.016290</td>\n",
       "      <td>0.0</td>\n",
       "      <td>0.000000</td>\n",
       "      <td>2.0</td>\n",
       "      <td>6.0</td>\n",
       "      <td>1634.0</td>\n",
       "    </tr>\n",
       "    <tr>\n",
       "      <th>NOC</th>\n",
       "      <td>20861.0</td>\n",
       "      <td>0.516658</td>\n",
       "      <td>7.628055</td>\n",
       "      <td>0.0</td>\n",
       "      <td>0.000000</td>\n",
       "      <td>0.0</td>\n",
       "      <td>0.0</td>\n",
       "      <td>675.0</td>\n",
       "    </tr>\n",
       "    <tr>\n",
       "      <th>NOM</th>\n",
       "      <td>20861.0</td>\n",
       "      <td>12.195628</td>\n",
       "      <td>19.998349</td>\n",
       "      <td>0.0</td>\n",
       "      <td>2.000000</td>\n",
       "      <td>5.0</td>\n",
       "      <td>13.0</td>\n",
       "      <td>211.0</td>\n",
       "    </tr>\n",
       "    <tr>\n",
       "      <th>NOMNAMM</th>\n",
       "      <td>20861.0</td>\n",
       "      <td>11.494367</td>\n",
       "      <td>18.995787</td>\n",
       "      <td>0.0</td>\n",
       "      <td>2.000000</td>\n",
       "      <td>5.0</td>\n",
       "      <td>12.0</td>\n",
       "      <td>210.0</td>\n",
       "    </tr>\n",
       "    <tr>\n",
       "      <th>NOPA</th>\n",
       "      <td>20861.0</td>\n",
       "      <td>1.350558</td>\n",
       "      <td>9.485790</td>\n",
       "      <td>0.0</td>\n",
       "      <td>0.000000</td>\n",
       "      <td>0.0</td>\n",
       "      <td>0.0</td>\n",
       "      <td>800.0</td>\n",
       "    </tr>\n",
       "    <tr>\n",
       "      <th>PMMM</th>\n",
       "      <td>20861.0</td>\n",
       "      <td>0.132080</td>\n",
       "      <td>0.212704</td>\n",
       "      <td>0.0</td>\n",
       "      <td>0.000000</td>\n",
       "      <td>0.0</td>\n",
       "      <td>0.2</td>\n",
       "      <td>1.0</td>\n",
       "    </tr>\n",
       "    <tr>\n",
       "      <th>PRB</th>\n",
       "      <td>20861.0</td>\n",
       "      <td>0.014093</td>\n",
       "      <td>0.132071</td>\n",
       "      <td>0.0</td>\n",
       "      <td>0.000000</td>\n",
       "      <td>0.0</td>\n",
       "      <td>0.0</td>\n",
       "      <td>5.0</td>\n",
       "    </tr>\n",
       "    <tr>\n",
       "      <th>WLOCNAMM</th>\n",
       "      <td>20143.0</td>\n",
       "      <td>12.185103</td>\n",
       "      <td>17.102785</td>\n",
       "      <td>1.0</td>\n",
       "      <td>4.666667</td>\n",
       "      <td>8.5</td>\n",
       "      <td>15.0</td>\n",
       "      <td>980.0</td>\n",
       "    </tr>\n",
       "    <tr>\n",
       "      <th>WMC</th>\n",
       "      <td>20861.0</td>\n",
       "      <td>36.428359</td>\n",
       "      <td>71.593285</td>\n",
       "      <td>0.0</td>\n",
       "      <td>5.000000</td>\n",
       "      <td>14.0</td>\n",
       "      <td>34.0</td>\n",
       "      <td>956.0</td>\n",
       "    </tr>\n",
       "    <tr>\n",
       "      <th>WMCNAMM</th>\n",
       "      <td>20861.0</td>\n",
       "      <td>0.000000</td>\n",
       "      <td>0.000000</td>\n",
       "      <td>0.0</td>\n",
       "      <td>0.000000</td>\n",
       "      <td>0.0</td>\n",
       "      <td>0.0</td>\n",
       "      <td>0.0</td>\n",
       "    </tr>\n",
       "    <tr>\n",
       "      <th>NMNOPARAM</th>\n",
       "      <td>20861.0</td>\n",
       "      <td>4.984229</td>\n",
       "      <td>9.483416</td>\n",
       "      <td>0.0</td>\n",
       "      <td>1.000000</td>\n",
       "      <td>2.0</td>\n",
       "      <td>5.0</td>\n",
       "      <td>194.0</td>\n",
       "    </tr>\n",
       "    <tr>\n",
       "      <th>CDSBP</th>\n",
       "      <td>20862.0</td>\n",
       "      <td>0.054357</td>\n",
       "      <td>0.226727</td>\n",
       "      <td>0.0</td>\n",
       "      <td>0.000000</td>\n",
       "      <td>0.0</td>\n",
       "      <td>0.0</td>\n",
       "      <td>1.0</td>\n",
       "    </tr>\n",
       "    <tr>\n",
       "      <th>CC</th>\n",
       "      <td>20862.0</td>\n",
       "      <td>0.015291</td>\n",
       "      <td>0.122711</td>\n",
       "      <td>0.0</td>\n",
       "      <td>0.000000</td>\n",
       "      <td>0.0</td>\n",
       "      <td>0.0</td>\n",
       "      <td>1.0</td>\n",
       "    </tr>\n",
       "    <tr>\n",
       "      <th>LC</th>\n",
       "      <td>20862.0</td>\n",
       "      <td>0.016154</td>\n",
       "      <td>0.126070</td>\n",
       "      <td>0.0</td>\n",
       "      <td>0.000000</td>\n",
       "      <td>0.0</td>\n",
       "      <td>0.0</td>\n",
       "      <td>1.0</td>\n",
       "    </tr>\n",
       "    <tr>\n",
       "      <th>LZC</th>\n",
       "      <td>20862.0</td>\n",
       "      <td>0.012175</td>\n",
       "      <td>0.109670</td>\n",
       "      <td>0.0</td>\n",
       "      <td>0.000000</td>\n",
       "      <td>0.0</td>\n",
       "      <td>0.0</td>\n",
       "      <td>1.0</td>\n",
       "    </tr>\n",
       "    <tr>\n",
       "      <th>RB</th>\n",
       "      <td>20862.0</td>\n",
       "      <td>0.025357</td>\n",
       "      <td>0.157211</td>\n",
       "      <td>0.0</td>\n",
       "      <td>0.000000</td>\n",
       "      <td>0.0</td>\n",
       "      <td>0.0</td>\n",
       "      <td>1.0</td>\n",
       "    </tr>\n",
       "    <tr>\n",
       "      <th>SC</th>\n",
       "      <td>20862.0</td>\n",
       "      <td>0.059055</td>\n",
       "      <td>0.235733</td>\n",
       "      <td>0.0</td>\n",
       "      <td>0.000000</td>\n",
       "      <td>0.0</td>\n",
       "      <td>0.0</td>\n",
       "      <td>1.0</td>\n",
       "    </tr>\n",
       "  </tbody>\n",
       "</table>\n",
       "</div>"
      ],
      "text/plain": [
       "             count        mean          std  min        25%   50%    75%  \\\n",
       "CBO        20861.0    9.069316    11.370901  0.0   2.000000   5.0   12.0   \n",
       "CYCLO      20861.0   36.428359    71.593285  0.0   5.000000  14.0   34.0   \n",
       "DIT        20861.0    1.576387     0.494142  1.0   1.000000   2.0    2.0   \n",
       "ELOC       20861.0  209.126983   461.044339  2.0  24.000000  61.0  168.0   \n",
       "FanIn      20861.0  145.199271   909.997981  0.0   1.000000   6.0   29.0   \n",
       "FanOut     20861.0   39.832894    99.290150  0.0   1.000000  10.0   36.0   \n",
       "LCOM       20861.0  195.574757  1016.795110  0.0   0.000000   3.0   36.0   \n",
       "LOC        20861.0  209.126983   461.044339  2.0  24.000000  61.0  168.0   \n",
       "LOCNAMM    20861.0  206.116869   458.603401  2.0  23.000000  59.0  166.0   \n",
       "NOA        20861.0    5.989646    20.016290  0.0   0.000000   2.0    6.0   \n",
       "NOC        20861.0    0.516658     7.628055  0.0   0.000000   0.0    0.0   \n",
       "NOM        20861.0   12.195628    19.998349  0.0   2.000000   5.0   13.0   \n",
       "NOMNAMM    20861.0   11.494367    18.995787  0.0   2.000000   5.0   12.0   \n",
       "NOPA       20861.0    1.350558     9.485790  0.0   0.000000   0.0    0.0   \n",
       "PMMM       20861.0    0.132080     0.212704  0.0   0.000000   0.0    0.2   \n",
       "PRB        20861.0    0.014093     0.132071  0.0   0.000000   0.0    0.0   \n",
       "WLOCNAMM   20143.0   12.185103    17.102785  1.0   4.666667   8.5   15.0   \n",
       "WMC        20861.0   36.428359    71.593285  0.0   5.000000  14.0   34.0   \n",
       "WMCNAMM    20861.0    0.000000     0.000000  0.0   0.000000   0.0    0.0   \n",
       "NMNOPARAM  20861.0    4.984229     9.483416  0.0   1.000000   2.0    5.0   \n",
       "CDSBP      20862.0    0.054357     0.226727  0.0   0.000000   0.0    0.0   \n",
       "CC         20862.0    0.015291     0.122711  0.0   0.000000   0.0    0.0   \n",
       "LC         20862.0    0.016154     0.126070  0.0   0.000000   0.0    0.0   \n",
       "LZC        20862.0    0.012175     0.109670  0.0   0.000000   0.0    0.0   \n",
       "RB         20862.0    0.025357     0.157211  0.0   0.000000   0.0    0.0   \n",
       "SC         20862.0    0.059055     0.235733  0.0   0.000000   0.0    0.0   \n",
       "\n",
       "               max  \n",
       "CBO          207.0  \n",
       "CYCLO        956.0  \n",
       "DIT            2.0  \n",
       "ELOC        5438.0  \n",
       "FanIn      31934.0  \n",
       "FanOut      1926.0  \n",
       "LCOM       21736.0  \n",
       "LOC         5438.0  \n",
       "LOCNAMM     5438.0  \n",
       "NOA         1634.0  \n",
       "NOC          675.0  \n",
       "NOM          211.0  \n",
       "NOMNAMM      210.0  \n",
       "NOPA         800.0  \n",
       "PMMM           1.0  \n",
       "PRB            5.0  \n",
       "WLOCNAMM     980.0  \n",
       "WMC          956.0  \n",
       "WMCNAMM        0.0  \n",
       "NMNOPARAM    194.0  \n",
       "CDSBP          1.0  \n",
       "CC             1.0  \n",
       "LC             1.0  \n",
       "LZC            1.0  \n",
       "RB             1.0  \n",
       "SC             1.0  "
      ]
     },
     "execution_count": 899,
     "metadata": {},
     "output_type": "execute_result"
    }
   ],
   "source": [
    "result = pd.read_csv(\"complete_dataset.csv\")\n",
    "result.describe().transpose()"
   ]
  },
  {
   "cell_type": "code",
   "execution_count": 900,
   "metadata": {},
   "outputs": [
    {
     "data": {
      "text/html": [
       "<div>\n",
       "<style scoped>\n",
       "    .dataframe tbody tr th:only-of-type {\n",
       "        vertical-align: middle;\n",
       "    }\n",
       "\n",
       "    .dataframe tbody tr th {\n",
       "        vertical-align: top;\n",
       "    }\n",
       "\n",
       "    .dataframe thead th {\n",
       "        text-align: right;\n",
       "    }\n",
       "</style>\n",
       "<table border=\"1\" class=\"dataframe\">\n",
       "  <thead>\n",
       "    <tr style=\"text-align: right;\">\n",
       "      <th></th>\n",
       "      <th>ComponentName</th>\n",
       "      <th>Project</th>\n",
       "      <th>CBO</th>\n",
       "      <th>CYCLO</th>\n",
       "      <th>DIT</th>\n",
       "      <th>ELOC</th>\n",
       "      <th>FanIn</th>\n",
       "      <th>FanOut</th>\n",
       "      <th>LCOM</th>\n",
       "      <th>LOC</th>\n",
       "      <th>...</th>\n",
       "      <th>WLOCNAMM</th>\n",
       "      <th>WMC</th>\n",
       "      <th>WMCNAMM</th>\n",
       "      <th>NMNOPARAM</th>\n",
       "      <th>CDSBP</th>\n",
       "      <th>CC</th>\n",
       "      <th>LC</th>\n",
       "      <th>LZC</th>\n",
       "      <th>RB</th>\n",
       "      <th>SC</th>\n",
       "    </tr>\n",
       "  </thead>\n",
       "  <tbody>\n",
       "    <tr>\n",
       "      <th>0</th>\n",
       "      <td>example.Hello</td>\n",
       "      <td>ant-ivy-2.0.0-alpha2</td>\n",
       "      <td>1.0</td>\n",
       "      <td>1.0</td>\n",
       "      <td>1.0</td>\n",
       "      <td>11.0</td>\n",
       "      <td>3.0</td>\n",
       "      <td>4.0</td>\n",
       "      <td>0.0</td>\n",
       "      <td>11.0</td>\n",
       "      <td>...</td>\n",
       "      <td>6.000000</td>\n",
       "      <td>1.0</td>\n",
       "      <td>0.0</td>\n",
       "      <td>0.0</td>\n",
       "      <td>0</td>\n",
       "      <td>0</td>\n",
       "      <td>0</td>\n",
       "      <td>0</td>\n",
       "      <td>0</td>\n",
       "      <td>0</td>\n",
       "    </tr>\n",
       "    <tr>\n",
       "      <th>1</th>\n",
       "      <td>example.ConfigurationsExample</td>\n",
       "      <td>ant-ivy-2.0.0-alpha2</td>\n",
       "      <td>7.0</td>\n",
       "      <td>4.0</td>\n",
       "      <td>1.0</td>\n",
       "      <td>34.0</td>\n",
       "      <td>0.0</td>\n",
       "      <td>10.0</td>\n",
       "      <td>0.0</td>\n",
       "      <td>34.0</td>\n",
       "      <td>...</td>\n",
       "      <td>32.000000</td>\n",
       "      <td>4.0</td>\n",
       "      <td>0.0</td>\n",
       "      <td>0.0</td>\n",
       "      <td>0</td>\n",
       "      <td>0</td>\n",
       "      <td>0</td>\n",
       "      <td>0</td>\n",
       "      <td>0</td>\n",
       "      <td>0</td>\n",
       "    </tr>\n",
       "    <tr>\n",
       "      <th>2</th>\n",
       "      <td>filter.FilterProvider</td>\n",
       "      <td>ant-ivy-2.0.0-alpha2</td>\n",
       "      <td>0.0</td>\n",
       "      <td>4.0</td>\n",
       "      <td>1.0</td>\n",
       "      <td>18.0</td>\n",
       "      <td>1.0</td>\n",
       "      <td>3.0</td>\n",
       "      <td>0.0</td>\n",
       "      <td>18.0</td>\n",
       "      <td>...</td>\n",
       "      <td>16.000000</td>\n",
       "      <td>4.0</td>\n",
       "      <td>0.0</td>\n",
       "      <td>1.0</td>\n",
       "      <td>0</td>\n",
       "      <td>0</td>\n",
       "      <td>0</td>\n",
       "      <td>0</td>\n",
       "      <td>0</td>\n",
       "      <td>0</td>\n",
       "    </tr>\n",
       "    <tr>\n",
       "      <th>3</th>\n",
       "      <td>filter.IFilter</td>\n",
       "      <td>ant-ivy-2.0.0-alpha2</td>\n",
       "      <td>0.0</td>\n",
       "      <td>1.0</td>\n",
       "      <td>1.0</td>\n",
       "      <td>3.0</td>\n",
       "      <td>17.0</td>\n",
       "      <td>0.0</td>\n",
       "      <td>0.0</td>\n",
       "      <td>3.0</td>\n",
       "      <td>...</td>\n",
       "      <td>1.000000</td>\n",
       "      <td>1.0</td>\n",
       "      <td>0.0</td>\n",
       "      <td>0.0</td>\n",
       "      <td>0</td>\n",
       "      <td>0</td>\n",
       "      <td>0</td>\n",
       "      <td>0</td>\n",
       "      <td>0</td>\n",
       "      <td>0</td>\n",
       "    </tr>\n",
       "    <tr>\n",
       "      <th>4</th>\n",
       "      <td>filter.ccimpl.CCFilter</td>\n",
       "      <td>ant-ivy-2.0.0-alpha2</td>\n",
       "      <td>6.0</td>\n",
       "      <td>7.0</td>\n",
       "      <td>1.0</td>\n",
       "      <td>18.0</td>\n",
       "      <td>3.0</td>\n",
       "      <td>8.0</td>\n",
       "      <td>1.0</td>\n",
       "      <td>18.0</td>\n",
       "      <td>...</td>\n",
       "      <td>9.500000</td>\n",
       "      <td>7.0</td>\n",
       "      <td>0.0</td>\n",
       "      <td>0.0</td>\n",
       "      <td>0</td>\n",
       "      <td>0</td>\n",
       "      <td>0</td>\n",
       "      <td>0</td>\n",
       "      <td>0</td>\n",
       "      <td>0</td>\n",
       "    </tr>\n",
       "    <tr>\n",
       "      <th>...</th>\n",
       "      <td>...</td>\n",
       "      <td>...</td>\n",
       "      <td>...</td>\n",
       "      <td>...</td>\n",
       "      <td>...</td>\n",
       "      <td>...</td>\n",
       "      <td>...</td>\n",
       "      <td>...</td>\n",
       "      <td>...</td>\n",
       "      <td>...</td>\n",
       "      <td>...</td>\n",
       "      <td>...</td>\n",
       "      <td>...</td>\n",
       "      <td>...</td>\n",
       "      <td>...</td>\n",
       "      <td>...</td>\n",
       "      <td>...</td>\n",
       "      <td>...</td>\n",
       "      <td>...</td>\n",
       "      <td>...</td>\n",
       "      <td>...</td>\n",
       "    </tr>\n",
       "    <tr>\n",
       "      <th>20857</th>\n",
       "      <td>jaxp.InputData</td>\n",
       "      <td>xerces2-j-Xerces-J_2_3_0</td>\n",
       "      <td>2.0</td>\n",
       "      <td>6.0</td>\n",
       "      <td>2.0</td>\n",
       "      <td>18.0</td>\n",
       "      <td>12.0</td>\n",
       "      <td>2.0</td>\n",
       "      <td>0.0</td>\n",
       "      <td>18.0</td>\n",
       "      <td>...</td>\n",
       "      <td>5.000000</td>\n",
       "      <td>6.0</td>\n",
       "      <td>0.0</td>\n",
       "      <td>1.0</td>\n",
       "      <td>0</td>\n",
       "      <td>0</td>\n",
       "      <td>0</td>\n",
       "      <td>0</td>\n",
       "      <td>0</td>\n",
       "      <td>0</td>\n",
       "    </tr>\n",
       "    <tr>\n",
       "      <th>20858</th>\n",
       "      <td>jaxp.JAXP12Tests</td>\n",
       "      <td>xerces2-j-Xerces-J_2_3_0</td>\n",
       "      <td>8.0</td>\n",
       "      <td>30.0</td>\n",
       "      <td>2.0</td>\n",
       "      <td>176.0</td>\n",
       "      <td>0.0</td>\n",
       "      <td>57.0</td>\n",
       "      <td>15.0</td>\n",
       "      <td>176.0</td>\n",
       "      <td>...</td>\n",
       "      <td>12.363636</td>\n",
       "      <td>30.0</td>\n",
       "      <td>0.0</td>\n",
       "      <td>10.0</td>\n",
       "      <td>0</td>\n",
       "      <td>0</td>\n",
       "      <td>0</td>\n",
       "      <td>0</td>\n",
       "      <td>0</td>\n",
       "      <td>0</td>\n",
       "    </tr>\n",
       "    <tr>\n",
       "      <th>20859</th>\n",
       "      <td>jaxp.JAXPConstants</td>\n",
       "      <td>xerces2-j-Xerces-J_2_3_0</td>\n",
       "      <td>0.0</td>\n",
       "      <td>0.0</td>\n",
       "      <td>1.0</td>\n",
       "      <td>11.0</td>\n",
       "      <td>4.0</td>\n",
       "      <td>0.0</td>\n",
       "      <td>0.0</td>\n",
       "      <td>11.0</td>\n",
       "      <td>...</td>\n",
       "      <td>NaN</td>\n",
       "      <td>0.0</td>\n",
       "      <td>0.0</td>\n",
       "      <td>0.0</td>\n",
       "      <td>0</td>\n",
       "      <td>0</td>\n",
       "      <td>0</td>\n",
       "      <td>0</td>\n",
       "      <td>0</td>\n",
       "      <td>0</td>\n",
       "    </tr>\n",
       "    <tr>\n",
       "      <th>20860</th>\n",
       "      <td>thread.Test</td>\n",
       "      <td>xerces2-j-Xerces-J_2_3_0</td>\n",
       "      <td>11.0</td>\n",
       "      <td>21.0</td>\n",
       "      <td>1.0</td>\n",
       "      <td>421.0</td>\n",
       "      <td>320.0</td>\n",
       "      <td>26.0</td>\n",
       "      <td>0.0</td>\n",
       "      <td>421.0</td>\n",
       "      <td>...</td>\n",
       "      <td>41.000000</td>\n",
       "      <td>21.0</td>\n",
       "      <td>0.0</td>\n",
       "      <td>1.0</td>\n",
       "      <td>0</td>\n",
       "      <td>0</td>\n",
       "      <td>0</td>\n",
       "      <td>0</td>\n",
       "      <td>0</td>\n",
       "      <td>0</td>\n",
       "    </tr>\n",
       "    <tr>\n",
       "      <th>20861</th>\n",
       "      <td>org.apache.xerces.util.XJavac</td>\n",
       "      <td>xerces2-j-Xerces-J_2_3_0</td>\n",
       "      <td>8.0</td>\n",
       "      <td>5.0</td>\n",
       "      <td>2.0</td>\n",
       "      <td>65.0</td>\n",
       "      <td>0.0</td>\n",
       "      <td>15.0</td>\n",
       "      <td>0.0</td>\n",
       "      <td>65.0</td>\n",
       "      <td>...</td>\n",
       "      <td>59.000000</td>\n",
       "      <td>5.0</td>\n",
       "      <td>0.0</td>\n",
       "      <td>1.0</td>\n",
       "      <td>0</td>\n",
       "      <td>0</td>\n",
       "      <td>0</td>\n",
       "      <td>0</td>\n",
       "      <td>0</td>\n",
       "      <td>0</td>\n",
       "    </tr>\n",
       "  </tbody>\n",
       "</table>\n",
       "<p>20862 rows × 28 columns</p>\n",
       "</div>"
      ],
      "text/plain": [
       "                       ComponentName                   Project   CBO  CYCLO  \\\n",
       "0                      example.Hello      ant-ivy-2.0.0-alpha2   1.0    1.0   \n",
       "1      example.ConfigurationsExample      ant-ivy-2.0.0-alpha2   7.0    4.0   \n",
       "2              filter.FilterProvider      ant-ivy-2.0.0-alpha2   0.0    4.0   \n",
       "3                     filter.IFilter      ant-ivy-2.0.0-alpha2   0.0    1.0   \n",
       "4             filter.ccimpl.CCFilter      ant-ivy-2.0.0-alpha2   6.0    7.0   \n",
       "...                              ...                       ...   ...    ...   \n",
       "20857                 jaxp.InputData  xerces2-j-Xerces-J_2_3_0   2.0    6.0   \n",
       "20858               jaxp.JAXP12Tests  xerces2-j-Xerces-J_2_3_0   8.0   30.0   \n",
       "20859             jaxp.JAXPConstants  xerces2-j-Xerces-J_2_3_0   0.0    0.0   \n",
       "20860                    thread.Test  xerces2-j-Xerces-J_2_3_0  11.0   21.0   \n",
       "20861  org.apache.xerces.util.XJavac  xerces2-j-Xerces-J_2_3_0   8.0    5.0   \n",
       "\n",
       "       DIT   ELOC  FanIn  FanOut  LCOM    LOC  ...   WLOCNAMM   WMC  WMCNAMM  \\\n",
       "0      1.0   11.0    3.0     4.0   0.0   11.0  ...   6.000000   1.0      0.0   \n",
       "1      1.0   34.0    0.0    10.0   0.0   34.0  ...  32.000000   4.0      0.0   \n",
       "2      1.0   18.0    1.0     3.0   0.0   18.0  ...  16.000000   4.0      0.0   \n",
       "3      1.0    3.0   17.0     0.0   0.0    3.0  ...   1.000000   1.0      0.0   \n",
       "4      1.0   18.0    3.0     8.0   1.0   18.0  ...   9.500000   7.0      0.0   \n",
       "...    ...    ...    ...     ...   ...    ...  ...        ...   ...      ...   \n",
       "20857  2.0   18.0   12.0     2.0   0.0   18.0  ...   5.000000   6.0      0.0   \n",
       "20858  2.0  176.0    0.0    57.0  15.0  176.0  ...  12.363636  30.0      0.0   \n",
       "20859  1.0   11.0    4.0     0.0   0.0   11.0  ...        NaN   0.0      0.0   \n",
       "20860  1.0  421.0  320.0    26.0   0.0  421.0  ...  41.000000  21.0      0.0   \n",
       "20861  2.0   65.0    0.0    15.0   0.0   65.0  ...  59.000000   5.0      0.0   \n",
       "\n",
       "       NMNOPARAM  CDSBP  CC  LC  LZC  RB  SC  \n",
       "0            0.0      0   0   0    0   0   0  \n",
       "1            0.0      0   0   0    0   0   0  \n",
       "2            1.0      0   0   0    0   0   0  \n",
       "3            0.0      0   0   0    0   0   0  \n",
       "4            0.0      0   0   0    0   0   0  \n",
       "...          ...    ...  ..  ..  ...  ..  ..  \n",
       "20857        1.0      0   0   0    0   0   0  \n",
       "20858       10.0      0   0   0    0   0   0  \n",
       "20859        0.0      0   0   0    0   0   0  \n",
       "20860        1.0      0   0   0    0   0   0  \n",
       "20861        1.0      0   0   0    0   0   0  \n",
       "\n",
       "[20862 rows x 28 columns]"
      ]
     },
     "execution_count": 900,
     "metadata": {},
     "output_type": "execute_result"
    }
   ],
   "source": [
    "result"
   ]
  },
  {
   "cell_type": "code",
   "execution_count": 901,
   "metadata": {},
   "outputs": [
    {
     "data": {
      "text/plain": [
       "<AxesSubplot: xlabel='CDSBP', ylabel='Count'>"
      ]
     },
     "execution_count": 901,
     "metadata": {},
     "output_type": "execute_result"
    },
    {
     "data": {
      "image/png": "[encoded data removed]",
      "text/plain": [
       "<Figure size 640x480 with 1 Axes>"
      ]
     },
     "metadata": {},
     "output_type": "display_data"
    }
   ],
   "source": [
    "sns.histplot(result['CDSBP'], legend=True, color='yellow')"
   ]
  },
  {
   "cell_type": "code",
   "execution_count": 902,
   "metadata": {},
   "outputs": [
    {
     "data": {
      "text/plain": [
       "<AxesSubplot: xlabel='CC', ylabel='Count'>"
      ]
     },
     "execution_count": 902,
     "metadata": {},
     "output_type": "execute_result"
    },
    {
     "data": {
      "image/png": "[encoded data removed]",
      "text/plain": [
       "<Figure size 640x480 with 1 Axes>"
      ]
     },
     "metadata": {},
     "output_type": "display_data"
    }
   ],
   "source": [
    "sns.histplot(result['CC'], legend=True, color='yellow')"
   ]
  },
  {
   "cell_type": "code",
   "execution_count": 903,
   "metadata": {},
   "outputs": [
    {
     "data": {
      "text/plain": [
       "<AxesSubplot: xlabel='LC', ylabel='Count'>"
      ]
     },
     "execution_count": 903,
     "metadata": {},
     "output_type": "execute_result"
    },
    {
     "data": {
      "image/png": "[encoded data removed]",
      "text/plain": [
       "<Figure size 640x480 with 1 Axes>"
      ]
     },
     "metadata": {},
     "output_type": "display_data"
    }
   ],
   "source": [
    "sns.histplot(result['LC'], legend=True, color='yellow')"
   ]
  },
  {
   "cell_type": "code",
   "execution_count": 904,
   "metadata": {},
   "outputs": [
    {
     "data": {
      "text/plain": [
       "<AxesSubplot: xlabel='LZC', ylabel='Count'>"
      ]
     },
     "execution_count": 904,
     "metadata": {},
     "output_type": "execute_result"
    },
    {
     "data": {
      "image/png": "[encoded data removed]",
      "text/plain": [
       "<Figure size 640x480 with 1 Axes>"
      ]
     },
     "metadata": {},
     "output_type": "display_data"
    }
   ],
   "source": [
    "sns.histplot(result['LZC'], legend=True, color='yellow')"
   ]
  },
  {
   "cell_type": "code",
   "execution_count": 905,
   "metadata": {},
   "outputs": [
    {
     "data": {
      "text/plain": [
       "<AxesSubplot: xlabel='RB', ylabel='Count'>"
      ]
     },
     "execution_count": 905,
     "metadata": {},
     "output_type": "execute_result"
    },
    {
     "data": {
      "image/png": "[encoded data removed]",
      "text/plain": [
       "<Figure size 640x480 with 1 Axes>"
      ]
     },
     "metadata": {},
     "output_type": "display_data"
    }
   ],
   "source": [
    "sns.histplot(result['RB'], legend=True, color='yellow')"
   ]
  },
  {
   "cell_type": "code",
   "execution_count": 906,
   "metadata": {},
   "outputs": [
    {
     "data": {
      "text/plain": [
       "<AxesSubplot: xlabel='SC', ylabel='Count'>"
      ]
     },
     "execution_count": 906,
     "metadata": {},
     "output_type": "execute_result"
    },
    {
     "data": {
      "image/png": "[encoded data removed]",
      "text/plain": [
       "<Figure size 640x480 with 1 Axes>"
      ]
     },
     "metadata": {},
     "output_type": "display_data"
    }
   ],
   "source": [
    "sns.histplot(result['SC'], legend=True, color='yellow')"
   ]
  },
  {
   "cell_type": "code",
   "execution_count": 907,
   "metadata": {},
   "outputs": [
    {
     "data": {
      "text/plain": [
       "0    20543\n",
       "1      319\n",
       "Name: CC, dtype: int64"
      ]
     },
     "execution_count": 907,
     "metadata": {},
     "output_type": "execute_result"
    }
   ],
   "source": [
    "result['CC'].value_counts()"
   ]
  },
  {
   "cell_type": "code",
   "execution_count": 908,
   "metadata": {},
   "outputs": [
    {
     "data": {
      "text/plain": [
       "ComponentName    0\n",
       "Project          0\n",
       "CBO              0\n",
       "CYCLO            0\n",
       "DIT              0\n",
       "ELOC             0\n",
       "FanIn            0\n",
       "FanOut           0\n",
       "LCOM             0\n",
       "LOC              0\n",
       "LOCNAMM          0\n",
       "NOA              0\n",
       "NOC              0\n",
       "NOM              0\n",
       "NOMNAMM          0\n",
       "NOPA             0\n",
       "PMMM             0\n",
       "PRB              0\n",
       "WLOCNAMM         0\n",
       "WMC              0\n",
       "WMCNAMM          0\n",
       "NMNOPARAM        0\n",
       "CDSBP            0\n",
       "CC               0\n",
       "LC               0\n",
       "LZC              0\n",
       "RB               0\n",
       "SC               0\n",
       "dtype: int64"
      ]
     },
     "execution_count": 908,
     "metadata": {},
     "output_type": "execute_result"
    }
   ],
   "source": [
    "result.dropna(inplace=True)\n",
    "result.columns\n",
    "result.isnull().sum()"
   ]
  },
  {
   "cell_type": "code",
   "execution_count": 909,
   "metadata": {},
   "outputs": [
    {
     "data": {
      "text/plain": [
       "count    20143.000000\n",
       "mean         0.061163\n",
       "std          0.239634\n",
       "min          0.000000\n",
       "25%          0.000000\n",
       "50%          0.000000\n",
       "75%          0.000000\n",
       "max          1.000000\n",
       "Name: SC, dtype: float64"
      ]
     },
     "execution_count": 909,
     "metadata": {},
     "output_type": "execute_result"
    }
   ],
   "source": [
    "result['SC'].describe().transpose()"
   ]
  },
  {
   "cell_type": "code",
   "execution_count": 910,
   "metadata": {},
   "outputs": [],
   "source": [
    "result.drop(['ComponentName', 'Project'], axis=1, inplace=True)"
   ]
  },
  {
   "cell_type": "code",
   "execution_count": 911,
   "metadata": {},
   "outputs": [],
   "source": [
    "from sklearn.utils import resample\n",
    "\n",
    "df_maj = result[result['SC'] == 0]\n",
    "df_min = result[result['SC'] == 1]\n",
    "# df_min_over = resample(df_min, \n",
    "#                                  replace=True,     # sample with replacement\n",
    "#                                  n_samples=5000,    # to match majority class\n",
    "#                                  random_state=123) # reproducible results\n",
    "df_maj_und = resample(df_maj, \n",
    "                                 replace=False,     # sample with replacement\n",
    "                                 n_samples=6000,    # to match majority class\n",
    "                                 random_state=123) # reproducible results\n",
    "\n",
    "# df_over = pd.concat([df_maj, df_min_over])\n",
    "df_under = pd.concat([df_min, df_maj_und])\n",
    "# finito il bilanciamento\n",
    "\n",
    "X = df_under.drop(['SC'], axis=1)\n",
    "y = df_under['SC']\n",
    "\n",
    "# Split dei dati in training set e test set\n",
    "X_train, X_test, y_train, y_test = train_test_split(X, y, test_size=0.3, random_state=42)\n",
    "\n",
    "#normalizzo\n",
    "normalizer = MinMaxScaler()\n",
    "transformer = normalizer.fit(X_train)\n",
    "X_train_normalized = transformer.transform(X_train)\n",
    "X_test_normalized = transformer.transform(X_test)\n",
    "\n",
    "# df_maj"
   ]
  },
  {
   "cell_type": "code",
   "execution_count": 912,
   "metadata": {},
   "outputs": [
    {
     "data": {
      "text/plain": [
       "<AxesSubplot: xlabel='SC', ylabel='Count'>"
      ]
     },
     "execution_count": 912,
     "metadata": {},
     "output_type": "execute_result"
    },
    {
     "data": {
      "image/png": "[encoded data removed]",
      "text/plain": [
       "<Figure size 640x480 with 1 Axes>"
      ]
     },
     "metadata": {},
     "output_type": "display_data"
    }
   ],
   "source": [
    "sns.histplot(df_under['SC'], legend=True, color='yellow')"
   ]
  },
  {
   "cell_type": "code",
   "execution_count": 913,
   "metadata": {},
   "outputs": [
    {
     "name": "stdout",
     "output_type": "stream",
     "text": [
      "Numero di punti etichettati erroneamente su un totale di 2170 punti : 16\n"
     ]
    }
   ],
   "source": [
    "rf = RandomForestClassifier(n_estimators=100, random_state=42)\n",
    "rf.fit(X_train_normalized, y_train)\n",
    "y_pred = rf.predict(X_test_normalized)\n",
    "print(\"Numero di punti etichettati erroneamente su un totale di %d punti : %d\"% (X_test_normalized.shape[0], (y_test != y_pred).sum()))"
   ]
  },
  {
   "cell_type": "code",
   "execution_count": 914,
   "metadata": {},
   "outputs": [
    {
     "data": {
      "text/plain": [
       "0.992626728110599"
      ]
     },
     "execution_count": 914,
     "metadata": {},
     "output_type": "execute_result"
    }
   ],
   "source": [
    "precision_score(y_test, y_pred, average='micro')"
   ]
  },
  {
   "cell_type": "code",
   "execution_count": 915,
   "metadata": {},
   "outputs": [
    {
     "data": {
      "text/plain": [
       "0.992626728110599"
      ]
     },
     "execution_count": 915,
     "metadata": {},
     "output_type": "execute_result"
    }
   ],
   "source": [
    "accuracy_score(y_test, y_pred)"
   ]
  },
  {
   "cell_type": "code",
   "execution_count": 916,
   "metadata": {},
   "outputs": [
    {
     "data": {
      "text/plain": [
       "0.992626728110599"
      ]
     },
     "execution_count": 916,
     "metadata": {},
     "output_type": "execute_result"
    }
   ],
   "source": [
    "recall_score(y_test, y_pred, average='micro')"
   ]
  },
  {
   "cell_type": "code",
   "execution_count": 917,
   "metadata": {},
   "outputs": [
    {
     "data": {
      "text/plain": [
       "0.987446052738149"
      ]
     },
     "execution_count": 917,
     "metadata": {},
     "output_type": "execute_result"
    }
   ],
   "source": [
    "f1_score(y_test, y_pred, average='macro')"
   ]
  },
  {
   "cell_type": "code",
   "execution_count": 918,
   "metadata": {},
   "outputs": [
    {
     "data": {
      "text/plain": [
       "0.9748969432038531"
      ]
     },
     "execution_count": 918,
     "metadata": {},
     "output_type": "execute_result"
    }
   ],
   "source": [
    "matthews_corrcoef(y_test, y_pred)"
   ]
  },
  {
   "cell_type": "code",
   "execution_count": 919,
   "metadata": {},
   "outputs": [
    {
     "data": {
      "text/plain": [
       "<AxesSubplot: >"
      ]
     },
     "execution_count": 919,
     "metadata": {},
     "output_type": "execute_result"
    },
    {
     "data": {
      "image/png": "[encoded data removed]",
      "text/plain": [
       "<Figure size 640x480 with 2 Axes>"
      ]
     },
     "metadata": {},
     "output_type": "display_data"
    }
   ],
   "source": [
    "sns.heatmap([\n",
    "    [\n",
    "        sum(y_pred[y_test == 0] == 0),\n",
    "        sum(y_pred[y_test == 0] == 1)\n",
    "    ],\n",
    "    [\n",
    "        sum(y_pred[y_test == 1] == 0),\n",
    "        sum(y_pred[y_test == 1] == 1)\n",
    "    ]\n",
    "], annot=True, fmt=\"\")"
   ]
  },
  {
   "cell_type": "code",
   "execution_count": 920,
   "metadata": {},
   "outputs": [
    {
     "data": {
      "text/plain": [
       "<AxesSubplot: >"
      ]
     },
     "execution_count": 920,
     "metadata": {},
     "output_type": "execute_result"
    },
    {
     "data": {
      "image/png": "[encoded data removed]",
      "text/plain": [
       "<Figure size 640x480 with 1 Axes>"
      ]
     },
     "metadata": {},
     "output_type": "display_data"
    }
   ],
   "source": [
    "sns.boxplot(y_pred)"
   ]
  }
 ],
 "metadata": {
  "kernelspec": {
   "display_name": "Python 3",
   "language": "python",
   "name": "python3"
  },
  "language_info": {
   "codemirror_mode": {
    "name": "ipython",
    "version": 3
   },
   "file_extension": ".py",
   "mimetype": "text/x-python",
   "name": "python",
   "nbconvert_exporter": "python",
   "pygments_lexer": "ipython3",
   "version": "3.10.10"
  },
  "orig_nbformat": 4,
  "vscode": {
   "interpreter": {
    "hash": "5daeacce71524d7368b9d895b41c791b9aa30a6c9a55573da39c04bdfcf96684"
   }
  }
 },
 "nbformat": 4,
 "nbformat_minor": 2
}
