{
  "nbformat": 4,
  "nbformat_minor": 0,
  "metadata": {
    "colab": {
      "provenance": [],
      "gpuType": "T4"
    },
    "kernelspec": {
      "name": "python3",
      "display_name": "Python 3"
    },
    "language_info": {
      "name": "python"
    },
    "accelerator": "GPU",
    "gpuClass": "standard"
  },
  "cells": [
    {
      "cell_type": "code",
      "execution_count": 1,
      "metadata": {
        "id": "ID7T5RDUhHSd",
        "colab": {
          "base_uri": "https://localhost:8080/"
        },
        "outputId": "90d53c6e-fa4c-49bb-f4fd-d4d070cae28b"
      },
      "outputs": [
        {
          "output_type": "stream",
          "name": "stdout",
          "text": [
            "Drive already mounted at /content/drive; to attempt to forcibly remount, call drive.mount(\"/content/drive\", force_remount=True).\n"
          ]
        }
      ],
      "source": [
        "from google.colab import drive\n",
        "drive.mount('/content/drive')"
      ]
    },
    {
      "cell_type": "code",
      "source": [
        "!pip install transformers\n"
      ],
      "metadata": {
        "colab": {
          "base_uri": "https://localhost:8080/"
        },
        "id": "dIPMET94jBPC",
        "outputId": "08c188eb-8a74-45d4-a669-1be6bedfbc8a"
      },
      "execution_count": 2,
      "outputs": [
        {
          "output_type": "stream",
          "name": "stdout",
          "text": [
            "Looking in indexes: https://pypi.org/simple, https://us-python.pkg.dev/colab-wheels/public/simple/\n",
            "Requirement already satisfied: transformers in /usr/local/lib/python3.10/dist-packages (4.29.2)\n",
            "Requirement already satisfied: filelock in /usr/local/lib/python3.10/dist-packages (from transformers) (3.12.0)\n",
            "Requirement already satisfied: huggingface-hub<1.0,>=0.14.1 in /usr/local/lib/python3.10/dist-packages (from transformers) (0.14.1)\n",
            "Requirement already satisfied: numpy>=1.17 in /usr/local/lib/python3.10/dist-packages (from transformers) (1.22.4)\n",
            "Requirement already satisfied: packaging>=20.0 in /usr/local/lib/python3.10/dist-packages (from transformers) (23.1)\n",
            "Requirement already satisfied: pyyaml>=5.1 in /usr/local/lib/python3.10/dist-packages (from transformers) (6.0)\n",
            "Requirement already satisfied: regex!=2019.12.17 in /usr/local/lib/python3.10/dist-packages (from transformers) (2022.10.31)\n",
            "Requirement already satisfied: requests in /usr/local/lib/python3.10/dist-packages (from transformers) (2.27.1)\n",
            "Requirement already satisfied: tokenizers!=0.11.3,<0.14,>=0.11.1 in /usr/local/lib/python3.10/dist-packages (from transformers) (0.13.3)\n",
            "Requirement already satisfied: tqdm>=4.27 in /usr/local/lib/python3.10/dist-packages (from transformers) (4.65.0)\n",
            "Requirement already satisfied: fsspec in /usr/local/lib/python3.10/dist-packages (from huggingface-hub<1.0,>=0.14.1->transformers) (2023.4.0)\n",
            "Requirement already satisfied: typing-extensions>=3.7.4.3 in /usr/local/lib/python3.10/dist-packages (from huggingface-hub<1.0,>=0.14.1->transformers) (4.5.0)\n",
            "Requirement already satisfied: urllib3<1.27,>=1.21.1 in /usr/local/lib/python3.10/dist-packages (from requests->transformers) (1.26.15)\n",
            "Requirement already satisfied: certifi>=2017.4.17 in /usr/local/lib/python3.10/dist-packages (from requests->transformers) (2022.12.7)\n",
            "Requirement already satisfied: charset-normalizer~=2.0.0 in /usr/local/lib/python3.10/dist-packages (from requests->transformers) (2.0.12)\n",
            "Requirement already satisfied: idna<4,>=2.5 in /usr/local/lib/python3.10/dist-packages (from requests->transformers) (3.4)\n"
          ]
        }
      ]
    },
    {
      "cell_type": "code",
      "source": [
        "!pip install torch\n"
      ],
      "metadata": {
        "colab": {
          "base_uri": "https://localhost:8080/"
        },
        "id": "ZahQ0GsPqM-Z",
        "outputId": "f2f2e0f8-79d2-44df-a75c-b726bbb92b38"
      },
      "execution_count": 3,
      "outputs": [
        {
          "output_type": "stream",
          "name": "stdout",
          "text": [
            "Looking in indexes: https://pypi.org/simple, https://us-python.pkg.dev/colab-wheels/public/simple/\n",
            "Requirement already satisfied: torch in /usr/local/lib/python3.10/dist-packages (2.0.0+cu118)\n",
            "Requirement already satisfied: filelock in /usr/local/lib/python3.10/dist-packages (from torch) (3.12.0)\n",
            "Requirement already satisfied: typing-extensions in /usr/local/lib/python3.10/dist-packages (from torch) (4.5.0)\n",
            "Requirement already satisfied: sympy in /usr/local/lib/python3.10/dist-packages (from torch) (1.11.1)\n",
            "Requirement already satisfied: networkx in /usr/local/lib/python3.10/dist-packages (from torch) (3.1)\n",
            "Requirement already satisfied: jinja2 in /usr/local/lib/python3.10/dist-packages (from torch) (3.1.2)\n",
            "Requirement already satisfied: triton==2.0.0 in /usr/local/lib/python3.10/dist-packages (from torch) (2.0.0)\n",
            "Requirement already satisfied: cmake in /usr/local/lib/python3.10/dist-packages (from triton==2.0.0->torch) (3.25.2)\n",
            "Requirement already satisfied: lit in /usr/local/lib/python3.10/dist-packages (from triton==2.0.0->torch) (16.0.3)\n",
            "Requirement already satisfied: MarkupSafe>=2.0 in /usr/local/lib/python3.10/dist-packages (from jinja2->torch) (2.1.2)\n",
            "Requirement already satisfied: mpmath>=0.19 in /usr/local/lib/python3.10/dist-packages (from sympy->torch) (1.3.0)\n"
          ]
        }
      ]
    },
    {
      "cell_type": "code",
      "source": [
        "import pandas as pd\n",
        "from transformers import AutoTokenizer, AutoModelForSequenceClassification, Trainer, TrainingArguments\n",
        "import torch as pt\n",
        "from sklearn.model_selection import train_test_split\n",
        "import os\n",
        "import numpy as np\n",
        "import chardet\n",
        "from sklearn.metrics import accuracy_score, precision_score, recall_score,confusion_matrix\n",
        "import seaborn as sns\n",
        "from sklearn.metrics import accuracy_score, precision_recall_fscore_support\n"
      ],
      "metadata": {
        "id": "wkQ0Sz5OjCjB"
      },
      "execution_count": 4,
      "outputs": []
    },
    {
      "cell_type": "code",
      "source": [
        "# Caricamento del tokenizer e del modello pre-addestrato CodeBERT\n",
        "tokenizer = AutoTokenizer.from_pretrained('microsoft/codebert-base')\n",
        "model = AutoModelForSequenceClassification.from_pretrained('microsoft/codebert-base', num_labels=6)\n"
      ],
      "metadata": {
        "colab": {
          "base_uri": "https://localhost:8080/"
        },
        "id": "g3-JptpCjeAL",
        "outputId": "8372d5fc-d4e0-4fd1-aba7-8b5a8cab147b"
      },
      "execution_count": 5,
      "outputs": [
        {
          "output_type": "stream",
          "name": "stderr",
          "text": [
            "Some weights of the model checkpoint at microsoft/codebert-base were not used when initializing RobertaForSequenceClassification: ['pooler.dense.weight', 'pooler.dense.bias']\n",
            "- This IS expected if you are initializing RobertaForSequenceClassification from the checkpoint of a model trained on another task or with another architecture (e.g. initializing a BertForSequenceClassification model from a BertForPreTraining model).\n",
            "- This IS NOT expected if you are initializing RobertaForSequenceClassification from the checkpoint of a model that you expect to be exactly identical (initializing a BertForSequenceClassification model from a BertForSequenceClassification model).\n",
            "Some weights of RobertaForSequenceClassification were not initialized from the model checkpoint at microsoft/codebert-base and are newly initialized: ['classifier.out_proj.bias', 'classifier.out_proj.weight', 'classifier.dense.weight', 'classifier.dense.bias']\n",
            "You should probably TRAIN this model on a down-stream task to be able to use it for predictions and inference.\n"
          ]
        }
      ]
    },
    {
      "cell_type": "code",
      "source": [
        "dataframe = pd.read_csv(\"drive/MyDrive/Colab Notebooks/code smells tesi/Code_Smells_NLP-1/dataset/final_dataset.csv\")\n"
      ],
      "metadata": {
        "id": "rJsU045KjhJ-"
      },
      "execution_count": 6,
      "outputs": []
    },
    {
      "cell_type": "code",
      "source": [
        "dataframe"
      ],
      "metadata": {
        "colab": {
          "base_uri": "https://localhost:8080/",
          "height": 424
        },
        "id": "U2HSfOwej7hk",
        "outputId": "b4d1f1cb-feb6-4f2e-ea8f-89dc0c7ed91b"
      },
      "execution_count": 7,
      "outputs": [
        {
          "output_type": "execute_result",
          "data": {
            "text/plain": [
              "                                              Component  CDSBP  CC  LC  LZC  \\\n",
              "0     /*\\n *  Licensed to the Apache Software Founda...      1   0   0    0   \n",
              "1     /*\\n *  Licensed to the Apache Software Founda...      0   0   0    0   \n",
              "2     /*\\n *  Licensed to the Apache Software Founda...      0   0   0    0   \n",
              "3     /*\\n *  Licensed to the Apache Software Founda...      0   0   0    0   \n",
              "4     /*\\n *  Licensed to the Apache Software Founda...      0   0   0    0   \n",
              "...                                                 ...    ...  ..  ..  ...   \n",
              "2512  /*\\n * The Apache Software License, Version 1....      0   0   0    0   \n",
              "2513  /*\\n * The Apache Software License, Version 1....      0   0   0    0   \n",
              "2514  /*\\n * The Apache Software License, Version 1....      0   0   0    0   \n",
              "2515  /*\\n * The Apache Software License, Version 1....      0   0   0    0   \n",
              "2516  // XMLReaderFactory.java - factory for creatin...      0   0   0    0   \n",
              "\n",
              "      RB  SC  \n",
              "0      0   0  \n",
              "1      0   1  \n",
              "2      0   1  \n",
              "3      0   1  \n",
              "4      0   1  \n",
              "...   ..  ..  \n",
              "2512   0   1  \n",
              "2513   0   1  \n",
              "2514   0   1  \n",
              "2515   0   1  \n",
              "2516   0   1  \n",
              "\n",
              "[2517 rows x 7 columns]"
            ],
            "text/html": [
              "\n",
              "  <div id=\"df-eeec393b-ad4f-46aa-817d-7da7cd2294b6\">\n",
              "    <div class=\"colab-df-container\">\n",
              "      <div>\n",
              "<style scoped>\n",
              "    .dataframe tbody tr th:only-of-type {\n",
              "        vertical-align: middle;\n",
              "    }\n",
              "\n",
              "    .dataframe tbody tr th {\n",
              "        vertical-align: top;\n",
              "    }\n",
              "\n",
              "    .dataframe thead th {\n",
              "        text-align: right;\n",
              "    }\n",
              "</style>\n",
              "<table border=\"1\" class=\"dataframe\">\n",
              "  <thead>\n",
              "    <tr style=\"text-align: right;\">\n",
              "      <th></th>\n",
              "      <th>Component</th>\n",
              "      <th>CDSBP</th>\n",
              "      <th>CC</th>\n",
              "      <th>LC</th>\n",
              "      <th>LZC</th>\n",
              "      <th>RB</th>\n",
              "      <th>SC</th>\n",
              "    </tr>\n",
              "  </thead>\n",
              "  <tbody>\n",
              "    <tr>\n",
              "      <th>0</th>\n",
              "      <td>/*\\n *  Licensed to the Apache Software Founda...</td>\n",
              "      <td>1</td>\n",
              "      <td>0</td>\n",
              "      <td>0</td>\n",
              "      <td>0</td>\n",
              "      <td>0</td>\n",
              "      <td>0</td>\n",
              "    </tr>\n",
              "    <tr>\n",
              "      <th>1</th>\n",
              "      <td>/*\\n *  Licensed to the Apache Software Founda...</td>\n",
              "      <td>0</td>\n",
              "      <td>0</td>\n",
              "      <td>0</td>\n",
              "      <td>0</td>\n",
              "      <td>0</td>\n",
              "      <td>1</td>\n",
              "    </tr>\n",
              "    <tr>\n",
              "      <th>2</th>\n",
              "      <td>/*\\n *  Licensed to the Apache Software Founda...</td>\n",
              "      <td>0</td>\n",
              "      <td>0</td>\n",
              "      <td>0</td>\n",
              "      <td>0</td>\n",
              "      <td>0</td>\n",
              "      <td>1</td>\n",
              "    </tr>\n",
              "    <tr>\n",
              "      <th>3</th>\n",
              "      <td>/*\\n *  Licensed to the Apache Software Founda...</td>\n",
              "      <td>0</td>\n",
              "      <td>0</td>\n",
              "      <td>0</td>\n",
              "      <td>0</td>\n",
              "      <td>0</td>\n",
              "      <td>1</td>\n",
              "    </tr>\n",
              "    <tr>\n",
              "      <th>4</th>\n",
              "      <td>/*\\n *  Licensed to the Apache Software Founda...</td>\n",
              "      <td>0</td>\n",
              "      <td>0</td>\n",
              "      <td>0</td>\n",
              "      <td>0</td>\n",
              "      <td>0</td>\n",
              "      <td>1</td>\n",
              "    </tr>\n",
              "    <tr>\n",
              "      <th>...</th>\n",
              "      <td>...</td>\n",
              "      <td>...</td>\n",
              "      <td>...</td>\n",
              "      <td>...</td>\n",
              "      <td>...</td>\n",
              "      <td>...</td>\n",
              "      <td>...</td>\n",
              "    </tr>\n",
              "    <tr>\n",
              "      <th>2512</th>\n",
              "      <td>/*\\n * The Apache Software License, Version 1....</td>\n",
              "      <td>0</td>\n",
              "      <td>0</td>\n",
              "      <td>0</td>\n",
              "      <td>0</td>\n",
              "      <td>0</td>\n",
              "      <td>1</td>\n",
              "    </tr>\n",
              "    <tr>\n",
              "      <th>2513</th>\n",
              "      <td>/*\\n * The Apache Software License, Version 1....</td>\n",
              "      <td>0</td>\n",
              "      <td>0</td>\n",
              "      <td>0</td>\n",
              "      <td>0</td>\n",
              "      <td>0</td>\n",
              "      <td>1</td>\n",
              "    </tr>\n",
              "    <tr>\n",
              "      <th>2514</th>\n",
              "      <td>/*\\n * The Apache Software License, Version 1....</td>\n",
              "      <td>0</td>\n",
              "      <td>0</td>\n",
              "      <td>0</td>\n",
              "      <td>0</td>\n",
              "      <td>0</td>\n",
              "      <td>1</td>\n",
              "    </tr>\n",
              "    <tr>\n",
              "      <th>2515</th>\n",
              "      <td>/*\\n * The Apache Software License, Version 1....</td>\n",
              "      <td>0</td>\n",
              "      <td>0</td>\n",
              "      <td>0</td>\n",
              "      <td>0</td>\n",
              "      <td>0</td>\n",
              "      <td>1</td>\n",
              "    </tr>\n",
              "    <tr>\n",
              "      <th>2516</th>\n",
              "      <td>// XMLReaderFactory.java - factory for creatin...</td>\n",
              "      <td>0</td>\n",
              "      <td>0</td>\n",
              "      <td>0</td>\n",
              "      <td>0</td>\n",
              "      <td>0</td>\n",
              "      <td>1</td>\n",
              "    </tr>\n",
              "  </tbody>\n",
              "</table>\n",
              "<p>2517 rows × 7 columns</p>\n",
              "</div>\n",
              "      <button class=\"colab-df-convert\" onclick=\"convertToInteractive('df-eeec393b-ad4f-46aa-817d-7da7cd2294b6')\"\n",
              "              title=\"Convert this dataframe to an interactive table.\"\n",
              "              style=\"display:none;\">\n",
              "        \n",
              "  <svg xmlns=\"http://www.w3.org/2000/svg\" height=\"24px\"viewBox=\"0 0 24 24\"\n",
              "       width=\"24px\">\n",
              "    <path d=\"M0 0h24v24H0V0z\" fill=\"none\"/>\n",
              "    <path d=\"M18.56 5.44l.94 2.06.94-2.06 2.06-.94-2.06-.94-.94-2.06-.94 2.06-2.06.94zm-11 1L8.5 8.5l.94-2.06 2.06-.94-2.06-.94L8.5 2.5l-.94 2.06-2.06.94zm10 10l.94 2.06.94-2.06 2.06-.94-2.06-.94-.94-2.06-.94 2.06-2.06.94z\"/><path d=\"M17.41 7.96l-1.37-1.37c-.4-.4-.92-.59-1.43-.59-.52 0-1.04.2-1.43.59L10.3 9.45l-7.72 7.72c-.78.78-.78 2.05 0 2.83L4 21.41c.39.39.9.59 1.41.59.51 0 1.02-.2 1.41-.59l7.78-7.78 2.81-2.81c.8-.78.8-2.07 0-2.86zM5.41 20L4 18.59l7.72-7.72 1.47 1.35L5.41 20z\"/>\n",
              "  </svg>\n",
              "      </button>\n",
              "      \n",
              "  <style>\n",
              "    .colab-df-container {\n",
              "      display:flex;\n",
              "      flex-wrap:wrap;\n",
              "      gap: 12px;\n",
              "    }\n",
              "\n",
              "    .colab-df-convert {\n",
              "      background-color: #E8F0FE;\n",
              "      border: none;\n",
              "      border-radius: 50%;\n",
              "      cursor: pointer;\n",
              "      display: none;\n",
              "      fill: #1967D2;\n",
              "      height: 32px;\n",
              "      padding: 0 0 0 0;\n",
              "      width: 32px;\n",
              "    }\n",
              "\n",
              "    .colab-df-convert:hover {\n",
              "      background-color: #E2EBFA;\n",
              "      box-shadow: 0px 1px 2px rgba(60, 64, 67, 0.3), 0px 1px 3px 1px rgba(60, 64, 67, 0.15);\n",
              "      fill: #174EA6;\n",
              "    }\n",
              "\n",
              "    [theme=dark] .colab-df-convert {\n",
              "      background-color: #3B4455;\n",
              "      fill: #D2E3FC;\n",
              "    }\n",
              "\n",
              "    [theme=dark] .colab-df-convert:hover {\n",
              "      background-color: #434B5C;\n",
              "      box-shadow: 0px 1px 3px 1px rgba(0, 0, 0, 0.15);\n",
              "      filter: drop-shadow(0px 1px 2px rgba(0, 0, 0, 0.3));\n",
              "      fill: #FFFFFF;\n",
              "    }\n",
              "  </style>\n",
              "\n",
              "      <script>\n",
              "        const buttonEl =\n",
              "          document.querySelector('#df-eeec393b-ad4f-46aa-817d-7da7cd2294b6 button.colab-df-convert');\n",
              "        buttonEl.style.display =\n",
              "          google.colab.kernel.accessAllowed ? 'block' : 'none';\n",
              "\n",
              "        async function convertToInteractive(key) {\n",
              "          const element = document.querySelector('#df-eeec393b-ad4f-46aa-817d-7da7cd2294b6');\n",
              "          const dataTable =\n",
              "            await google.colab.kernel.invokeFunction('convertToInteractive',\n",
              "                                                     [key], {});\n",
              "          if (!dataTable) return;\n",
              "\n",
              "          const docLinkHtml = 'Like what you see? Visit the ' +\n",
              "            '<a target=\"_blank\" href=https://colab.research.google.com/notebooks/data_table.ipynb>data table notebook</a>'\n",
              "            + ' to learn more about interactive tables.';\n",
              "          element.innerHTML = '';\n",
              "          dataTable['output_type'] = 'display_data';\n",
              "          await google.colab.output.renderOutput(dataTable, element);\n",
              "          const docLink = document.createElement('div');\n",
              "          docLink.innerHTML = docLinkHtml;\n",
              "          element.appendChild(docLink);\n",
              "        }\n",
              "      </script>\n",
              "    </div>\n",
              "  </div>\n",
              "  "
            ]
          },
          "metadata": {},
          "execution_count": 7
        }
      ]
    },
    {
      "cell_type": "code",
      "source": [
        "import nltk\n",
        "import re\n",
        "from nltk.corpus import stopwords\n",
        "nltk.download('stopwords')\n",
        "\n",
        "stop_words = set(stopwords.words('italian'))\n",
        "\n",
        "def remove_comments(code):\n",
        "    # Rimuove i commenti su una singola riga\n",
        "    code = re.sub(r'//.*', '', code)\n",
        "    # Rimuove i commenti su più righe\n",
        "    code = re.sub(r'/\\*.*?\\*/', '', code, flags=re.DOTALL)\n",
        "    # Rimuove le stopwords\n",
        "    tokens = [word.lower() for word in code.split() if word.lower() not in stop_words]\n",
        "    filtered_text = ' '.join(tokens)\n",
        "    # Rimuoviamo gli import\n",
        "    code = re.sub(r'import\\s+.*?;', '', code, flags=re.DOTALL)\n",
        "    # Rimuoviamo i package\n",
        "    code = re.sub(r'package\\s+.*?;', '', code, flags=re.DOTALL)\n",
        "    #Rimuove \\n e \\t\n",
        "    code = re.sub(r'[\\n\\t]', '', code)\n",
        "    return code\n",
        "\n",
        "for i in range(len(dataframe)):\n",
        "    dataframe['Component'][i] = remove_comments(dataframe['Component'][i])"
      ],
      "metadata": {
        "colab": {
          "base_uri": "https://localhost:8080/"
        },
        "id": "qq1FfqzUXeZJ",
        "outputId": "5c7b9d55-bcc8-44f5-9c6c-a2eb39c56cce"
      },
      "execution_count": 8,
      "outputs": [
        {
          "output_type": "stream",
          "name": "stderr",
          "text": [
            "[nltk_data] Downloading package stopwords to /root/nltk_data...\n",
            "[nltk_data]   Package stopwords is already up-to-date!\n",
            "<ipython-input-8-ac4c11036a49>:25: SettingWithCopyWarning: \n",
            "A value is trying to be set on a copy of a slice from a DataFrame\n",
            "\n",
            "See the caveats in the documentation: https://pandas.pydata.org/pandas-docs/stable/user_guide/indexing.html#returning-a-view-versus-a-copy\n",
            "  dataframe['Component'][i] = remove_comments(dataframe['Component'][i])\n"
          ]
        }
      ]
    },
    {
      "cell_type": "code",
      "source": [
        "# Creazione X e y. X = dataset senza le etichette, y = etichette\n",
        "dataframe2 = dataframe.drop(columns=['CDSBP','CC','LC','LZC','RB','SC'])\n",
        "y = dataframe[['CDSBP','CC','LC','LZC','RB','SC']]"
      ],
      "metadata": {
        "id": "W53vQRE5kEYi"
      },
      "execution_count": 9,
      "outputs": []
    },
    {
      "cell_type": "code",
      "source": [
        "# Divisione in train, validation e test set\n",
        "X_train, X_val_test, Y_train, Y_val_test = train_test_split(dataframe2, y, test_size=0.4, random_state=1)\n",
        "X_val, X_test, Y_val, Y_test = train_test_split(X_val_test, Y_val_test, test_size=0.5, random_state=1)"
      ],
      "metadata": {
        "id": "8oNVSnQNkHLp"
      },
      "execution_count": 10,
      "outputs": []
    },
    {
      "cell_type": "code",
      "source": [
        "# Tokenizzazione del set di addestramento\n",
        "train_encodings = tokenizer(list(X_train['Component']), truncation=True, padding=True, max_length = 256)\n",
        "train_labels = pt.tensor(Y_train.values)\n",
        "\n",
        "# Tokenizzazione del set di validazione\n",
        "val_encodings = tokenizer(list(X_val['Component']), truncation=True, padding=True, max_length = 256)\n",
        "val_labels = pt.tensor(Y_val.values)\n",
        "\n",
        "# Tokenizzazione del set di test\n",
        "test_encodings = tokenizer(list(X_test['Component']), truncation=True, padding=True, max_length = 256)\n",
        "test_labels = pt.tensor(Y_test.values)"
      ],
      "metadata": {
        "id": "c0i1eE6IpnBp"
      },
      "execution_count": 11,
      "outputs": []
    },
    {
      "cell_type": "code",
      "source": [
        "import torch\n",
        "device = torch.device(\"cuda\" if torch.cuda.is_available() else \"cpu\")"
      ],
      "metadata": {
        "id": "3Ew9D_t0zxSK"
      },
      "execution_count": 12,
      "outputs": []
    },
    {
      "cell_type": "code",
      "source": [
        "import torch\n",
        "from transformers import AdamW\n",
        "from torch.utils.data import DataLoader, TensorDataset\n",
        "import torch.nn as nn\n",
        "\n",
        "# Imposta la dimensione del batch desiderata\n",
        "batch_size = 32\n",
        "\n",
        "# Definizione del dispositivo (GPU o CPU)\n",
        "device = torch.device(\"cuda\" if torch.cuda.is_available() else \"cpu\")\n",
        "\n",
        "# Conversione dei dati tokenizzati in tensori PyTorch\n",
        "train_inputs = torch.tensor(train_encodings['input_ids']).to(device)\n",
        "train_labels = torch.tensor(Y_train.values).to(device)\n",
        "\n",
        "val_inputs = torch.tensor(val_encodings['input_ids']).to(device)\n",
        "val_labels = torch.tensor(Y_val.values).to(device)\n",
        "\n",
        "# Creazione del dataset di addestramento\n",
        "train_dataset = TensorDataset(train_inputs, train_labels)\n",
        "\n",
        "# Creazione del dataset di validazione\n",
        "val_dataset = TensorDataset(val_inputs, val_labels)\n",
        "\n",
        "# Crea i dataloader con la nuova batch_size\n",
        "train_dataloader = DataLoader(train_dataset, batch_size=batch_size, shuffle=True)\n",
        "val_dataloader = DataLoader(val_dataset, batch_size=batch_size)\n",
        "\n",
        "# Creazione dell'ottimizzatore\n",
        "optimizer = AdamW(model.parameters(), lr=1e-5)\n",
        "\n",
        "# Definizione della funzione di perdita\n",
        "loss_function = nn.CrossEntropyLoss()\n",
        "\n",
        "# Addestramento del modello\n",
        "model.to(device)\n",
        "model.train()\n",
        "\n",
        "for epoch in range(10):\n",
        "    for batch in train_dataloader:\n",
        "        optimizer.zero_grad()\n",
        "\n",
        "        inputs = batch[0].to(device)\n",
        "        labels = batch[1].to(device)\n",
        "        labels = labels.float()\n",
        "\n",
        "        outputs = model(inputs)\n",
        "        logits = outputs.logits\n",
        "\n",
        "        loss = loss_function(logits, labels)  # Calcola la loss tra logits e etichette\n",
        "        loss.backward()\n",
        "        optimizer.step()\n",
        "\n",
        "        print(f\"Epoch {epoch+1} - Loss: {loss.item()}\")\n",
        "        # Libera la memoria GPU\n",
        "        del inputs, labels\n",
        "        torch.cuda.empty_cache()\n",
        "\n",
        "\n"
      ],
      "metadata": {
        "colab": {
          "base_uri": "https://localhost:8080/"
        },
        "id": "FuiNq4kEqjCw",
        "outputId": "8835f417-aba4-4b6e-9cd0-943d1e8dbd05"
      },
      "execution_count": null,
      "outputs": [
        {
          "output_type": "stream",
          "name": "stderr",
          "text": [
            "/usr/local/lib/python3.10/dist-packages/transformers/optimization.py:407: FutureWarning: This implementation of AdamW is deprecated and will be removed in a future version. Use the PyTorch implementation torch.optim.AdamW instead, or set `no_deprecation_warning=True` to disable this warning\n",
            "  warnings.warn(\n"
          ]
        },
        {
          "output_type": "stream",
          "name": "stdout",
          "text": [
            "Epoch 1 - Loss: 1.7463082075119019\n",
            "Epoch 1 - Loss: 1.7939403057098389\n",
            "Epoch 1 - Loss: 1.7271020412445068\n",
            "Epoch 1 - Loss: 1.718988060951233\n",
            "Epoch 1 - Loss: 1.7726504802703857\n",
            "Epoch 1 - Loss: 1.665911078453064\n",
            "Epoch 1 - Loss: 1.6972355842590332\n",
            "Epoch 1 - Loss: 1.6497585773468018\n",
            "Epoch 1 - Loss: 1.5817337036132812\n",
            "Epoch 1 - Loss: 1.4810843467712402\n",
            "Epoch 1 - Loss: 1.5778088569641113\n",
            "Epoch 1 - Loss: 1.7689121961593628\n",
            "Epoch 1 - Loss: 1.4362437725067139\n",
            "Epoch 1 - Loss: 1.6493415832519531\n",
            "Epoch 1 - Loss: 1.5230481624603271\n",
            "Epoch 1 - Loss: 1.657636284828186\n",
            "Epoch 1 - Loss: 1.589686393737793\n",
            "Epoch 1 - Loss: 1.3173283338546753\n",
            "Epoch 1 - Loss: 1.5163565874099731\n",
            "Epoch 1 - Loss: 1.2984931468963623\n",
            "Epoch 1 - Loss: 1.3603193759918213\n",
            "Epoch 1 - Loss: 1.3254539966583252\n",
            "Epoch 1 - Loss: 1.540008783340454\n",
            "Epoch 1 - Loss: 1.6250306367874146\n",
            "Epoch 1 - Loss: 1.5172991752624512\n",
            "Epoch 1 - Loss: 1.6816797256469727\n",
            "Epoch 1 - Loss: 1.6358692646026611\n",
            "Epoch 1 - Loss: 1.350464105606079\n",
            "Epoch 1 - Loss: 1.406072974205017\n",
            "Epoch 1 - Loss: 1.5527331829071045\n",
            "Epoch 1 - Loss: 1.5102534294128418\n",
            "Epoch 1 - Loss: 1.5744596719741821\n",
            "Epoch 1 - Loss: 1.5935919284820557\n"
          ]
        }
      ]
    },
    {
      "cell_type": "code",
      "source": [
        "from sklearn.metrics import accuracy_score, precision_score, jaccard_score, hamming_loss\n",
        "\n",
        "val_accuracy = 0\n",
        "total_val_samples = 0\n",
        "precision_avg = 0\n",
        "jaccard_score_avg = 0\n",
        "hamming_loss_score = 0\n",
        "\n",
        "for batch in val_dataloader:\n",
        "    inputs = batch[0].to(device)\n",
        "    labels = batch[1].to(device)\n",
        "\n",
        "    val_outputs = model(inputs)\n",
        "    val_predicted_labels = (val_outputs.logits.sigmoid() > 0.5).int()\n",
        "    \n",
        "    val_accuracy += (val_predicted_labels == labels).sum().item()\n",
        "    precision_avg += precision_score(labels.cpu().numpy(), val_predicted_labels.cpu().numpy(), average='samples')\n",
        "    jaccard_score_avg += jaccard_score(labels.cpu().numpy(), val_predicted_labels.cpu().numpy(), average='samples')\n",
        "    hamming_loss_score += hamming_loss(labels.cpu().numpy(), val_predicted_labels.cpu().numpy())\n",
        "    \n",
        "    total_val_samples += len(inputs)\n",
        "    # Libera la memoria GPU\n",
        "    del inputs, labels, val_outputs, val_predicted_labels\n",
        "    torch.cuda.empty_cache()\n",
        "\n",
        "val_accuracy /= total_val_samples\n",
        "precision_avg /= total_val_samples\n",
        "jaccard_score_avg /= total_val_samples\n",
        "hamming_loss_score /= total_val_samples\n",
        "\n",
        "print(f\"Validation Accuracy: {val_accuracy}\")\n",
        "print(f\"Precision: {precision_avg}\")\n",
        "print(f\"Jaccard Score: {jaccard_score_avg}\")\n",
        "print(f\"Hamming Loss: {hamming_loss_score}\")\n"
      ],
      "metadata": {
        "id": "BYS_2o3mhE3q"
      },
      "execution_count": null,
      "outputs": []
    },
    {
      "cell_type": "code",
      "source": [
        "from sklearn.metrics import multilabel_confusion_matrix\n",
        "\n",
        "# Calcola le predizioni del modello sul dataset di validazione\n",
        "model.eval()\n",
        "with torch.no_grad():\n",
        "    predicted_labels = []\n",
        "    true_labels = []\n",
        "    for batch in val_dataloader:\n",
        "        inputs = batch[0].to(device)\n",
        "        labels = batch[1].to(device)\n",
        "        outputs = model(inputs)\n",
        "        predicted_labels.extend(outputs.logits.sigmoid().round().cpu().numpy())\n",
        "        true_labels.extend(labels.cpu().numpy())\n",
        "\n",
        "# Calcola la matrice di confusione\n",
        "confusion_matrix = multilabel_confusion_matrix(true_labels, predicted_labels)\n",
        "\n",
        "# Etichette delle classi\n",
        "class_labels = ['CDSBP', 'CC', 'LC', 'LZC', 'RB', 'SC']\n",
        "\n",
        "# Visualizza la matrice di confusione\n",
        "plt.figure(figsize=(10, 8))\n",
        "for i, cm in enumerate(confusion_matrix):\n",
        "    plt.subplot(2, 3, i + 1)\n",
        "    sns.heatmap(cm, annot=True, fmt='d', cmap='Blues', cbar=False)\n",
        "    plt.xlabel('Etichetta predetta')\n",
        "    plt.ylabel('Etichetta reale')\n",
        "    plt.title(f'Matrice di confusione - {class_labels[i]}')\n",
        "plt.tight_layout()\n",
        "plt.show()\n"
      ],
      "metadata": {
        "id": "30rKNpX1lKrF"
      },
      "execution_count": null,
      "outputs": []
    }
  ]
}