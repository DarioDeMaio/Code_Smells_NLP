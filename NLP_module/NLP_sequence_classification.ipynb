{
 "cells": [
  {
   "cell_type": "code",
   "execution_count": 8,
   "metadata": {},
   "outputs": [],
   "source": [
    "import pandas as pd\n",
    "from transformers import BertTokenizerFast, TFBertForSequenceClassification\n",
    "import tensorflow as tf\n",
    "from sklearn.model_selection import train_test_split\n",
    "from tensorflow.keras.layers import Dense\n",
    "from tensorflow.keras.callbacks import EarlyStopping\n",
    "import os"
   ]
  },
  {
   "cell_type": "code",
   "execution_count": 11,
   "metadata": {},
   "outputs": [],
   "source": [
    "def load_data():\n",
    "    component = pd.read_excel(\"../dataset/smells.xlsx\")\n",
    "    component = component.drop(['Project','Version','Smell'],axis=1)\n",
    "    df = pd.DataFrame()\n",
    "\n",
    "    path = \"../../projects\"\n",
    "    projects = []\n",
    "\n",
    "    # Itera su tutti i file e le cartelle nella cartella specificata\n",
    "    for item in os.listdir(path):\n",
    "        # Se l'elemento nella cartella è una cartella, aggiungi il nome alla lista\n",
    "        if os.path.isdir(os.path.join(path, item)):\n",
    "            projects.append(item)\n",
    "    # Stampa la lista di nomi dei progetti\n",
    "    print(projects)\n",
    "\n",
    "    possible_subfolders = [\"src/java\", \"src/main\", \"src/main/java\", \"src\"]\n",
    "    #classes = []\n",
    "\n",
    "    for k in range(len(projects)):\n",
    "        print(projects[k])\n",
    "        for i in range(len(component)):\n",
    "            line = component.loc[i,'ComponentName'].strip()\n",
    "            line = line.replace(\".\",\"/\") + \".java\"\n",
    "            for subfolder in possible_subfolders:\n",
    "                full_path = os.path.join(path, projects[k], subfolder, line)\n",
    "                if os.path.exists(full_path):\n",
    "                    with open(full_path, \"r\") as f:\n",
    "                        contenuto = f.read()\n",
    "                    #classes.append(contenuto)\n",
    "                    temp_df = pd.DataFrame({\n",
    "                        'Component': [contenuto],\n",
    "                        'CDSBP': [component.loc[i,'CDSBP']],\n",
    "                        'CC': [component.loc[i,'CC']],\n",
    "                        'LC': [component.loc[i,'LC']],\n",
    "                        'LZC': [component.loc[i,'LZC']],\n",
    "                        'RB': [component.loc[i,'RB']],\n",
    "                        'SC': [component.loc[i,'SC']]\n",
    "                    })\n",
    "                    df = pd.concat([df, temp_df], ignore_index=True)\n",
    "                    break # Esci dal ciclo for se hai trovato il file\n",
    "\n",
    "    #print(len(classes))\n",
    "    #print(len(df))\n",
    "    #print(df)\n",
    "    # final_df = pd.DataFrame()\n",
    "    # final_df['component'] = df['Component']\n",
    "    # final_df['labels'] = df.iloc[:, 1:].values.tolist()\n",
    "\n",
    "    return df"
   ]
  },
  {
   "cell_type": "code",
   "execution_count": null,
   "metadata": {},
   "outputs": [],
   "source": [
    "dataframe = load_data()"
   ]
  },
  {
   "cell_type": "code",
   "execution_count": 14,
   "metadata": {},
   "outputs": [
    {
     "data": {
      "text/html": [
       "<div>\n",
       "<style scoped>\n",
       "    .dataframe tbody tr th:only-of-type {\n",
       "        vertical-align: middle;\n",
       "    }\n",
       "\n",
       "    .dataframe tbody tr th {\n",
       "        vertical-align: top;\n",
       "    }\n",
       "\n",
       "    .dataframe thead th {\n",
       "        text-align: right;\n",
       "    }\n",
       "</style>\n",
       "<table border=\"1\" class=\"dataframe\">\n",
       "  <thead>\n",
       "    <tr style=\"text-align: right;\">\n",
       "      <th></th>\n",
       "      <th>Component</th>\n",
       "      <th>CDSBP</th>\n",
       "      <th>CC</th>\n",
       "      <th>LC</th>\n",
       "      <th>LZC</th>\n",
       "      <th>RB</th>\n",
       "      <th>SC</th>\n",
       "    </tr>\n",
       "  </thead>\n",
       "  <tbody>\n",
       "    <tr>\n",
       "      <th>0</th>\n",
       "      <td>/*\\n *  Licensed to the Apache Software Founda...</td>\n",
       "      <td>1</td>\n",
       "      <td>0</td>\n",
       "      <td>0</td>\n",
       "      <td>0</td>\n",
       "      <td>0</td>\n",
       "      <td>0</td>\n",
       "    </tr>\n",
       "    <tr>\n",
       "      <th>1</th>\n",
       "      <td>/*\\n *  Licensed to the Apache Software Founda...</td>\n",
       "      <td>0</td>\n",
       "      <td>0</td>\n",
       "      <td>0</td>\n",
       "      <td>0</td>\n",
       "      <td>0</td>\n",
       "      <td>1</td>\n",
       "    </tr>\n",
       "    <tr>\n",
       "      <th>2</th>\n",
       "      <td>/*\\n *  Licensed to the Apache Software Founda...</td>\n",
       "      <td>0</td>\n",
       "      <td>0</td>\n",
       "      <td>0</td>\n",
       "      <td>0</td>\n",
       "      <td>0</td>\n",
       "      <td>1</td>\n",
       "    </tr>\n",
       "    <tr>\n",
       "      <th>3</th>\n",
       "      <td>/*\\n *  Licensed to the Apache Software Founda...</td>\n",
       "      <td>0</td>\n",
       "      <td>0</td>\n",
       "      <td>0</td>\n",
       "      <td>0</td>\n",
       "      <td>0</td>\n",
       "      <td>1</td>\n",
       "    </tr>\n",
       "    <tr>\n",
       "      <th>4</th>\n",
       "      <td>/*\\n *  Licensed to the Apache Software Founda...</td>\n",
       "      <td>0</td>\n",
       "      <td>0</td>\n",
       "      <td>0</td>\n",
       "      <td>0</td>\n",
       "      <td>0</td>\n",
       "      <td>1</td>\n",
       "    </tr>\n",
       "    <tr>\n",
       "      <th>...</th>\n",
       "      <td>...</td>\n",
       "      <td>...</td>\n",
       "      <td>...</td>\n",
       "      <td>...</td>\n",
       "      <td>...</td>\n",
       "      <td>...</td>\n",
       "      <td>...</td>\n",
       "    </tr>\n",
       "    <tr>\n",
       "      <th>2512</th>\n",
       "      <td>/*\\n * The Apache Software License, Version 1....</td>\n",
       "      <td>0</td>\n",
       "      <td>0</td>\n",
       "      <td>0</td>\n",
       "      <td>0</td>\n",
       "      <td>0</td>\n",
       "      <td>1</td>\n",
       "    </tr>\n",
       "    <tr>\n",
       "      <th>2513</th>\n",
       "      <td>/*\\n * The Apache Software License, Version 1....</td>\n",
       "      <td>0</td>\n",
       "      <td>0</td>\n",
       "      <td>0</td>\n",
       "      <td>0</td>\n",
       "      <td>0</td>\n",
       "      <td>1</td>\n",
       "    </tr>\n",
       "    <tr>\n",
       "      <th>2514</th>\n",
       "      <td>/*\\n * The Apache Software License, Version 1....</td>\n",
       "      <td>0</td>\n",
       "      <td>0</td>\n",
       "      <td>0</td>\n",
       "      <td>0</td>\n",
       "      <td>0</td>\n",
       "      <td>1</td>\n",
       "    </tr>\n",
       "    <tr>\n",
       "      <th>2515</th>\n",
       "      <td>/*\\n * The Apache Software License, Version 1....</td>\n",
       "      <td>0</td>\n",
       "      <td>0</td>\n",
       "      <td>0</td>\n",
       "      <td>0</td>\n",
       "      <td>0</td>\n",
       "      <td>1</td>\n",
       "    </tr>\n",
       "    <tr>\n",
       "      <th>2516</th>\n",
       "      <td>// XMLReaderFactory.java - factory for creatin...</td>\n",
       "      <td>0</td>\n",
       "      <td>0</td>\n",
       "      <td>0</td>\n",
       "      <td>0</td>\n",
       "      <td>0</td>\n",
       "      <td>1</td>\n",
       "    </tr>\n",
       "  </tbody>\n",
       "</table>\n",
       "<p>2517 rows × 7 columns</p>\n",
       "</div>"
      ],
      "text/plain": [
       "                                              Component  CDSBP  CC  LC  LZC  \\\n",
       "0     /*\\n *  Licensed to the Apache Software Founda...      1   0   0    0   \n",
       "1     /*\\n *  Licensed to the Apache Software Founda...      0   0   0    0   \n",
       "2     /*\\n *  Licensed to the Apache Software Founda...      0   0   0    0   \n",
       "3     /*\\n *  Licensed to the Apache Software Founda...      0   0   0    0   \n",
       "4     /*\\n *  Licensed to the Apache Software Founda...      0   0   0    0   \n",
       "...                                                 ...    ...  ..  ..  ...   \n",
       "2512  /*\\n * The Apache Software License, Version 1....      0   0   0    0   \n",
       "2513  /*\\n * The Apache Software License, Version 1....      0   0   0    0   \n",
       "2514  /*\\n * The Apache Software License, Version 1....      0   0   0    0   \n",
       "2515  /*\\n * The Apache Software License, Version 1....      0   0   0    0   \n",
       "2516  // XMLReaderFactory.java - factory for creatin...      0   0   0    0   \n",
       "\n",
       "      RB  SC  \n",
       "0      0   0  \n",
       "1      0   1  \n",
       "2      0   1  \n",
       "3      0   1  \n",
       "4      0   1  \n",
       "...   ..  ..  \n",
       "2512   0   1  \n",
       "2513   0   1  \n",
       "2514   0   1  \n",
       "2515   0   1  \n",
       "2516   0   1  \n",
       "\n",
       "[2517 rows x 7 columns]"
      ]
     },
     "execution_count": 14,
     "metadata": {},
     "output_type": "execute_result"
    }
   ],
   "source": [
    "dataframe"
   ]
  },
  {
   "cell_type": "code",
   "execution_count": 15,
   "metadata": {},
   "outputs": [
    {
     "name": "stderr",
     "output_type": "stream",
     "text": [
      "All model checkpoint layers were used when initializing TFBertForSequenceClassification.\n",
      "\n",
      "Some layers of TFBertForSequenceClassification were not initialized from the model checkpoint at bert-base-uncased and are newly initialized: ['classifier']\n",
      "You should probably TRAIN this model on a down-stream task to be able to use it for predictions and inference.\n"
     ]
    }
   ],
   "source": [
    "# Carica il tokenizer\n",
    "tokenizer = BertTokenizerFast.from_pretrained('bert-base-uncased')\n",
    "\n",
    "# Carica il modello\n",
    "model = TFBertForSequenceClassification.from_pretrained('bert-base-uncased', num_labels=6)\n"
   ]
  },
  {
   "cell_type": "code",
   "execution_count": 16,
   "metadata": {},
   "outputs": [],
   "source": [
    "# Creazione X e y. X = dataset senza le etichette, y = etichette\n",
    "dataframe2 = dataframe.drop(columns=['CDSBP','CC','LC','LZC','RB','SC'])\n",
    "y = dataframe[['CDSBP','CC','LC','LZC','RB','SC']]"
   ]
  },
  {
   "cell_type": "code",
   "execution_count": 17,
   "metadata": {},
   "outputs": [],
   "source": [
    "# Divisione in train, validation e test set\n",
    "# X_train, X_test, Y_train, Y_test = train_test_split(dataframe2, y, test_size=0.33, random_state=1)\n",
    "X_train, X_val_test, Y_train, Y_val_test = train_test_split(dataframe2, y, test_size=0.4, random_state=1)\n",
    "X_val, X_test, Y_val, Y_test = train_test_split(X_val_test, Y_val_test, test_size=0.5, random_state=1)"
   ]
  },
  {
   "cell_type": "code",
   "execution_count": 18,
   "metadata": {},
   "outputs": [],
   "source": [
    "l1 = [str(i) for i in X_train['Component'].tolist()]\n",
    "l2 = [str(i) for i in X_val['Component'].tolist()]\n",
    "l3 = [str(i) for i in X_test['Component'].tolist()]"
   ]
  },
  {
   "cell_type": "code",
   "execution_count": 19,
   "metadata": {},
   "outputs": [
    {
     "name": "stdout",
     "output_type": "stream",
     "text": [
      "FATTA TOKENIZZAZIONE\n"
     ]
    }
   ],
   "source": [
    "X_train_tokenized = tokenizer(l1, padding=True, truncation=True, max_length=512, return_tensors='tf')\n",
    "X_val_tokenized = tokenizer(l2, padding=True, truncation=True, max_length=512, return_tensors='tf')\n",
    "X_test_tokenized = tokenizer(l3, padding=True, truncation=True, max_length=512, return_tensors='tf')\n",
    "print(\"FATTA TOKENIZZAZIONE\")"
   ]
  },
  {
   "cell_type": "code",
   "execution_count": 20,
   "metadata": {},
   "outputs": [],
   "source": [
    "# Estrai le sequenze di token e le maschere di attenzione\n",
    "X_train_input_ids = X_train_tokenized['input_ids']\n",
    "X_train_attention_mask = X_train_tokenized['attention_mask']\n",
    "\n",
    "X_val_input_ids = X_val_tokenized['input_ids']\n",
    "X_val_attention_mask = X_val_tokenized['attention_mask']\n",
    "\n",
    "X_test_input_ids = X_test_tokenized['input_ids']\n",
    "X_test_attention_mask = X_test_tokenized['attention_mask']"
   ]
  },
  {
   "cell_type": "code",
   "execution_count": 21,
   "metadata": {},
   "outputs": [],
   "source": [
    "model.compile(loss='binary_crossentropy', optimizer='adam', metrics=['accuracy'])"
   ]
  },
  {
   "cell_type": "code",
   "execution_count": 22,
   "metadata": {},
   "outputs": [
    {
     "ename": "",
     "evalue": "",
     "output_type": "error",
     "traceback": [
      "\u001b[1;31mCanceled future for execute_request message before replies were done"
     ]
    },
    {
     "ename": "",
     "evalue": "",
     "output_type": "error",
     "traceback": [
      "\u001b[1;31mThe Kernel crashed while executing code in the the current cell or a previous cell. Please review the code in the cell(s) to identify a possible cause of the failure. Click <a href='https://aka.ms/vscodeJupyterKernelCrash'>here</a> for more info. View Jupyter <a href='command:jupyter.viewOutput'>log</a> for further details."
     ]
    }
   ],
   "source": [
    "history = model.fit(\n",
    "    x=X_train_input_ids,\n",
    "    y=Y_train,\n",
    "    batch_size=32,\n",
    "    epochs=1,\n",
    "    validation_data=(X_val_input_ids, Y_val),\n",
    "    verbose=1,\n",
    "    callbacks=[EarlyStopping(patience=3)],\n",
    "    )"
   ]
  },
  {
   "cell_type": "code",
   "execution_count": null,
   "metadata": {},
   "outputs": [],
   "source": [
    "# Aggiungi un layer di output con funzione di attivazione softmax\n",
    "model.add(Dense(6, activation='softmax'))"
   ]
  }
 ],
 "metadata": {
  "kernelspec": {
   "display_name": "Python 3",
   "language": "python",
   "name": "python3"
  },
  "language_info": {
   "codemirror_mode": {
    "name": "ipython",
    "version": 3
   },
   "file_extension": ".py",
   "mimetype": "text/x-python",
   "name": "python",
   "nbconvert_exporter": "python",
   "pygments_lexer": "ipython3",
   "version": "3.10.11"
  },
  "orig_nbformat": 4
 },
 "nbformat": 4,
 "nbformat_minor": 2
}
