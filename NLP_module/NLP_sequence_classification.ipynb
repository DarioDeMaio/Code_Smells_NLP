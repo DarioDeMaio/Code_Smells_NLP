{
  "cells": [
    {
      "cell_type": "code",
      "execution_count": 61,
      "metadata": {
        "id": "faYnqaHF8kf6",
        "colab": {
          "base_uri": "https://localhost:8080/"
        },
        "outputId": "f025141f-93ac-48de-e74d-06dd97cd5530"
      },
      "outputs": [
        {
          "output_type": "stream",
          "name": "stdout",
          "text": [
            "Drive already mounted at /content/drive; to attempt to forcibly remount, call drive.mount(\"/content/drive\", force_remount=True).\n"
          ]
        }
      ],
      "source": [
        "from google.colab import drive\n",
        "drive.mount('/content/drive')"
      ]
    },
    {
      "cell_type": "code",
      "execution_count": 62,
      "metadata": {
        "id": "PvQT3U5s92zn",
        "colab": {
          "base_uri": "https://localhost:8080/"
        },
        "outputId": "af600275-f6a1-4b93-e205-dd49253f1c24"
      },
      "outputs": [
        {
          "output_type": "stream",
          "name": "stdout",
          "text": [
            "Looking in indexes: https://pypi.org/simple, https://us-python.pkg.dev/colab-wheels/public/simple/\n",
            "Requirement already satisfied: transformers in /usr/local/lib/python3.10/dist-packages (4.28.1)\n",
            "Requirement already satisfied: filelock in /usr/local/lib/python3.10/dist-packages (from transformers) (3.12.0)\n",
            "Requirement already satisfied: huggingface-hub<1.0,>=0.11.0 in /usr/local/lib/python3.10/dist-packages (from transformers) (0.14.1)\n",
            "Requirement already satisfied: numpy>=1.17 in /usr/local/lib/python3.10/dist-packages (from transformers) (1.22.4)\n",
            "Requirement already satisfied: packaging>=20.0 in /usr/local/lib/python3.10/dist-packages (from transformers) (23.1)\n",
            "Requirement already satisfied: pyyaml>=5.1 in /usr/local/lib/python3.10/dist-packages (from transformers) (6.0)\n",
            "Requirement already satisfied: regex!=2019.12.17 in /usr/local/lib/python3.10/dist-packages (from transformers) (2022.10.31)\n",
            "Requirement already satisfied: requests in /usr/local/lib/python3.10/dist-packages (from transformers) (2.27.1)\n",
            "Requirement already satisfied: tokenizers!=0.11.3,<0.14,>=0.11.1 in /usr/local/lib/python3.10/dist-packages (from transformers) (0.13.3)\n",
            "Requirement already satisfied: tqdm>=4.27 in /usr/local/lib/python3.10/dist-packages (from transformers) (4.65.0)\n",
            "Requirement already satisfied: fsspec in /usr/local/lib/python3.10/dist-packages (from huggingface-hub<1.0,>=0.11.0->transformers) (2023.4.0)\n",
            "Requirement already satisfied: typing-extensions>=3.7.4.3 in /usr/local/lib/python3.10/dist-packages (from huggingface-hub<1.0,>=0.11.0->transformers) (4.5.0)\n",
            "Requirement already satisfied: urllib3<1.27,>=1.21.1 in /usr/local/lib/python3.10/dist-packages (from requests->transformers) (1.26.15)\n",
            "Requirement already satisfied: certifi>=2017.4.17 in /usr/local/lib/python3.10/dist-packages (from requests->transformers) (2022.12.7)\n",
            "Requirement already satisfied: charset-normalizer~=2.0.0 in /usr/local/lib/python3.10/dist-packages (from requests->transformers) (2.0.12)\n",
            "Requirement already satisfied: idna<4,>=2.5 in /usr/local/lib/python3.10/dist-packages (from requests->transformers) (3.4)\n"
          ]
        }
      ],
      "source": [
        "!pip install transformers"
      ]
    },
    {
      "cell_type": "code",
      "execution_count": 63,
      "metadata": {
        "id": "qGva4z-B967Z"
      },
      "outputs": [],
      "source": [
        "import pandas as pd\n",
        "from transformers import BertTokenizerFast, TFBertForSequenceClassification\n",
        "import tensorflow as tf\n",
        "from sklearn.model_selection import train_test_split\n",
        "from tensorflow.keras.layers import Dense\n",
        "from tensorflow.keras.callbacks import EarlyStopping\n",
        "from tensorflow.keras.models import Sequential\n",
        "import os\n",
        "import numpy as np\n",
        "import chardet\n",
        "from sklearn.metrics import accuracy_score, precision_score, recall_score,confusion_matrix\n",
        "import seaborn as sns\n",
        "import re"
      ]
    },
    {
      "cell_type": "code",
      "execution_count": 64,
      "metadata": {
        "id": "yRIm4Ois-bTk"
      },
      "outputs": [],
      "source": [
        "dataframe = pd.read_csv(\"drive/MyDrive/Colab Notebooks/code smells tesi/Code_Smells_NLP-1/dataset/final_dataset.csv\")\n"
      ]
    },
    {
      "cell_type": "code",
      "execution_count": 65,
      "metadata": {
        "id": "ekBv4pEqS0ZK",
        "colab": {
          "base_uri": "https://localhost:8080/",
          "height": 424
        },
        "outputId": "c26d29a4-7c6a-4f54-886c-69335e859fbb"
      },
      "outputs": [
        {
          "output_type": "execute_result",
          "data": {
            "text/plain": [
              "                                              Component  CDSBP  CC  LC  LZC  \\\n",
              "0     /*\\n *  Licensed to the Apache Software Founda...      1   0   0    0   \n",
              "1     /*\\n *  Licensed to the Apache Software Founda...      0   0   0    0   \n",
              "2     /*\\n *  Licensed to the Apache Software Founda...      0   0   0    0   \n",
              "3     /*\\n *  Licensed to the Apache Software Founda...      0   0   0    0   \n",
              "4     /*\\n *  Licensed to the Apache Software Founda...      0   0   0    0   \n",
              "...                                                 ...    ...  ..  ..  ...   \n",
              "2512  /*\\n * The Apache Software License, Version 1....      0   0   0    0   \n",
              "2513  /*\\n * The Apache Software License, Version 1....      0   0   0    0   \n",
              "2514  /*\\n * The Apache Software License, Version 1....      0   0   0    0   \n",
              "2515  /*\\n * The Apache Software License, Version 1....      0   0   0    0   \n",
              "2516  // XMLReaderFactory.java - factory for creatin...      0   0   0    0   \n",
              "\n",
              "      RB  SC  \n",
              "0      0   0  \n",
              "1      0   1  \n",
              "2      0   1  \n",
              "3      0   1  \n",
              "4      0   1  \n",
              "...   ..  ..  \n",
              "2512   0   1  \n",
              "2513   0   1  \n",
              "2514   0   1  \n",
              "2515   0   1  \n",
              "2516   0   1  \n",
              "\n",
              "[2517 rows x 7 columns]"
            ],
            "text/html": [
              "\n",
              "  <div id=\"df-f8407ccc-7e7f-45a4-a601-1e589631ad3a\">\n",
              "    <div class=\"colab-df-container\">\n",
              "      <div>\n",
              "<style scoped>\n",
              "    .dataframe tbody tr th:only-of-type {\n",
              "        vertical-align: middle;\n",
              "    }\n",
              "\n",
              "    .dataframe tbody tr th {\n",
              "        vertical-align: top;\n",
              "    }\n",
              "\n",
              "    .dataframe thead th {\n",
              "        text-align: right;\n",
              "    }\n",
              "</style>\n",
              "<table border=\"1\" class=\"dataframe\">\n",
              "  <thead>\n",
              "    <tr style=\"text-align: right;\">\n",
              "      <th></th>\n",
              "      <th>Component</th>\n",
              "      <th>CDSBP</th>\n",
              "      <th>CC</th>\n",
              "      <th>LC</th>\n",
              "      <th>LZC</th>\n",
              "      <th>RB</th>\n",
              "      <th>SC</th>\n",
              "    </tr>\n",
              "  </thead>\n",
              "  <tbody>\n",
              "    <tr>\n",
              "      <th>0</th>\n",
              "      <td>/*\\n *  Licensed to the Apache Software Founda...</td>\n",
              "      <td>1</td>\n",
              "      <td>0</td>\n",
              "      <td>0</td>\n",
              "      <td>0</td>\n",
              "      <td>0</td>\n",
              "      <td>0</td>\n",
              "    </tr>\n",
              "    <tr>\n",
              "      <th>1</th>\n",
              "      <td>/*\\n *  Licensed to the Apache Software Founda...</td>\n",
              "      <td>0</td>\n",
              "      <td>0</td>\n",
              "      <td>0</td>\n",
              "      <td>0</td>\n",
              "      <td>0</td>\n",
              "      <td>1</td>\n",
              "    </tr>\n",
              "    <tr>\n",
              "      <th>2</th>\n",
              "      <td>/*\\n *  Licensed to the Apache Software Founda...</td>\n",
              "      <td>0</td>\n",
              "      <td>0</td>\n",
              "      <td>0</td>\n",
              "      <td>0</td>\n",
              "      <td>0</td>\n",
              "      <td>1</td>\n",
              "    </tr>\n",
              "    <tr>\n",
              "      <th>3</th>\n",
              "      <td>/*\\n *  Licensed to the Apache Software Founda...</td>\n",
              "      <td>0</td>\n",
              "      <td>0</td>\n",
              "      <td>0</td>\n",
              "      <td>0</td>\n",
              "      <td>0</td>\n",
              "      <td>1</td>\n",
              "    </tr>\n",
              "    <tr>\n",
              "      <th>4</th>\n",
              "      <td>/*\\n *  Licensed to the Apache Software Founda...</td>\n",
              "      <td>0</td>\n",
              "      <td>0</td>\n",
              "      <td>0</td>\n",
              "      <td>0</td>\n",
              "      <td>0</td>\n",
              "      <td>1</td>\n",
              "    </tr>\n",
              "    <tr>\n",
              "      <th>...</th>\n",
              "      <td>...</td>\n",
              "      <td>...</td>\n",
              "      <td>...</td>\n",
              "      <td>...</td>\n",
              "      <td>...</td>\n",
              "      <td>...</td>\n",
              "      <td>...</td>\n",
              "    </tr>\n",
              "    <tr>\n",
              "      <th>2512</th>\n",
              "      <td>/*\\n * The Apache Software License, Version 1....</td>\n",
              "      <td>0</td>\n",
              "      <td>0</td>\n",
              "      <td>0</td>\n",
              "      <td>0</td>\n",
              "      <td>0</td>\n",
              "      <td>1</td>\n",
              "    </tr>\n",
              "    <tr>\n",
              "      <th>2513</th>\n",
              "      <td>/*\\n * The Apache Software License, Version 1....</td>\n",
              "      <td>0</td>\n",
              "      <td>0</td>\n",
              "      <td>0</td>\n",
              "      <td>0</td>\n",
              "      <td>0</td>\n",
              "      <td>1</td>\n",
              "    </tr>\n",
              "    <tr>\n",
              "      <th>2514</th>\n",
              "      <td>/*\\n * The Apache Software License, Version 1....</td>\n",
              "      <td>0</td>\n",
              "      <td>0</td>\n",
              "      <td>0</td>\n",
              "      <td>0</td>\n",
              "      <td>0</td>\n",
              "      <td>1</td>\n",
              "    </tr>\n",
              "    <tr>\n",
              "      <th>2515</th>\n",
              "      <td>/*\\n * The Apache Software License, Version 1....</td>\n",
              "      <td>0</td>\n",
              "      <td>0</td>\n",
              "      <td>0</td>\n",
              "      <td>0</td>\n",
              "      <td>0</td>\n",
              "      <td>1</td>\n",
              "    </tr>\n",
              "    <tr>\n",
              "      <th>2516</th>\n",
              "      <td>// XMLReaderFactory.java - factory for creatin...</td>\n",
              "      <td>0</td>\n",
              "      <td>0</td>\n",
              "      <td>0</td>\n",
              "      <td>0</td>\n",
              "      <td>0</td>\n",
              "      <td>1</td>\n",
              "    </tr>\n",
              "  </tbody>\n",
              "</table>\n",
              "<p>2517 rows × 7 columns</p>\n",
              "</div>\n",
              "      <button class=\"colab-df-convert\" onclick=\"convertToInteractive('df-f8407ccc-7e7f-45a4-a601-1e589631ad3a')\"\n",
              "              title=\"Convert this dataframe to an interactive table.\"\n",
              "              style=\"display:none;\">\n",
              "        \n",
              "  <svg xmlns=\"http://www.w3.org/2000/svg\" height=\"24px\"viewBox=\"0 0 24 24\"\n",
              "       width=\"24px\">\n",
              "    <path d=\"M0 0h24v24H0V0z\" fill=\"none\"/>\n",
              "    <path d=\"M18.56 5.44l.94 2.06.94-2.06 2.06-.94-2.06-.94-.94-2.06-.94 2.06-2.06.94zm-11 1L8.5 8.5l.94-2.06 2.06-.94-2.06-.94L8.5 2.5l-.94 2.06-2.06.94zm10 10l.94 2.06.94-2.06 2.06-.94-2.06-.94-.94-2.06-.94 2.06-2.06.94z\"/><path d=\"M17.41 7.96l-1.37-1.37c-.4-.4-.92-.59-1.43-.59-.52 0-1.04.2-1.43.59L10.3 9.45l-7.72 7.72c-.78.78-.78 2.05 0 2.83L4 21.41c.39.39.9.59 1.41.59.51 0 1.02-.2 1.41-.59l7.78-7.78 2.81-2.81c.8-.78.8-2.07 0-2.86zM5.41 20L4 18.59l7.72-7.72 1.47 1.35L5.41 20z\"/>\n",
              "  </svg>\n",
              "      </button>\n",
              "      \n",
              "  <style>\n",
              "    .colab-df-container {\n",
              "      display:flex;\n",
              "      flex-wrap:wrap;\n",
              "      gap: 12px;\n",
              "    }\n",
              "\n",
              "    .colab-df-convert {\n",
              "      background-color: #E8F0FE;\n",
              "      border: none;\n",
              "      border-radius: 50%;\n",
              "      cursor: pointer;\n",
              "      display: none;\n",
              "      fill: #1967D2;\n",
              "      height: 32px;\n",
              "      padding: 0 0 0 0;\n",
              "      width: 32px;\n",
              "    }\n",
              "\n",
              "    .colab-df-convert:hover {\n",
              "      background-color: #E2EBFA;\n",
              "      box-shadow: 0px 1px 2px rgba(60, 64, 67, 0.3), 0px 1px 3px 1px rgba(60, 64, 67, 0.15);\n",
              "      fill: #174EA6;\n",
              "    }\n",
              "\n",
              "    [theme=dark] .colab-df-convert {\n",
              "      background-color: #3B4455;\n",
              "      fill: #D2E3FC;\n",
              "    }\n",
              "\n",
              "    [theme=dark] .colab-df-convert:hover {\n",
              "      background-color: #434B5C;\n",
              "      box-shadow: 0px 1px 3px 1px rgba(0, 0, 0, 0.15);\n",
              "      filter: drop-shadow(0px 1px 2px rgba(0, 0, 0, 0.3));\n",
              "      fill: #FFFFFF;\n",
              "    }\n",
              "  </style>\n",
              "\n",
              "      <script>\n",
              "        const buttonEl =\n",
              "          document.querySelector('#df-f8407ccc-7e7f-45a4-a601-1e589631ad3a button.colab-df-convert');\n",
              "        buttonEl.style.display =\n",
              "          google.colab.kernel.accessAllowed ? 'block' : 'none';\n",
              "\n",
              "        async function convertToInteractive(key) {\n",
              "          const element = document.querySelector('#df-f8407ccc-7e7f-45a4-a601-1e589631ad3a');\n",
              "          const dataTable =\n",
              "            await google.colab.kernel.invokeFunction('convertToInteractive',\n",
              "                                                     [key], {});\n",
              "          if (!dataTable) return;\n",
              "\n",
              "          const docLinkHtml = 'Like what you see? Visit the ' +\n",
              "            '<a target=\"_blank\" href=https://colab.research.google.com/notebooks/data_table.ipynb>data table notebook</a>'\n",
              "            + ' to learn more about interactive tables.';\n",
              "          element.innerHTML = '';\n",
              "          dataTable['output_type'] = 'display_data';\n",
              "          await google.colab.output.renderOutput(dataTable, element);\n",
              "          const docLink = document.createElement('div');\n",
              "          docLink.innerHTML = docLinkHtml;\n",
              "          element.appendChild(docLink);\n",
              "        }\n",
              "      </script>\n",
              "    </div>\n",
              "  </div>\n",
              "  "
            ]
          },
          "metadata": {},
          "execution_count": 65
        }
      ],
      "source": [
        "dataframe"
      ]
    },
    {
      "cell_type": "code",
      "source": [
        "import nltk\n",
        "from nltk.corpus import stopwords\n",
        "nltk.download('stopwords')\n",
        "\n",
        "stop_words = set(stopwords.words('italian'))\n",
        "\n",
        "def remove_comments(code):\n",
        "    # Rimuove i commenti su una singola riga\n",
        "    code = re.sub(r'//.*', '', code)\n",
        "    # Rimuove i commenti su più righe\n",
        "    code = re.sub(r'/\\*.*?\\*/', '', code, flags=re.DOTALL)\n",
        "    # Rimuove le stopwords\n",
        "    tokens = [word.lower() for word in code.split() if word.lower() not in stop_words]\n",
        "    filtered_text = ' '.join(tokens)\n",
        "    # Rimuoviamo gli import\n",
        "    code = re.sub(r'import\\s+.*?;', '', code, flags=re.DOTALL)\n",
        "    # Rimuoviamo i package\n",
        "    code = re.sub(r'package\\s+.*?;', '', code, flags=re.DOTALL)\n",
        "    #Rimuove \\n e \\t\n",
        "    code = re.sub(r'[\\n\\t]', '', code)\n",
        "    return code\n",
        "\n",
        "for i in range(len(dataframe)):\n",
        "    dataframe['Component'][i] = remove_comments(dataframe['Component'][i])"
      ],
      "metadata": {
        "id": "fetQZ2oQpD7B",
        "colab": {
          "base_uri": "https://localhost:8080/"
        },
        "outputId": "c4301ffc-7a06-4407-a73e-9df3f64637e9"
      },
      "execution_count": 66,
      "outputs": [
        {
          "output_type": "stream",
          "name": "stderr",
          "text": [
            "[nltk_data] Downloading package stopwords to /root/nltk_data...\n",
            "[nltk_data]   Package stopwords is already up-to-date!\n",
            "<ipython-input-66-4d4971366606>:24: SettingWithCopyWarning: \n",
            "A value is trying to be set on a copy of a slice from a DataFrame\n",
            "\n",
            "See the caveats in the documentation: https://pandas.pydata.org/pandas-docs/stable/user_guide/indexing.html#returning-a-view-versus-a-copy\n",
            "  dataframe['Component'][i] = remove_comments(dataframe['Component'][i])\n"
          ]
        }
      ]
    },
    {
      "cell_type": "code",
      "execution_count": 67,
      "metadata": {
        "id": "v_Tqe-sZCF-N",
        "colab": {
          "base_uri": "https://localhost:8080/"
        },
        "outputId": "c9d5b775-8231-46c2-d27c-b33439df3180"
      },
      "outputs": [
        {
          "output_type": "stream",
          "name": "stderr",
          "text": [
            "All model checkpoint layers were used when initializing TFBertForSequenceClassification.\n",
            "\n",
            "Some layers of TFBertForSequenceClassification were not initialized from the model checkpoint at bert-base-uncased and are newly initialized: ['classifier']\n",
            "You should probably TRAIN this model on a down-stream task to be able to use it for predictions and inference.\n"
          ]
        }
      ],
      "source": [
        "# Carica il tokenizer\n",
        "tokenizer = BertTokenizerFast.from_pretrained('bert-base-uncased')\n",
        "\n",
        "# Carica il modello\n",
        "model = TFBertForSequenceClassification.from_pretrained('bert-base-uncased', num_labels=6)\n"
      ]
    },
    {
      "cell_type": "code",
      "execution_count": 68,
      "metadata": {
        "id": "jTlbNNJTCJAT"
      },
      "outputs": [],
      "source": [
        "# Creazione X e y. X = dataset senza le etichette, y = etichette\n",
        "dataframe2 = dataframe.drop(columns=['CDSBP','CC','LC','LZC','RB','SC'])\n",
        "y = dataframe[['CDSBP','CC','LC','LZC','RB','SC']]"
      ]
    },
    {
      "cell_type": "code",
      "execution_count": 69,
      "metadata": {
        "id": "KUO5Z9qxCKB8"
      },
      "outputs": [],
      "source": [
        "# Divisione in train, validation e test set\n",
        "# X_train, X_test, Y_train, Y_test = train_test_split(dataframe2, y, test_size=0.33, random_state=1)\n",
        "X_train, X_val_test, Y_train, Y_val_test = train_test_split(dataframe2, y, test_size=0.4, random_state=1)\n",
        "X_val, X_test, Y_val, Y_test = train_test_split(X_val_test, Y_val_test, test_size=0.5, random_state=1)"
      ]
    },
    {
      "cell_type": "code",
      "execution_count": 70,
      "metadata": {
        "id": "hpyBf84yCLOb"
      },
      "outputs": [],
      "source": [
        "l1 = [str(i) for i in X_train['Component'].tolist()]\n",
        "l2 = [str(i) for i in X_val['Component'].tolist()]\n",
        "l3 = [str(i) for i in X_test['Component'].tolist()]"
      ]
    },
    {
      "cell_type": "code",
      "source": [
        "# max_len = 256\n",
        "\n",
        "# def split_string(s, chunk_size):\n",
        "#     return [s[i:i+chunk_size] for i in range(0, len(s), chunk_size)]\n",
        "\n",
        "# def tokenize_and_join(tensor_list):\n",
        "#     return tf.concat(tensor_list, axis=0)\n",
        "\n",
        "# def tokenize_class(class_string):\n",
        "#     chunks = split_string(class_string, max_len)\n",
        "#     token_chunks = [tokenizer.tokenize(chunk, padding=True, truncation=True, max_length=256, return_tensors='tf') for chunk in chunks]\n",
        "#     tokens = tokenize_and_join(token_chunks)\n",
        "#     return tf.constant(tokens)\n",
        "\n",
        "# class_tensors = []\n",
        "# for i in range(len(l1)):\n",
        "#     class_tensor = tokenize_class(l1[i])\n",
        "#     class_tensors.append(class_tensor)\n",
        "# print(type(class_tensors))\n",
        "# print(len(class_tensors))\n"
      ],
      "metadata": {
        "id": "_GRmJLhXcFgr"
      },
      "execution_count": 71,
      "outputs": []
    },
    {
      "cell_type": "code",
      "source": [
        "# max_len = 256\n",
        "\n",
        "# def split_string(s, chunk_size):\n",
        "#     return [s[i:i+chunk_size] for i in range(0, len(s), chunk_size)]\n",
        "\n",
        "# def tokenize_and_join(tensor_list):\n",
        "#     return tf.concat(tensor_list, axis=0)\n",
        "\n",
        "# def tokenize_class(class_string):\n",
        "#     chunks = split_string(class_string, max_len)\n",
        "#     token_chunks = [tokenizer.tokenize(chunk, padding=True, truncation=True, max_length=256, return_tensors='tf') for chunk in chunks]\n",
        "#     tokens = tokenize_and_join(token_chunks)\n",
        "#     return tf.constant(tokens)\n",
        "\n",
        "# class_tensors_val = []\n",
        "# for i in range(len(l2)):\n",
        "#     class_tensor = tokenize_class(l2[i])\n",
        "#     class_tensors_val.append(class_tensor)\n",
        "# print(type(class_tensors_val))\n",
        "# print(len(class_tensors_val))\n"
      ],
      "metadata": {
        "id": "BH0rkpm8hO4z"
      },
      "execution_count": 72,
      "outputs": []
    },
    {
      "cell_type": "code",
      "execution_count": 73,
      "metadata": {
        "id": "0xsAOmJhCNnZ",
        "colab": {
          "base_uri": "https://localhost:8080/"
        },
        "outputId": "ddc92254-6122-488b-cd88-11d40f0069c8"
      },
      "outputs": [
        {
          "output_type": "stream",
          "name": "stdout",
          "text": [
            "FATTA TOKENIZZAZIONE\n"
          ]
        }
      ],
      "source": [
        "X_train_tokenized = tokenizer(l1, padding=True, truncation=True, max_length=256, return_tensors='tf')\n",
        "print(\"FATTA TOKENIZZAZIONE\")"
      ]
    },
    {
      "cell_type": "code",
      "source": [
        "X_val_tokenized = tokenizer(l2, padding=True, truncation=True, max_length=256, return_tensors='tf')\n",
        "print(\"FATTA TOKENIZZAZIONE\")"
      ],
      "metadata": {
        "id": "eBKU9Iy8I3SY",
        "colab": {
          "base_uri": "https://localhost:8080/"
        },
        "outputId": "981d5d04-017f-4873-df46-125258a07896"
      },
      "execution_count": 74,
      "outputs": [
        {
          "output_type": "stream",
          "name": "stdout",
          "text": [
            "FATTA TOKENIZZAZIONE\n"
          ]
        }
      ]
    },
    {
      "cell_type": "code",
      "source": [
        "X_test_tokenized = tokenizer(l3, padding=True, truncation=True, max_length=256, return_tensors='tf')\n",
        "print(\"FATTA TOKENIZZAZIONE\")"
      ],
      "metadata": {
        "id": "zF5IHhE4I5Y_",
        "colab": {
          "base_uri": "https://localhost:8080/"
        },
        "outputId": "42538511-90db-4fe0-8f96-37fb3596f70f"
      },
      "execution_count": 75,
      "outputs": [
        {
          "output_type": "stream",
          "name": "stdout",
          "text": [
            "FATTA TOKENIZZAZIONE\n"
          ]
        }
      ]
    },
    {
      "cell_type": "code",
      "execution_count": 76,
      "metadata": {
        "id": "_OSaLXv1CPHg"
      },
      "outputs": [],
      "source": [
        "# X_train_input_ids = tf.constant([], dtype=tf.int32)\n",
        "# for i in range(len(class_tensors)):\n",
        "#     input_ids = tf.strings.to_number(class_tensors[i][0], out_type=tf.int32)\n",
        "#     X_train_input_ids = tf.concat([X_train_input_ids, input_ids], axis=0)\n",
        "# X_train_attention_mask = class_tensors[0][1].numpy()\n",
        "\n",
        "# X_val_input_ids = tf.strings.to_number(class_tensors_val[0][0], out_type=tf.int32).numpy()\n",
        "# X_val_attention_mask = class_tensors_val[0][1].numpy()\n",
        "\n",
        "# X_test_input_ids = X_test_tokenized['input_ids']\n",
        "# X_test_attention_mask = X_test_tokenized['attention_mask']\n",
        "# print(type(X_test_input_ids))\n"
      ]
    },
    {
      "cell_type": "code",
      "source": [
        "# Estrai le sequenze di token e le maschere di attenzione\n",
        "X_train_input_ids = X_train_tokenized['input_ids']\n",
        "X_train_attention_mask = X_train_tokenized['attention_mask']\n",
        "\n",
        "X_val_input_ids = X_val_tokenized['input_ids']\n",
        "X_val_attention_mask = X_val_tokenized['attention_mask']\n",
        "\n",
        "X_test_input_ids = X_test_tokenized['input_ids']\n",
        "X_test_attention_mask = X_test_tokenized['attention_mask']"
      ],
      "metadata": {
        "id": "gu9UpzIlBvcm"
      },
      "execution_count": 77,
      "outputs": []
    },
    {
      "cell_type": "code",
      "execution_count": 78,
      "metadata": {
        "id": "hkoJiC9iCRIh"
      },
      "outputs": [],
      "source": [
        "model.compile(loss='binary_crossentropy', optimizer='adam', metrics=['accuracy'])"
      ]
    },
    {
      "cell_type": "code",
      "execution_count": 79,
      "metadata": {
        "id": "upu0xdPGCSur",
        "colab": {
          "base_uri": "https://localhost:8080/"
        },
        "outputId": "c862294c-4aa3-46a9-df69-09002147c352"
      },
      "outputs": [
        {
          "output_type": "stream",
          "name": "stdout",
          "text": [
            "Epoch 1/20\n",
            "48/48 [==============================] - 139s 2s/step - loss: 2.3895 - accuracy: 0.3013 - val_loss: 2.5708 - val_accuracy: 0.3638\n",
            "Epoch 2/20\n",
            "48/48 [==============================] - 84s 2s/step - loss: 2.5708 - accuracy: 0.3974 - val_loss: 2.5708 - val_accuracy: 0.3638\n",
            "Epoch 3/20\n",
            "48/48 [==============================] - 86s 2s/step - loss: 2.5708 - accuracy: 0.3974 - val_loss: 2.5708 - val_accuracy: 0.3638\n",
            "Epoch 4/20\n",
            "48/48 [==============================] - 86s 2s/step - loss: 2.5708 - accuracy: 0.3974 - val_loss: 2.5708 - val_accuracy: 0.3638\n",
            "Epoch 5/20\n",
            "48/48 [==============================] - 86s 2s/step - loss: 2.5708 - accuracy: 0.3974 - val_loss: 2.5708 - val_accuracy: 0.3638\n",
            "Epoch 6/20\n",
            "48/48 [==============================] - 86s 2s/step - loss: 2.5708 - accuracy: 0.3974 - val_loss: 2.5708 - val_accuracy: 0.3638\n",
            "Epoch 7/20\n",
            "48/48 [==============================] - 86s 2s/step - loss: 2.5708 - accuracy: 0.3974 - val_loss: 2.5708 - val_accuracy: 0.3638\n"
          ]
        }
      ],
      "source": [
        "history = model.fit(\n",
        "    x=X_train_input_ids,\n",
        "    y=Y_train,\n",
        "    batch_size=32,\n",
        "    epochs=20,\n",
        "    validation_data=(X_val_input_ids, Y_val),\n",
        "    verbose=1,\n",
        "    callbacks=[EarlyStopping(patience=6)],\n",
        "    )"
      ]
    },
    {
      "cell_type": "code",
      "execution_count": 80,
      "metadata": {
        "id": "mXHpUHuIZMah",
        "colab": {
          "base_uri": "https://localhost:8080/"
        },
        "outputId": "bab88eb6-9838-4f1a-ffa5-ed9fa0c7123d"
      },
      "outputs": [
        {
          "output_type": "stream",
          "name": "stdout",
          "text": [
            "16/16 [==============================] - 14s 568ms/step\n"
          ]
        }
      ],
      "source": [
        "# Fai le predizioni sul test set\n",
        "\n",
        "Y_pred = model.predict([X_test_input_ids,X_test_attention_mask])"
      ]
    },
    {
      "cell_type": "code",
      "source": [
        "# Calcola l'accuracy\n",
        "Y_test_binary = np.argmax(Y_test.values, axis=1)\n",
        "accuracy = accuracy_score(Y_test_binary, Y_pred.logits.argmax(axis=1))\n",
        "precision = precision_score(Y_test_binary, Y_pred.logits.argmax(axis=1), average=\"macro\")\n",
        "recall = recall_score(Y_test_binary, Y_pred.logits.argmax(axis=1), average=\"macro\")\n",
        "print(\"Accuracy:\", accuracy)\n",
        "print(\"Precision:\", precision)\n",
        "print(\"Recall:\", recall)"
      ],
      "metadata": {
        "id": "8u1yfkpPy-W7",
        "colab": {
          "base_uri": "https://localhost:8080/"
        },
        "outputId": "2a49bc7d-82a2-4567-d448-a9f7def0076a"
      },
      "execution_count": 81,
      "outputs": [
        {
          "output_type": "stream",
          "name": "stdout",
          "text": [
            "Accuracy: 0.38095238095238093\n",
            "Precision: 0.06349206349206349\n",
            "Recall: 0.16666666666666666\n"
          ]
        },
        {
          "output_type": "stream",
          "name": "stderr",
          "text": [
            "/usr/local/lib/python3.10/dist-packages/sklearn/metrics/_classification.py:1344: UndefinedMetricWarning: Precision is ill-defined and being set to 0.0 in labels with no predicted samples. Use `zero_division` parameter to control this behavior.\n",
            "  _warn_prf(average, modifier, msg_start, len(result))\n"
          ]
        }
      ]
    },
    {
      "cell_type": "code",
      "source": [
        "# Calcola la matrice di confusione\n",
        "cm = confusion_matrix(Y_test_binary, Y_pred.logits.argmax(axis=1))\n",
        "\n",
        "# Stampa la matrice di confusione\n",
        "print(cm)\n"
      ],
      "metadata": {
        "id": "b9V9nlvEJk9n",
        "colab": {
          "base_uri": "https://localhost:8080/"
        },
        "outputId": "cf32ee50-1932-4d14-9b54-928180785639"
      },
      "execution_count": 82,
      "outputs": [
        {
          "output_type": "stream",
          "name": "stdout",
          "text": [
            "[[  0   0   0   0   0 113]\n",
            " [  0   0   0   0   0  36]\n",
            " [  0   0   0   0   0  47]\n",
            " [  0   0   0   0   0  33]\n",
            " [  0   0   0   0   0  83]\n",
            " [  0   0   0   0   0 192]]\n"
          ]
        }
      ]
    },
    {
      "cell_type": "code",
      "execution_count": 83,
      "metadata": {
        "id": "Z_otbGwoCUHY"
      },
      "outputs": [],
      "source": [
        "# # Aggiungi un layer di output con funzione di attivazione softmax\n",
        "\n",
        "# # Crea un nuovo modello Keras sequenziale\n",
        "# new_model = Sequential()\n",
        "\n",
        "# # Aggiungi il modello BERT come primo layer\n",
        "# new_model.add(model)\n",
        "\n",
        "# # Aggiungi il tuo nuovo layer come secondo layer\n",
        "# new_model.add(Dense(6, activation='softmax'))\n",
        "\n",
        "# # Ora puoi utilizzare il nuovo modello per addestrare e valutare il tuo task specifico\n",
        "# new_model.compile(loss='binary_crossentropy', optimizer='adam', metrics=['accuracy'])\n"
      ]
    },
    {
      "cell_type": "code",
      "execution_count": 84,
      "metadata": {
        "id": "2_z30lUvXWey"
      },
      "outputs": [],
      "source": [
        "# history = new_model.fit(\n",
        "#     x=X_train_input_ids,\n",
        "#     y=Y_train,\n",
        "#     batch_size=32,\n",
        "#     epochs=10,\n",
        "#     validation_data=(X_val_input_ids, Y_val),\n",
        "#     verbose=1,\n",
        "#     callbacks=[EarlyStopping(patience=3)],\n",
        "#     )"
      ]
    },
    {
      "cell_type": "code",
      "source": [
        "# new_model = Sequential()\n",
        "# new_model.add(model)\n",
        "# new_model.add(Dense(64, activation='softmax'))\n",
        "# new_model.add(Dense(6, activation='sigmoid'))\n"
      ],
      "metadata": {
        "id": "_Uo4IIL9RqqV"
      },
      "execution_count": 85,
      "outputs": []
    },
    {
      "cell_type": "code",
      "source": [
        "# from transformers import BertTokenizer\n",
        "# tokenizer = BertTokenizer.from_pretrained('bert-base-uncased')"
      ],
      "metadata": {
        "id": "1fx_aKpRVXtx"
      },
      "execution_count": 86,
      "outputs": []
    },
    {
      "cell_type": "code",
      "source": [
        "# X_train_tokenized = tokenizer(l1, padding=True, truncation=True, max_length=256, return_tensors='tf')\n",
        "# X_val_tokenized = tokenizer(l2, padding=True, truncation=True, max_length=256, return_tensors='tf')\n",
        "# X_test_tokenized = tokenizer(l3, padding=True, truncation=True, max_length=256, return_tensors='tf')\n",
        "# print(\"FATTA TOKENIZZAZIONE\")"
      ],
      "metadata": {
        "id": "wZfn8meWVoj0"
      },
      "execution_count": 87,
      "outputs": []
    },
    {
      "cell_type": "code",
      "source": [
        "# # Estrai le sequenze di token e le maschere di attenzione\n",
        "# X_train_input_ids = X_train_tokenized['input_ids']\n",
        "# X_train_attention_mask = X_train_tokenized['attention_mask']\n",
        "\n",
        "# X_val_input_ids = X_val_tokenized['input_ids']\n",
        "# X_val_attention_mask = X_val_tokenized['attention_mask']\n",
        "\n",
        "# X_test_input_ids = X_test_tokenized['input_ids']\n",
        "# X_test_attention_mask = X_test_tokenized['attention_mask']"
      ],
      "metadata": {
        "id": "sMLzd2V6W-uV"
      },
      "execution_count": 88,
      "outputs": []
    },
    {
      "cell_type": "code",
      "source": [
        "# new_model.compile(loss='binary_crossentropy', optimizer='adam', metrics=['accuracy'])\n",
        "# new_history = new_model.fit(\n",
        "#     x=X_train_input_ids,\n",
        "#     y=Y_train,\n",
        "#     batch_size=32,\n",
        "#     epochs=10,\n",
        "#     validation_data=(X_val_input_ids, Y_val),\n",
        "#     verbose=1,\n",
        "#     callbacks=[EarlyStopping(patience=6)],\n",
        "# )\n"
      ],
      "metadata": {
        "id": "rzc4AGW9R8dN"
      },
      "execution_count": 89,
      "outputs": []
    },
    {
      "cell_type": "code",
      "source": [
        "# new_Y_pred = new_model.predict([X_test_input_ids,X_test_attention_mask])\n",
        "# new_Y_test_binary = np.argmax(Y_test.values, axis=1)\n",
        "# new_accuracy = accuracy_score(new_Y_test_binary, new_Y_pred.argmax(axis=1))\n",
        "# print(\"New accuracy:\", new_accuracy)\n"
      ],
      "metadata": {
        "id": "BJ4tsS83R-2_"
      },
      "execution_count": 90,
      "outputs": []
    }
  ],
  "metadata": {
    "accelerator": "GPU",
    "colab": {
      "provenance": [],
      "gpuType": "T4"
    },
    "gpuClass": "standard",
    "kernelspec": {
      "display_name": "Python 3",
      "name": "python3"
    }
  },
  "nbformat": 4,
  "nbformat_minor": 0
}