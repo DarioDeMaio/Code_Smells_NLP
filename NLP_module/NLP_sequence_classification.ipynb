{
  "cells": [
    {
      "cell_type": "code",
      "execution_count": 25,
      "metadata": {
        "colab": {
          "base_uri": "https://localhost:8080/"
        },
        "id": "faYnqaHF8kf6",
        "outputId": "941bcc93-f80a-4e0f-8ee4-1d8c1ca18536"
      },
      "outputs": [
        {
          "name": "stdout",
          "output_type": "stream",
          "text": [
            "Drive already mounted at /content/drive; to attempt to forcibly remount, call drive.mount(\"/content/drive\", force_remount=True).\n"
          ]
        }
      ],
      "source": [
        "from google.colab import drive\n",
        "drive.mount('/content/drive')"
      ]
    },
    {
      "cell_type": "code",
      "execution_count": 26,
      "metadata": {
        "colab": {
          "base_uri": "https://localhost:8080/"
        },
        "id": "PvQT3U5s92zn",
        "outputId": "9a35ad5d-7801-4cca-a001-70a874c63fe3"
      },
      "outputs": [
        {
          "name": "stdout",
          "output_type": "stream",
          "text": [
            "Looking in indexes: https://pypi.org/simple, https://us-python.pkg.dev/colab-wheels/public/simple/\n",
            "Requirement already satisfied: transformers in /usr/local/lib/python3.10/dist-packages (4.28.1)\n",
            "Requirement already satisfied: huggingface-hub<1.0,>=0.11.0 in /usr/local/lib/python3.10/dist-packages (from transformers) (0.14.1)\n",
            "Requirement already satisfied: requests in /usr/local/lib/python3.10/dist-packages (from transformers) (2.27.1)\n",
            "Requirement already satisfied: tokenizers!=0.11.3,<0.14,>=0.11.1 in /usr/local/lib/python3.10/dist-packages (from transformers) (0.13.3)\n",
            "Requirement already satisfied: regex!=2019.12.17 in /usr/local/lib/python3.10/dist-packages (from transformers) (2022.10.31)\n",
            "Requirement already satisfied: filelock in /usr/local/lib/python3.10/dist-packages (from transformers) (3.12.0)\n",
            "Requirement already satisfied: pyyaml>=5.1 in /usr/local/lib/python3.10/dist-packages (from transformers) (6.0)\n",
            "Requirement already satisfied: numpy>=1.17 in /usr/local/lib/python3.10/dist-packages (from transformers) (1.22.4)\n",
            "Requirement already satisfied: tqdm>=4.27 in /usr/local/lib/python3.10/dist-packages (from transformers) (4.65.0)\n",
            "Requirement already satisfied: packaging>=20.0 in /usr/local/lib/python3.10/dist-packages (from transformers) (23.1)\n",
            "Requirement already satisfied: fsspec in /usr/local/lib/python3.10/dist-packages (from huggingface-hub<1.0,>=0.11.0->transformers) (2023.4.0)\n",
            "Requirement already satisfied: typing-extensions>=3.7.4.3 in /usr/local/lib/python3.10/dist-packages (from huggingface-hub<1.0,>=0.11.0->transformers) (4.5.0)\n",
            "Requirement already satisfied: charset-normalizer~=2.0.0 in /usr/local/lib/python3.10/dist-packages (from requests->transformers) (2.0.12)\n",
            "Requirement already satisfied: certifi>=2017.4.17 in /usr/local/lib/python3.10/dist-packages (from requests->transformers) (2022.12.7)\n",
            "Requirement already satisfied: idna<4,>=2.5 in /usr/local/lib/python3.10/dist-packages (from requests->transformers) (3.4)\n",
            "Requirement already satisfied: urllib3<1.27,>=1.21.1 in /usr/local/lib/python3.10/dist-packages (from requests->transformers) (1.26.15)\n"
          ]
        }
      ],
      "source": [
        "#!pip install transformers"
      ]
    },
    {
      "cell_type": "code",
      "execution_count": 27,
      "metadata": {
        "id": "qGva4z-B967Z"
      },
      "outputs": [],
      "source": [
        "import pandas as pd\n",
        "from transformers import BertTokenizerFast, TFBertForSequenceClassification\n",
        "import tensorflow as tf\n",
        "from sklearn.model_selection import train_test_split\n",
        "from tensorflow.keras.layers import Dense\n",
        "from tensorflow.keras.callbacks import EarlyStopping\n",
        "from tensorflow.keras.models import Sequential\n",
        "import os\n",
        "import numpy as np\n",
        "import chardet\n",
        "from sklearn.metrics import accuracy_score, precision_score, recall_score,confusion_matrix\n",
        "import seaborn as sns"
      ]
    },
    {
      "cell_type": "code",
      "execution_count": 28,
      "metadata": {
        "id": "yRIm4Ois-bTk"
      },
      "outputs": [],
      "source": [
        "dataframe = pd.read_csv(\"drive/MyDrive/Colab Notebooks/code smells tesi/Code_Smells_NLP-1/dataset/final_dataset.csv\")\n"
      ]
    },
    {
      "cell_type": "code",
      "execution_count": 29,
      "metadata": {
        "colab": {
          "base_uri": "https://localhost:8080/",
          "height": 424
        },
        "id": "ekBv4pEqS0ZK",
        "outputId": "4fa02e77-1def-4cd6-ab2a-7bfbe78737e0"
      },
      "outputs": [
        {
          "data": {
            "text/html": [
              "\n",
              "  <div id=\"df-3ccc9352-30f6-4912-afe2-cb8ee04b3fb4\">\n",
              "    <div class=\"colab-df-container\">\n",
              "      <div>\n",
              "<style scoped>\n",
              "    .dataframe tbody tr th:only-of-type {\n",
              "        vertical-align: middle;\n",
              "    }\n",
              "\n",
              "    .dataframe tbody tr th {\n",
              "        vertical-align: top;\n",
              "    }\n",
              "\n",
              "    .dataframe thead th {\n",
              "        text-align: right;\n",
              "    }\n",
              "</style>\n",
              "<table border=\"1\" class=\"dataframe\">\n",
              "  <thead>\n",
              "    <tr style=\"text-align: right;\">\n",
              "      <th></th>\n",
              "      <th>Component</th>\n",
              "      <th>CDSBP</th>\n",
              "      <th>CC</th>\n",
              "      <th>LC</th>\n",
              "      <th>LZC</th>\n",
              "      <th>RB</th>\n",
              "      <th>SC</th>\n",
              "    </tr>\n",
              "  </thead>\n",
              "  <tbody>\n",
              "    <tr>\n",
              "      <th>0</th>\n",
              "      <td>/*\\n *  Licensed to the Apache Software Founda...</td>\n",
              "      <td>1</td>\n",
              "      <td>0</td>\n",
              "      <td>0</td>\n",
              "      <td>0</td>\n",
              "      <td>0</td>\n",
              "      <td>0</td>\n",
              "    </tr>\n",
              "    <tr>\n",
              "      <th>1</th>\n",
              "      <td>/*\\n *  Licensed to the Apache Software Founda...</td>\n",
              "      <td>0</td>\n",
              "      <td>0</td>\n",
              "      <td>0</td>\n",
              "      <td>0</td>\n",
              "      <td>0</td>\n",
              "      <td>1</td>\n",
              "    </tr>\n",
              "    <tr>\n",
              "      <th>2</th>\n",
              "      <td>/*\\n *  Licensed to the Apache Software Founda...</td>\n",
              "      <td>0</td>\n",
              "      <td>0</td>\n",
              "      <td>0</td>\n",
              "      <td>0</td>\n",
              "      <td>0</td>\n",
              "      <td>1</td>\n",
              "    </tr>\n",
              "    <tr>\n",
              "      <th>3</th>\n",
              "      <td>/*\\n *  Licensed to the Apache Software Founda...</td>\n",
              "      <td>0</td>\n",
              "      <td>0</td>\n",
              "      <td>0</td>\n",
              "      <td>0</td>\n",
              "      <td>0</td>\n",
              "      <td>1</td>\n",
              "    </tr>\n",
              "    <tr>\n",
              "      <th>4</th>\n",
              "      <td>/*\\n *  Licensed to the Apache Software Founda...</td>\n",
              "      <td>0</td>\n",
              "      <td>0</td>\n",
              "      <td>0</td>\n",
              "      <td>0</td>\n",
              "      <td>0</td>\n",
              "      <td>1</td>\n",
              "    </tr>\n",
              "    <tr>\n",
              "      <th>...</th>\n",
              "      <td>...</td>\n",
              "      <td>...</td>\n",
              "      <td>...</td>\n",
              "      <td>...</td>\n",
              "      <td>...</td>\n",
              "      <td>...</td>\n",
              "      <td>...</td>\n",
              "    </tr>\n",
              "    <tr>\n",
              "      <th>2512</th>\n",
              "      <td>/*\\n * The Apache Software License, Version 1....</td>\n",
              "      <td>0</td>\n",
              "      <td>0</td>\n",
              "      <td>0</td>\n",
              "      <td>0</td>\n",
              "      <td>0</td>\n",
              "      <td>1</td>\n",
              "    </tr>\n",
              "    <tr>\n",
              "      <th>2513</th>\n",
              "      <td>/*\\n * The Apache Software License, Version 1....</td>\n",
              "      <td>0</td>\n",
              "      <td>0</td>\n",
              "      <td>0</td>\n",
              "      <td>0</td>\n",
              "      <td>0</td>\n",
              "      <td>1</td>\n",
              "    </tr>\n",
              "    <tr>\n",
              "      <th>2514</th>\n",
              "      <td>/*\\n * The Apache Software License, Version 1....</td>\n",
              "      <td>0</td>\n",
              "      <td>0</td>\n",
              "      <td>0</td>\n",
              "      <td>0</td>\n",
              "      <td>0</td>\n",
              "      <td>1</td>\n",
              "    </tr>\n",
              "    <tr>\n",
              "      <th>2515</th>\n",
              "      <td>/*\\n * The Apache Software License, Version 1....</td>\n",
              "      <td>0</td>\n",
              "      <td>0</td>\n",
              "      <td>0</td>\n",
              "      <td>0</td>\n",
              "      <td>0</td>\n",
              "      <td>1</td>\n",
              "    </tr>\n",
              "    <tr>\n",
              "      <th>2516</th>\n",
              "      <td>// XMLReaderFactory.java - factory for creatin...</td>\n",
              "      <td>0</td>\n",
              "      <td>0</td>\n",
              "      <td>0</td>\n",
              "      <td>0</td>\n",
              "      <td>0</td>\n",
              "      <td>1</td>\n",
              "    </tr>\n",
              "  </tbody>\n",
              "</table>\n",
              "<p>2517 rows × 7 columns</p>\n",
              "</div>\n",
              "      <button class=\"colab-df-convert\" onclick=\"convertToInteractive('df-3ccc9352-30f6-4912-afe2-cb8ee04b3fb4')\"\n",
              "              title=\"Convert this dataframe to an interactive table.\"\n",
              "              style=\"display:none;\">\n",
              "        \n",
              "  <svg xmlns=\"http://www.w3.org/2000/svg\" height=\"24px\"viewBox=\"0 0 24 24\"\n",
              "       width=\"24px\">\n",
              "    <path d=\"M0 0h24v24H0V0z\" fill=\"none\"/>\n",
              "    <path d=\"M18.56 5.44l.94 2.06.94-2.06 2.06-.94-2.06-.94-.94-2.06-.94 2.06-2.06.94zm-11 1L8.5 8.5l.94-2.06 2.06-.94-2.06-.94L8.5 2.5l-.94 2.06-2.06.94zm10 10l.94 2.06.94-2.06 2.06-.94-2.06-.94-.94-2.06-.94 2.06-2.06.94z\"/><path d=\"M17.41 7.96l-1.37-1.37c-.4-.4-.92-.59-1.43-.59-.52 0-1.04.2-1.43.59L10.3 9.45l-7.72 7.72c-.78.78-.78 2.05 0 2.83L4 21.41c.39.39.9.59 1.41.59.51 0 1.02-.2 1.41-.59l7.78-7.78 2.81-2.81c.8-.78.8-2.07 0-2.86zM5.41 20L4 18.59l7.72-7.72 1.47 1.35L5.41 20z\"/>\n",
              "  </svg>\n",
              "      </button>\n",
              "      \n",
              "  <style>\n",
              "    .colab-df-container {\n",
              "      display:flex;\n",
              "      flex-wrap:wrap;\n",
              "      gap: 12px;\n",
              "    }\n",
              "\n",
              "    .colab-df-convert {\n",
              "      background-color: #E8F0FE;\n",
              "      border: none;\n",
              "      border-radius: 50%;\n",
              "      cursor: pointer;\n",
              "      display: none;\n",
              "      fill: #1967D2;\n",
              "      height: 32px;\n",
              "      padding: 0 0 0 0;\n",
              "      width: 32px;\n",
              "    }\n",
              "\n",
              "    .colab-df-convert:hover {\n",
              "      background-color: #E2EBFA;\n",
              "      box-shadow: 0px 1px 2px rgba(60, 64, 67, 0.3), 0px 1px 3px 1px rgba(60, 64, 67, 0.15);\n",
              "      fill: #174EA6;\n",
              "    }\n",
              "\n",
              "    [theme=dark] .colab-df-convert {\n",
              "      background-color: #3B4455;\n",
              "      fill: #D2E3FC;\n",
              "    }\n",
              "\n",
              "    [theme=dark] .colab-df-convert:hover {\n",
              "      background-color: #434B5C;\n",
              "      box-shadow: 0px 1px 3px 1px rgba(0, 0, 0, 0.15);\n",
              "      filter: drop-shadow(0px 1px 2px rgba(0, 0, 0, 0.3));\n",
              "      fill: #FFFFFF;\n",
              "    }\n",
              "  </style>\n",
              "\n",
              "      <script>\n",
              "        const buttonEl =\n",
              "          document.querySelector('#df-3ccc9352-30f6-4912-afe2-cb8ee04b3fb4 button.colab-df-convert');\n",
              "        buttonEl.style.display =\n",
              "          google.colab.kernel.accessAllowed ? 'block' : 'none';\n",
              "\n",
              "        async function convertToInteractive(key) {\n",
              "          const element = document.querySelector('#df-3ccc9352-30f6-4912-afe2-cb8ee04b3fb4');\n",
              "          const dataTable =\n",
              "            await google.colab.kernel.invokeFunction('convertToInteractive',\n",
              "                                                     [key], {});\n",
              "          if (!dataTable) return;\n",
              "\n",
              "          const docLinkHtml = 'Like what you see? Visit the ' +\n",
              "            '<a target=\"_blank\" href=https://colab.research.google.com/notebooks/data_table.ipynb>data table notebook</a>'\n",
              "            + ' to learn more about interactive tables.';\n",
              "          element.innerHTML = '';\n",
              "          dataTable['output_type'] = 'display_data';\n",
              "          await google.colab.output.renderOutput(dataTable, element);\n",
              "          const docLink = document.createElement('div');\n",
              "          docLink.innerHTML = docLinkHtml;\n",
              "          element.appendChild(docLink);\n",
              "        }\n",
              "      </script>\n",
              "    </div>\n",
              "  </div>\n",
              "  "
            ],
            "text/plain": [
              "                                              Component  CDSBP  CC  LC  LZC  \\\n",
              "0     /*\\n *  Licensed to the Apache Software Founda...      1   0   0    0   \n",
              "1     /*\\n *  Licensed to the Apache Software Founda...      0   0   0    0   \n",
              "2     /*\\n *  Licensed to the Apache Software Founda...      0   0   0    0   \n",
              "3     /*\\n *  Licensed to the Apache Software Founda...      0   0   0    0   \n",
              "4     /*\\n *  Licensed to the Apache Software Founda...      0   0   0    0   \n",
              "...                                                 ...    ...  ..  ..  ...   \n",
              "2512  /*\\n * The Apache Software License, Version 1....      0   0   0    0   \n",
              "2513  /*\\n * The Apache Software License, Version 1....      0   0   0    0   \n",
              "2514  /*\\n * The Apache Software License, Version 1....      0   0   0    0   \n",
              "2515  /*\\n * The Apache Software License, Version 1....      0   0   0    0   \n",
              "2516  // XMLReaderFactory.java - factory for creatin...      0   0   0    0   \n",
              "\n",
              "      RB  SC  \n",
              "0      0   0  \n",
              "1      0   1  \n",
              "2      0   1  \n",
              "3      0   1  \n",
              "4      0   1  \n",
              "...   ..  ..  \n",
              "2512   0   1  \n",
              "2513   0   1  \n",
              "2514   0   1  \n",
              "2515   0   1  \n",
              "2516   0   1  \n",
              "\n",
              "[2517 rows x 7 columns]"
            ]
          },
          "execution_count": 29,
          "metadata": {},
          "output_type": "execute_result"
        }
      ],
      "source": [
        "dataframe"
      ]
    },
    {
      "cell_type": "code",
      "execution_count": 30,
      "metadata": {
        "colab": {
          "base_uri": "https://localhost:8080/"
        },
        "id": "v_Tqe-sZCF-N",
        "outputId": "9c408831-525b-4a42-cd18-93a112b93f89"
      },
      "outputs": [
        {
          "name": "stderr",
          "output_type": "stream",
          "text": [
            "All model checkpoint layers were used when initializing TFBertForSequenceClassification.\n",
            "\n",
            "Some layers of TFBertForSequenceClassification were not initialized from the model checkpoint at bert-base-uncased and are newly initialized: ['classifier']\n",
            "You should probably TRAIN this model on a down-stream task to be able to use it for predictions and inference.\n"
          ]
        }
      ],
      "source": [
        "# Carica il tokenizer\n",
        "tokenizer = BertTokenizerFast.from_pretrained('bert-base-uncased')\n",
        "\n",
        "# Carica il modello\n",
        "model = TFBertForSequenceClassification.from_pretrained('bert-base-uncased', num_labels=6)\n"
      ]
    },
    {
      "cell_type": "code",
      "execution_count": 31,
      "metadata": {
        "id": "jTlbNNJTCJAT"
      },
      "outputs": [],
      "source": [
        "# Creazione X e y. X = dataset senza le etichette, y = etichette\n",
        "dataframe2 = dataframe.drop(columns=['CDSBP','CC','LC','LZC','RB','SC'])\n",
        "y = dataframe[['CDSBP','CC','LC','LZC','RB','SC']]"
      ]
    },
    {
      "cell_type": "code",
      "execution_count": 32,
      "metadata": {
        "id": "KUO5Z9qxCKB8"
      },
      "outputs": [],
      "source": [
        "# Divisione in train, validation e test set\n",
        "# X_train, X_test, Y_train, Y_test = train_test_split(dataframe2, y, test_size=0.33, random_state=1)\n",
        "X_train, X_val_test, Y_train, Y_val_test = train_test_split(dataframe2, y, test_size=0.4, random_state=1)\n",
        "X_val, X_test, Y_val, Y_test = train_test_split(X_val_test, Y_val_test, test_size=0.5, random_state=1)"
      ]
    },
    {
      "cell_type": "code",
      "execution_count": 33,
      "metadata": {
        "id": "hpyBf84yCLOb"
      },
      "outputs": [],
      "source": [
        "l1 = [str(i) for i in X_train['Component'].tolist()]\n",
        "l2 = [str(i) for i in X_val['Component'].tolist()]\n",
        "l3 = [str(i) for i in X_test['Component'].tolist()]"
      ]
    },
    {
      "cell_type": "code",
      "execution_count": 34,
      "metadata": {
        "colab": {
          "base_uri": "https://localhost:8080/"
        },
        "id": "0xsAOmJhCNnZ",
        "outputId": "9e1e6502-8830-4001-a726-b976650ee238"
      },
      "outputs": [
        {
          "name": "stdout",
          "output_type": "stream",
          "text": [
            "FATTA TOKENIZZAZIONE\n"
          ]
        }
      ],
      "source": [
        "X_train_tokenized = tokenizer(l1, padding=True, truncation=True, max_length=256, return_tensors='tf')\n",
        "X_val_tokenized = tokenizer(l2, padding=True, truncation=True, max_length=256, return_tensors='tf')\n",
        "X_test_tokenized = tokenizer(l3, padding=True, truncation=True, max_length=256, return_tensors='tf')\n",
        "print(\"FATTA TOKENIZZAZIONE\")"
      ]
    },
    {
      "cell_type": "code",
      "execution_count": 35,
      "metadata": {
        "id": "_OSaLXv1CPHg"
      },
      "outputs": [],
      "source": [
        "# Estrai le sequenze di token e le maschere di attenzione\n",
        "X_train_input_ids = X_train_tokenized['input_ids']\n",
        "X_train_attention_mask = X_train_tokenized['attention_mask']\n",
        "\n",
        "X_val_input_ids = X_val_tokenized['input_ids']\n",
        "X_val_attention_mask = X_val_tokenized['attention_mask']\n",
        "\n",
        "X_test_input_ids = X_test_tokenized['input_ids']\n",
        "X_test_attention_mask = X_test_tokenized['attention_mask']"
      ]
    },
    {
      "cell_type": "code",
      "execution_count": 36,
      "metadata": {
        "id": "hkoJiC9iCRIh"
      },
      "outputs": [],
      "source": [
        "model.compile(loss='binary_crossentropy', optimizer='adam', metrics=['accuracy'])"
      ]
    },
    {
      "cell_type": "code",
      "execution_count": 37,
      "metadata": {
        "colab": {
          "base_uri": "https://localhost:8080/"
        },
        "id": "upu0xdPGCSur",
        "outputId": "6131d19d-623d-4096-9139-7375725b7714"
      },
      "outputs": [
        {
          "name": "stdout",
          "output_type": "stream",
          "text": [
            "Epoch 1/20\n",
            "48/48 [==============================] - 140s 2s/step - loss: 3.0049 - accuracy: 0.3775 - val_loss: 3.2524 - val_accuracy: 0.3638\n",
            "Epoch 2/20\n",
            "48/48 [==============================] - 83s 2s/step - loss: 3.0810 - accuracy: 0.3974 - val_loss: 3.2524 - val_accuracy: 0.3638\n",
            "Epoch 3/20\n",
            "48/48 [==============================] - 83s 2s/step - loss: 3.0810 - accuracy: 0.3974 - val_loss: 3.2524 - val_accuracy: 0.3638\n",
            "Epoch 4/20\n",
            "48/48 [==============================] - 83s 2s/step - loss: 3.0810 - accuracy: 0.3974 - val_loss: 3.2524 - val_accuracy: 0.3638\n",
            "Epoch 5/20\n",
            "48/48 [==============================] - 83s 2s/step - loss: 3.0810 - accuracy: 0.3974 - val_loss: 3.2524 - val_accuracy: 0.3638\n",
            "Epoch 6/20\n",
            "48/48 [==============================] - 83s 2s/step - loss: 3.0810 - accuracy: 0.3974 - val_loss: 3.2524 - val_accuracy: 0.3638\n",
            "Epoch 7/20\n",
            "48/48 [==============================] - 83s 2s/step - loss: 3.0810 - accuracy: 0.3974 - val_loss: 3.2524 - val_accuracy: 0.3638\n"
          ]
        }
      ],
      "source": [
        "history = model.fit(\n",
        "    x=X_train_input_ids,\n",
        "    y=Y_train,\n",
        "    batch_size=32,\n",
        "    epochs=20,\n",
        "    validation_data=(X_val_input_ids, Y_val),\n",
        "    verbose=1,\n",
        "    callbacks=[EarlyStopping(patience=6)],\n",
        "    )"
      ]
    },
    {
      "cell_type": "code",
      "execution_count": 38,
      "metadata": {
        "colab": {
          "base_uri": "https://localhost:8080/"
        },
        "id": "mXHpUHuIZMah",
        "outputId": "1dbc20f3-3fc5-45c0-999d-5832ba654207"
      },
      "outputs": [
        {
          "name": "stdout",
          "output_type": "stream",
          "text": [
            "16/16 [==============================] - 13s 535ms/step\n"
          ]
        }
      ],
      "source": [
        "# Fai le predizioni sul test set\n",
        "\n",
        "Y_pred = model.predict([X_test_input_ids,X_test_attention_mask])"
      ]
    },
    {
      "cell_type": "code",
      "execution_count": 52,
      "metadata": {
        "colab": {
          "base_uri": "https://localhost:8080/"
        },
        "id": "8u1yfkpPy-W7",
        "outputId": "8c6d91da-618f-461d-a857-18eb6d7ece25"
      },
      "outputs": [
        {
          "name": "stdout",
          "output_type": "stream",
          "text": [
            "Accuracy: 0.38095238095238093\n",
            "Precision: 0.06349206349206349\n",
            "Recall: 0.16666666666666666\n"
          ]
        },
        {
          "name": "stderr",
          "output_type": "stream",
          "text": [
            "/usr/local/lib/python3.10/dist-packages/sklearn/metrics/_classification.py:1344: UndefinedMetricWarning: Precision is ill-defined and being set to 0.0 in labels with no predicted samples. Use `zero_division` parameter to control this behavior.\n",
            "  _warn_prf(average, modifier, msg_start, len(result))\n"
          ]
        }
      ],
      "source": [
        "# Calcola l'accuracy\n",
        "Y_test_binary = np.argmax(Y_test.values, axis=1)\n",
        "accuracy = accuracy_score(Y_test_binary, Y_pred.logits.argmax(axis=1))\n",
        "precision = precision_score(Y_test_binary, Y_pred.logits.argmax(axis=1), average=\"macro\")\n",
        "recall = recall_score(Y_test_binary, Y_pred.logits.argmax(axis=1), average=\"macro\")\n",
        "print(\"Accuracy:\", accuracy)\n",
        "print(\"Precision:\", precision)\n",
        "print(\"Recall:\", recall)"
      ]
    },
    {
      "cell_type": "code",
      "execution_count": 40,
      "metadata": {
        "colab": {
          "base_uri": "https://localhost:8080/"
        },
        "id": "b9V9nlvEJk9n",
        "outputId": "3fde8bc5-08a3-468c-85c6-9ab8c079cd81"
      },
      "outputs": [
        {
          "name": "stdout",
          "output_type": "stream",
          "text": [
            "[[  0   0   0   0   0 113]\n",
            " [  0   0   0   0   0  36]\n",
            " [  0   0   0   0   0  47]\n",
            " [  0   0   0   0   0  33]\n",
            " [  0   0   0   0   0  83]\n",
            " [  0   0   0   0   0 192]]\n"
          ]
        }
      ],
      "source": [
        "# Calcola la matrice di confusione\n",
        "cm = confusion_matrix(Y_test_binary, Y_pred.logits.argmax(axis=1))\n",
        "\n",
        "# Stampa la matrice di confusione\n",
        "print(cm)\n"
      ]
    },
    {
      "cell_type": "code",
      "execution_count": 41,
      "metadata": {
        "id": "Z_otbGwoCUHY"
      },
      "outputs": [],
      "source": [
        "# # Aggiungi un layer di output con funzione di attivazione softmax\n",
        "\n",
        "# # Crea un nuovo modello Keras sequenziale\n",
        "# new_model = Sequential()\n",
        "\n",
        "# # Aggiungi il modello BERT come primo layer\n",
        "# new_model.add(model)\n",
        "\n",
        "# # Aggiungi il tuo nuovo layer come secondo layer\n",
        "# new_model.add(Dense(6, activation='softmax'))\n",
        "\n",
        "# # Ora puoi utilizzare il nuovo modello per addestrare e valutare il tuo task specifico\n",
        "# new_model.compile(loss='binary_crossentropy', optimizer='adam', metrics=['accuracy'])\n"
      ]
    },
    {
      "cell_type": "code",
      "execution_count": 42,
      "metadata": {
        "id": "2_z30lUvXWey"
      },
      "outputs": [],
      "source": [
        "# history = new_model.fit(\n",
        "#     x=X_train_input_ids,\n",
        "#     y=Y_train,\n",
        "#     batch_size=32,\n",
        "#     epochs=10,\n",
        "#     validation_data=(X_val_input_ids, Y_val),\n",
        "#     verbose=1,\n",
        "#     callbacks=[EarlyStopping(patience=3)],\n",
        "#     )"
      ]
    },
    {
      "cell_type": "code",
      "execution_count": 43,
      "metadata": {
        "id": "_Uo4IIL9RqqV"
      },
      "outputs": [],
      "source": [
        "# new_model = Sequential()\n",
        "# new_model.add(model)\n",
        "# new_model.add(Dense(64, activation='softmax'))\n",
        "# new_model.add(Dense(6, activation='sigmoid'))\n"
      ]
    },
    {
      "cell_type": "code",
      "execution_count": 44,
      "metadata": {
        "id": "1fx_aKpRVXtx"
      },
      "outputs": [],
      "source": [
        "# from transformers import BertTokenizer\n",
        "# tokenizer = BertTokenizer.from_pretrained('bert-base-uncased')"
      ]
    },
    {
      "cell_type": "code",
      "execution_count": 45,
      "metadata": {
        "id": "wZfn8meWVoj0"
      },
      "outputs": [],
      "source": [
        "# X_train_tokenized = tokenizer(l1, padding=True, truncation=True, max_length=256, return_tensors='tf')\n",
        "# X_val_tokenized = tokenizer(l2, padding=True, truncation=True, max_length=256, return_tensors='tf')\n",
        "# X_test_tokenized = tokenizer(l3, padding=True, truncation=True, max_length=256, return_tensors='tf')\n",
        "# print(\"FATTA TOKENIZZAZIONE\")"
      ]
    },
    {
      "cell_type": "code",
      "execution_count": 46,
      "metadata": {
        "id": "sMLzd2V6W-uV"
      },
      "outputs": [],
      "source": [
        "# # Estrai le sequenze di token e le maschere di attenzione\n",
        "# X_train_input_ids = X_train_tokenized['input_ids']\n",
        "# X_train_attention_mask = X_train_tokenized['attention_mask']\n",
        "\n",
        "# X_val_input_ids = X_val_tokenized['input_ids']\n",
        "# X_val_attention_mask = X_val_tokenized['attention_mask']\n",
        "\n",
        "# X_test_input_ids = X_test_tokenized['input_ids']\n",
        "# X_test_attention_mask = X_test_tokenized['attention_mask']"
      ]
    },
    {
      "cell_type": "code",
      "execution_count": 47,
      "metadata": {
        "id": "rzc4AGW9R8dN"
      },
      "outputs": [],
      "source": [
        "# new_model.compile(loss='binary_crossentropy', optimizer='adam', metrics=['accuracy'])\n",
        "# new_history = new_model.fit(\n",
        "#     x=X_train_input_ids,\n",
        "#     y=Y_train,\n",
        "#     batch_size=32,\n",
        "#     epochs=10,\n",
        "#     validation_data=(X_val_input_ids, Y_val),\n",
        "#     verbose=1,\n",
        "#     callbacks=[EarlyStopping(patience=6)],\n",
        "# )\n"
      ]
    },
    {
      "cell_type": "code",
      "execution_count": 48,
      "metadata": {
        "id": "BJ4tsS83R-2_"
      },
      "outputs": [],
      "source": [
        "# new_Y_pred = new_model.predict([X_test_input_ids,X_test_attention_mask])\n",
        "# new_Y_test_binary = np.argmax(Y_test.values, axis=1)\n",
        "# new_accuracy = accuracy_score(new_Y_test_binary, new_Y_pred.argmax(axis=1))\n",
        "# print(\"New accuracy:\", new_accuracy)\n"
      ]
    }
  ],
  "metadata": {
    "accelerator": "GPU",
    "colab": {
      "provenance": []
    },
    "gpuClass": "standard",
    "kernelspec": {
      "display_name": "Python 3",
      "name": "python3"
    }
  },
  "nbformat": 4,
  "nbformat_minor": 0
}
