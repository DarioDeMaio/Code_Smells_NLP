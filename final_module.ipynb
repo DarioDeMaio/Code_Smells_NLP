{
 "cells": [
  {
   "cell_type": "code",
   "execution_count": 154,
   "metadata": {},
   "outputs": [],
   "source": [
    "# Import delle librerie necessarie\n",
    "import pandas as pd\n",
    "import seaborn as sns\n",
    "from sklearn.preprocessing import MinMaxScaler\n",
    "from sklearn.model_selection import train_test_split\n",
    "from sklearn.ensemble import RandomForestClassifier\n",
    "from sklearn.utils import resample\n",
    "import numpy as np\n",
    "from sklearn.model_selection import KFold\n",
    "from sklearn.metrics import accuracy_score, precision_score, recall_score, f1_score, matthews_corrcoef, roc_auc_score\n",
    "import os\n",
    "from sklearn.pipeline import Pipeline\n",
    "from sklearn.feature_extraction.text import CountVectorizer\n",
    "from sklearn.feature_extraction.text import TfidfTransformer\n",
    "from sklearn.neural_network import MLPClassifier"
   ]
  },
  {
   "cell_type": "code",
   "execution_count": 155,
   "metadata": {},
   "outputs": [
    {
     "name": "stdout",
     "output_type": "stream",
     "text": [
      "['ant-ivy-2.0.0-alpha2', 'ant-rel-1.8.3', 'cassandra-cassandra-1.0.0', 'elasticsearch-v0.19.0', 'hadoop-release-0.6.0', 'hive-release-0.9.0', 'hsqldb-2.2.8', 'karaf-karaf-2.3.0', 'lucene-releases-lucene-solr-3.6.0', 'manifold-cf-release-0.6', 'nutch-release-1.4', 'pig-release-0.8.0', 'qpid-0.14', 'struts-STRUTS_2_3_4', 'xerces2-j-Xerces-J_2_3_0']\n"
     ]
    }
   ],
   "source": [
    "path = \"../projects\"\n",
    "projects = []\n",
    "code_smells = ['CDSBP', 'CC', 'LC', 'LZC', 'RB', 'SC']\n",
    "# Itera su tutti i file e le cartelle nella cartella specificata\n",
    "for item in os.listdir(path):\n",
    "    # Se l'elemento nella cartella è una cartella, aggiungi il nome alla lista\n",
    "    if os.path.isdir(os.path.join(path, item)):\n",
    "       projects.append(item)\n",
    "    # Stampa la lista di nomi dei progetti\n",
    "print(projects)"
   ]
  },
  {
   "cell_type": "code",
   "execution_count": 156,
   "metadata": {},
   "outputs": [],
   "source": [
    "import os\n",
    "\n",
    "def load_data():\n",
    "    component = pd.read_csv(\"dataset/complete_dataset.csv\")\n",
    "    #component = component.drop(['Project','Version','Smell'],axis=1)\n",
    "    df = pd.DataFrame()\n",
    "\n",
    "    path = \"../projects\"\n",
    "    projects = []\n",
    "\n",
    "    # Itera su tutti i file e le cartelle nella cartella specificata\n",
    "    for item in os.listdir(path):\n",
    "        # Se l'elemento nella cartella è una cartella, aggiungi il nome alla lista\n",
    "        if os.path.isdir(os.path.join(path, item)):\n",
    "            projects.append(item)\n",
    "    # Stampa la lista di nomi dei progetti\n",
    "    print(projects)\n",
    "\n",
    "    possible_subfolders = [\"src/java\", \"src/main\", \"src/main/java\", \"src\"]\n",
    "    #classes = []\n",
    "\n",
    "    for k in range(len(projects)):\n",
    "        print(projects[k])\n",
    "        for i in range(len(component)):\n",
    "            line = component.loc[i,'ComponentName'].strip()\n",
    "            line = line.replace(\".\",\"/\") + \".java\"\n",
    "            for subfolder in possible_subfolders:\n",
    "                full_path = os.path.join(path, projects[k], subfolder, line)\n",
    "                if os.path.exists(full_path):\n",
    "                    with open(full_path, \"r\") as f:\n",
    "                        contenuto = f.read()\n",
    "                    # classes.append(contenuto)\n",
    "                    temp_df = pd.DataFrame({\n",
    "                        'Project_name': projects[k],\n",
    "                        'Component': [contenuto],\n",
    "                        'CBO' :[component.loc[i,'CBO']],\n",
    "                        'CYCLO' :[component.loc[i,'CYCLO']],\n",
    "                        'DIT' :[component.loc[i,'DIT']],\n",
    "                        'ELOC' :[component.loc[i,'ELOC']],\n",
    "                        'FanIn' :[component.loc[i,'FanIn']],\n",
    "                        'FanOut' :[component.loc[i,'FanOut']],\n",
    "                        'LCOM' :[component.loc[i,'LCOM']],\n",
    "                        'LOC' :[component.loc[i,'LOC']],\n",
    "                        'LOCNAMM' :[component.loc[i,'LOCNAMM']],\n",
    "                        'NOA' :[component.loc[i,'NOA']],\n",
    "                        'NOC' :[component.loc[i,'NOC']],\n",
    "                        'NOM' :[component.loc[i,'NOM']],\n",
    "                        'NOMNAMM' :[component.loc[i,'NOMNAMM']],\n",
    "                        'NOPA' :[component.loc[i,'NOPA']],\n",
    "                        'PMMM' :[component.loc[i,'PMMM']],\n",
    "                        'PRB' :[component.loc[i,'PRB']],\n",
    "                        'WLOCNAMM' :[component.loc[i,'WLOCNAMM']],\n",
    "                        'WMC' :[component.loc[i,'WMC']],\n",
    "                        'NOM' :[component.loc[i,'NOM']],\n",
    "                        'WMCNAMM': [component.loc[i,'WMCNAMM']],\n",
    "                        'NMNOPARAM': [component.loc[i,'NMNOPARAM']],\n",
    "                        'CDSBP': [component.loc[i,'CDSBP']],\n",
    "                        'CC': [component.loc[i,'CC']],\n",
    "                        'LC': [component.loc[i,'LC']],\n",
    "                        'LZC': [component.loc[i,'LZC']],\n",
    "                        'RB': [component.loc[i,'RB']],\n",
    "                        'SC': [component.loc[i,'SC']]\n",
    "                    })\n",
    "                    df = pd.concat([df, temp_df], ignore_index=True)\n",
    "                    break # Esci dal ciclo for se hai trovato il file\n",
    "    return df"
   ]
  },
  {
   "cell_type": "code",
   "execution_count": 157,
   "metadata": {},
   "outputs": [
    {
     "name": "stdout",
     "output_type": "stream",
     "text": [
      "['ant-ivy-2.0.0-alpha2', 'ant-rel-1.8.3', 'cassandra-cassandra-1.0.0', 'elasticsearch-v0.19.0', 'hadoop-release-0.6.0', 'hive-release-0.9.0', 'hsqldb-2.2.8', 'karaf-karaf-2.3.0', 'lucene-releases-lucene-solr-3.6.0', 'manifold-cf-release-0.6', 'nutch-release-1.4', 'pig-release-0.8.0', 'qpid-0.14', 'struts-STRUTS_2_3_4', 'xerces2-j-Xerces-J_2_3_0']\n",
      "ant-ivy-2.0.0-alpha2\n",
      "ant-rel-1.8.3\n",
      "cassandra-cassandra-1.0.0\n",
      "elasticsearch-v0.19.0\n",
      "hadoop-release-0.6.0\n",
      "hive-release-0.9.0\n",
      "hsqldb-2.2.8\n",
      "karaf-karaf-2.3.0\n",
      "lucene-releases-lucene-solr-3.6.0\n",
      "manifold-cf-release-0.6\n",
      "nutch-release-1.4\n",
      "pig-release-0.8.0\n",
      "qpid-0.14\n",
      "struts-STRUTS_2_3_4\n",
      "xerces2-j-Xerces-J_2_3_0\n"
     ]
    }
   ],
   "source": [
    "df = load_data()"
   ]
  },
  {
   "cell_type": "code",
   "execution_count": 158,
   "metadata": {},
   "outputs": [
    {
     "data": {
      "text/html": [
       "<div>\n",
       "<style scoped>\n",
       "    .dataframe tbody tr th:only-of-type {\n",
       "        vertical-align: middle;\n",
       "    }\n",
       "\n",
       "    .dataframe tbody tr th {\n",
       "        vertical-align: top;\n",
       "    }\n",
       "\n",
       "    .dataframe thead th {\n",
       "        text-align: right;\n",
       "    }\n",
       "</style>\n",
       "<table border=\"1\" class=\"dataframe\">\n",
       "  <thead>\n",
       "    <tr style=\"text-align: right;\">\n",
       "      <th></th>\n",
       "      <th>Project_name</th>\n",
       "      <th>Component</th>\n",
       "      <th>CBO</th>\n",
       "      <th>CYCLO</th>\n",
       "      <th>DIT</th>\n",
       "      <th>ELOC</th>\n",
       "      <th>FanIn</th>\n",
       "      <th>FanOut</th>\n",
       "      <th>LCOM</th>\n",
       "      <th>LOC</th>\n",
       "      <th>...</th>\n",
       "      <th>WLOCNAMM</th>\n",
       "      <th>WMC</th>\n",
       "      <th>WMCNAMM</th>\n",
       "      <th>NMNOPARAM</th>\n",
       "      <th>CDSBP</th>\n",
       "      <th>CC</th>\n",
       "      <th>LC</th>\n",
       "      <th>LZC</th>\n",
       "      <th>RB</th>\n",
       "      <th>SC</th>\n",
       "    </tr>\n",
       "  </thead>\n",
       "  <tbody>\n",
       "    <tr>\n",
       "      <th>0</th>\n",
       "      <td>ant-ivy-2.0.0-alpha2</td>\n",
       "      <td>/*\\n *  Licensed to the Apache Software Founda...</td>\n",
       "      <td>41.0</td>\n",
       "      <td>136.0</td>\n",
       "      <td>1.0</td>\n",
       "      <td>346.0</td>\n",
       "      <td>2036.0</td>\n",
       "      <td>83.0</td>\n",
       "      <td>1482.0</td>\n",
       "      <td>346.0</td>\n",
       "      <td>...</td>\n",
       "      <td>5.592593</td>\n",
       "      <td>136.0</td>\n",
       "      <td>0.0</td>\n",
       "      <td>23.0</td>\n",
       "      <td>0</td>\n",
       "      <td>0</td>\n",
       "      <td>0</td>\n",
       "      <td>0</td>\n",
       "      <td>0</td>\n",
       "      <td>0</td>\n",
       "    </tr>\n",
       "    <tr>\n",
       "      <th>1</th>\n",
       "      <td>ant-ivy-2.0.0-alpha2</td>\n",
       "      <td>/*\\n *  Licensed to the Apache Software Founda...</td>\n",
       "      <td>31.0</td>\n",
       "      <td>172.0</td>\n",
       "      <td>1.0</td>\n",
       "      <td>221.0</td>\n",
       "      <td>0.0</td>\n",
       "      <td>207.0</td>\n",
       "      <td>0.0</td>\n",
       "      <td>221.0</td>\n",
       "      <td>...</td>\n",
       "      <td>3.583333</td>\n",
       "      <td>172.0</td>\n",
       "      <td>0.0</td>\n",
       "      <td>6.0</td>\n",
       "      <td>0</td>\n",
       "      <td>0</td>\n",
       "      <td>0</td>\n",
       "      <td>0</td>\n",
       "      <td>0</td>\n",
       "      <td>0</td>\n",
       "    </tr>\n",
       "    <tr>\n",
       "      <th>2</th>\n",
       "      <td>ant-ivy-2.0.0-alpha2</td>\n",
       "      <td>/*\\n *  Licensed to the Apache Software Founda...</td>\n",
       "      <td>43.0</td>\n",
       "      <td>35.0</td>\n",
       "      <td>1.0</td>\n",
       "      <td>295.0</td>\n",
       "      <td>20.0</td>\n",
       "      <td>121.0</td>\n",
       "      <td>45.0</td>\n",
       "      <td>295.0</td>\n",
       "      <td>...</td>\n",
       "      <td>28.900000</td>\n",
       "      <td>35.0</td>\n",
       "      <td>0.0</td>\n",
       "      <td>2.0</td>\n",
       "      <td>0</td>\n",
       "      <td>0</td>\n",
       "      <td>0</td>\n",
       "      <td>0</td>\n",
       "      <td>0</td>\n",
       "      <td>0</td>\n",
       "    </tr>\n",
       "    <tr>\n",
       "      <th>3</th>\n",
       "      <td>ant-ivy-2.0.0-alpha2</td>\n",
       "      <td>/*\\n *  Licensed to the Apache Software Founda...</td>\n",
       "      <td>8.0</td>\n",
       "      <td>25.0</td>\n",
       "      <td>2.0</td>\n",
       "      <td>59.0</td>\n",
       "      <td>0.0</td>\n",
       "      <td>11.0</td>\n",
       "      <td>0.0</td>\n",
       "      <td>59.0</td>\n",
       "      <td>...</td>\n",
       "      <td>4.363636</td>\n",
       "      <td>25.0</td>\n",
       "      <td>0.0</td>\n",
       "      <td>5.0</td>\n",
       "      <td>0</td>\n",
       "      <td>0</td>\n",
       "      <td>0</td>\n",
       "      <td>0</td>\n",
       "      <td>0</td>\n",
       "      <td>0</td>\n",
       "    </tr>\n",
       "    <tr>\n",
       "      <th>4</th>\n",
       "      <td>ant-ivy-2.0.0-alpha2</td>\n",
       "      <td>/*\\n *  Licensed to the Apache Software Founda...</td>\n",
       "      <td>16.0</td>\n",
       "      <td>26.0</td>\n",
       "      <td>2.0</td>\n",
       "      <td>101.0</td>\n",
       "      <td>2.0</td>\n",
       "      <td>37.0</td>\n",
       "      <td>44.0</td>\n",
       "      <td>101.0</td>\n",
       "      <td>...</td>\n",
       "      <td>8.888889</td>\n",
       "      <td>26.0</td>\n",
       "      <td>0.0</td>\n",
       "      <td>4.0</td>\n",
       "      <td>0</td>\n",
       "      <td>0</td>\n",
       "      <td>0</td>\n",
       "      <td>0</td>\n",
       "      <td>0</td>\n",
       "      <td>0</td>\n",
       "    </tr>\n",
       "    <tr>\n",
       "      <th>...</th>\n",
       "      <td>...</td>\n",
       "      <td>...</td>\n",
       "      <td>...</td>\n",
       "      <td>...</td>\n",
       "      <td>...</td>\n",
       "      <td>...</td>\n",
       "      <td>...</td>\n",
       "      <td>...</td>\n",
       "      <td>...</td>\n",
       "      <td>...</td>\n",
       "      <td>...</td>\n",
       "      <td>...</td>\n",
       "      <td>...</td>\n",
       "      <td>...</td>\n",
       "      <td>...</td>\n",
       "      <td>...</td>\n",
       "      <td>...</td>\n",
       "      <td>...</td>\n",
       "      <td>...</td>\n",
       "      <td>...</td>\n",
       "      <td>...</td>\n",
       "    </tr>\n",
       "    <tr>\n",
       "      <th>8139</th>\n",
       "      <td>xerces2-j-Xerces-J_2_3_0</td>\n",
       "      <td>/*\\n * The Apache Software License, Version 1....</td>\n",
       "      <td>4.0</td>\n",
       "      <td>25.0</td>\n",
       "      <td>2.0</td>\n",
       "      <td>55.0</td>\n",
       "      <td>5.0</td>\n",
       "      <td>15.0</td>\n",
       "      <td>28.0</td>\n",
       "      <td>55.0</td>\n",
       "      <td>...</td>\n",
       "      <td>9.375000</td>\n",
       "      <td>25.0</td>\n",
       "      <td>0.0</td>\n",
       "      <td>5.0</td>\n",
       "      <td>0</td>\n",
       "      <td>0</td>\n",
       "      <td>0</td>\n",
       "      <td>0</td>\n",
       "      <td>0</td>\n",
       "      <td>0</td>\n",
       "    </tr>\n",
       "    <tr>\n",
       "      <th>8140</th>\n",
       "      <td>xerces2-j-Xerces-J_2_3_0</td>\n",
       "      <td>// XMLFilterImpl.java - base SAX2 filter imple...</td>\n",
       "      <td>14.0</td>\n",
       "      <td>120.0</td>\n",
       "      <td>1.0</td>\n",
       "      <td>449.0</td>\n",
       "      <td>2.0</td>\n",
       "      <td>29.0</td>\n",
       "      <td>364.0</td>\n",
       "      <td>449.0</td>\n",
       "      <td>...</td>\n",
       "      <td>12.548387</td>\n",
       "      <td>120.0</td>\n",
       "      <td>0.0</td>\n",
       "      <td>9.0</td>\n",
       "      <td>0</td>\n",
       "      <td>0</td>\n",
       "      <td>0</td>\n",
       "      <td>0</td>\n",
       "      <td>0</td>\n",
       "      <td>0</td>\n",
       "    </tr>\n",
       "    <tr>\n",
       "      <th>8141</th>\n",
       "      <td>xerces2-j-Xerces-J_2_3_0</td>\n",
       "      <td>// XMLReaderAdapter.java - adapt an SAX2 XMLRe...</td>\n",
       "      <td>15.0</td>\n",
       "      <td>45.0</td>\n",
       "      <td>1.0</td>\n",
       "      <td>279.0</td>\n",
       "      <td>2.0</td>\n",
       "      <td>20.0</td>\n",
       "      <td>115.0</td>\n",
       "      <td>279.0</td>\n",
       "      <td>...</td>\n",
       "      <td>9.227273</td>\n",
       "      <td>45.0</td>\n",
       "      <td>0.0</td>\n",
       "      <td>4.0</td>\n",
       "      <td>0</td>\n",
       "      <td>0</td>\n",
       "      <td>0</td>\n",
       "      <td>0</td>\n",
       "      <td>0</td>\n",
       "      <td>0</td>\n",
       "    </tr>\n",
       "    <tr>\n",
       "      <th>8142</th>\n",
       "      <td>xerces2-j-Xerces-J_2_3_0</td>\n",
       "      <td>// XMLReaderFactory.java - factory for creatin...</td>\n",
       "      <td>5.0</td>\n",
       "      <td>16.0</td>\n",
       "      <td>1.0</td>\n",
       "      <td>97.0</td>\n",
       "      <td>11.0</td>\n",
       "      <td>12.0</td>\n",
       "      <td>6.0</td>\n",
       "      <td>97.0</td>\n",
       "      <td>...</td>\n",
       "      <td>22.000000</td>\n",
       "      <td>16.0</td>\n",
       "      <td>0.0</td>\n",
       "      <td>2.0</td>\n",
       "      <td>0</td>\n",
       "      <td>0</td>\n",
       "      <td>0</td>\n",
       "      <td>0</td>\n",
       "      <td>0</td>\n",
       "      <td>1</td>\n",
       "    </tr>\n",
       "    <tr>\n",
       "      <th>8143</th>\n",
       "      <td>xerces2-j-Xerces-J_2_3_0</td>\n",
       "      <td>// XMLReaderFactory.java - factory for creatin...</td>\n",
       "      <td>5.0</td>\n",
       "      <td>16.0</td>\n",
       "      <td>1.0</td>\n",
       "      <td>97.0</td>\n",
       "      <td>11.0</td>\n",
       "      <td>12.0</td>\n",
       "      <td>6.0</td>\n",
       "      <td>97.0</td>\n",
       "      <td>...</td>\n",
       "      <td>22.000000</td>\n",
       "      <td>16.0</td>\n",
       "      <td>0.0</td>\n",
       "      <td>2.0</td>\n",
       "      <td>0</td>\n",
       "      <td>0</td>\n",
       "      <td>0</td>\n",
       "      <td>0</td>\n",
       "      <td>0</td>\n",
       "      <td>1</td>\n",
       "    </tr>\n",
       "  </tbody>\n",
       "</table>\n",
       "<p>8144 rows × 28 columns</p>\n",
       "</div>"
      ],
      "text/plain": [
       "                  Project_name  \\\n",
       "0         ant-ivy-2.0.0-alpha2   \n",
       "1         ant-ivy-2.0.0-alpha2   \n",
       "2         ant-ivy-2.0.0-alpha2   \n",
       "3         ant-ivy-2.0.0-alpha2   \n",
       "4         ant-ivy-2.0.0-alpha2   \n",
       "...                        ...   \n",
       "8139  xerces2-j-Xerces-J_2_3_0   \n",
       "8140  xerces2-j-Xerces-J_2_3_0   \n",
       "8141  xerces2-j-Xerces-J_2_3_0   \n",
       "8142  xerces2-j-Xerces-J_2_3_0   \n",
       "8143  xerces2-j-Xerces-J_2_3_0   \n",
       "\n",
       "                                              Component   CBO  CYCLO  DIT  \\\n",
       "0     /*\\n *  Licensed to the Apache Software Founda...  41.0  136.0  1.0   \n",
       "1     /*\\n *  Licensed to the Apache Software Founda...  31.0  172.0  1.0   \n",
       "2     /*\\n *  Licensed to the Apache Software Founda...  43.0   35.0  1.0   \n",
       "3     /*\\n *  Licensed to the Apache Software Founda...   8.0   25.0  2.0   \n",
       "4     /*\\n *  Licensed to the Apache Software Founda...  16.0   26.0  2.0   \n",
       "...                                                 ...   ...    ...  ...   \n",
       "8139  /*\\n * The Apache Software License, Version 1....   4.0   25.0  2.0   \n",
       "8140  // XMLFilterImpl.java - base SAX2 filter imple...  14.0  120.0  1.0   \n",
       "8141  // XMLReaderAdapter.java - adapt an SAX2 XMLRe...  15.0   45.0  1.0   \n",
       "8142  // XMLReaderFactory.java - factory for creatin...   5.0   16.0  1.0   \n",
       "8143  // XMLReaderFactory.java - factory for creatin...   5.0   16.0  1.0   \n",
       "\n",
       "       ELOC   FanIn  FanOut    LCOM    LOC  ...   WLOCNAMM    WMC  WMCNAMM  \\\n",
       "0     346.0  2036.0    83.0  1482.0  346.0  ...   5.592593  136.0      0.0   \n",
       "1     221.0     0.0   207.0     0.0  221.0  ...   3.583333  172.0      0.0   \n",
       "2     295.0    20.0   121.0    45.0  295.0  ...  28.900000   35.0      0.0   \n",
       "3      59.0     0.0    11.0     0.0   59.0  ...   4.363636   25.0      0.0   \n",
       "4     101.0     2.0    37.0    44.0  101.0  ...   8.888889   26.0      0.0   \n",
       "...     ...     ...     ...     ...    ...  ...        ...    ...      ...   \n",
       "8139   55.0     5.0    15.0    28.0   55.0  ...   9.375000   25.0      0.0   \n",
       "8140  449.0     2.0    29.0   364.0  449.0  ...  12.548387  120.0      0.0   \n",
       "8141  279.0     2.0    20.0   115.0  279.0  ...   9.227273   45.0      0.0   \n",
       "8142   97.0    11.0    12.0     6.0   97.0  ...  22.000000   16.0      0.0   \n",
       "8143   97.0    11.0    12.0     6.0   97.0  ...  22.000000   16.0      0.0   \n",
       "\n",
       "      NMNOPARAM  CDSBP  CC  LC  LZC  RB  SC  \n",
       "0          23.0      0   0   0    0   0   0  \n",
       "1           6.0      0   0   0    0   0   0  \n",
       "2           2.0      0   0   0    0   0   0  \n",
       "3           5.0      0   0   0    0   0   0  \n",
       "4           4.0      0   0   0    0   0   0  \n",
       "...         ...    ...  ..  ..  ...  ..  ..  \n",
       "8139        5.0      0   0   0    0   0   0  \n",
       "8140        9.0      0   0   0    0   0   0  \n",
       "8141        4.0      0   0   0    0   0   0  \n",
       "8142        2.0      0   0   0    0   0   1  \n",
       "8143        2.0      0   0   0    0   0   1  \n",
       "\n",
       "[8144 rows x 28 columns]"
      ]
     },
     "execution_count": 158,
     "metadata": {},
     "output_type": "execute_result"
    }
   ],
   "source": [
    "df"
   ]
  },
  {
   "cell_type": "code",
   "execution_count": 159,
   "metadata": {},
   "outputs": [
    {
     "name": "stderr",
     "output_type": "stream",
     "text": [
      "[nltk_data] Downloading package stopwords to\n",
      "[nltk_data]     C:\\Users\\demai\\AppData\\Roaming\\nltk_data...\n",
      "[nltk_data]   Package stopwords is already up-to-date!\n",
      "C:\\Users\\demai\\AppData\\Local\\Temp\\ipykernel_7236\\2260007822.py:25: SettingWithCopyWarning: \n",
      "A value is trying to be set on a copy of a slice from a DataFrame\n",
      "\n",
      "See the caveats in the documentation: https://pandas.pydata.org/pandas-docs/stable/user_guide/indexing.html#returning-a-view-versus-a-copy\n",
      "  df['Component'][i] = remove_comments(df['Component'][i])\n"
     ]
    }
   ],
   "source": [
    "import nltk\n",
    "import re\n",
    "from nltk.corpus import stopwords\n",
    "nltk.download('stopwords')\n",
    "\n",
    "stop_words = set(stopwords.words('italian'))\n",
    "\n",
    "def remove_comments(code):\n",
    "    # Rimuove i commenti su una singola riga\n",
    "    code = re.sub(r'//.*', '', code)\n",
    "    # Rimuove i commenti su più righe\n",
    "    code = re.sub(r'/\\*.*?\\*/', '', code, flags=re.DOTALL)\n",
    "    # Rimuove le stopwords\n",
    "    tokens = [word.lower() for word in code.split() if word.lower() not in stop_words]\n",
    "    filtered_text = ' '.join(tokens)\n",
    "    # Rimuoviamo gli import\n",
    "    code = re.sub(r'import\\s+.*?;', '', code, flags=re.DOTALL)\n",
    "    # Rimuoviamo i package\n",
    "    code = re.sub(r'package\\s+.*?;', '', code, flags=re.DOTALL)\n",
    "    #Rimuove \\n e \\t\n",
    "    code = re.sub(r'[\\n\\t]', '', code)\n",
    "    return code\n",
    "\n",
    "for i in range(len(df)):\n",
    "    df['Component'][i] = remove_comments(df['Component'][i])"
   ]
  },
  {
   "cell_type": "code",
   "execution_count": 160,
   "metadata": {},
   "outputs": [],
   "source": [
    "df.dropna(inplace=True)"
   ]
  },
  {
   "cell_type": "code",
   "execution_count": 161,
   "metadata": {},
   "outputs": [
    {
     "data": {
      "text/html": [
       "<div>\n",
       "<style scoped>\n",
       "    .dataframe tbody tr th:only-of-type {\n",
       "        vertical-align: middle;\n",
       "    }\n",
       "\n",
       "    .dataframe tbody tr th {\n",
       "        vertical-align: top;\n",
       "    }\n",
       "\n",
       "    .dataframe thead th {\n",
       "        text-align: right;\n",
       "    }\n",
       "</style>\n",
       "<table border=\"1\" class=\"dataframe\">\n",
       "  <thead>\n",
       "    <tr style=\"text-align: right;\">\n",
       "      <th></th>\n",
       "      <th>Project_name</th>\n",
       "      <th>Component</th>\n",
       "      <th>CBO</th>\n",
       "      <th>CYCLO</th>\n",
       "      <th>DIT</th>\n",
       "      <th>ELOC</th>\n",
       "      <th>FanIn</th>\n",
       "      <th>FanOut</th>\n",
       "      <th>LCOM</th>\n",
       "      <th>LOC</th>\n",
       "      <th>...</th>\n",
       "      <th>WLOCNAMM</th>\n",
       "      <th>WMC</th>\n",
       "      <th>WMCNAMM</th>\n",
       "      <th>NMNOPARAM</th>\n",
       "      <th>CDSBP</th>\n",
       "      <th>CC</th>\n",
       "      <th>LC</th>\n",
       "      <th>LZC</th>\n",
       "      <th>RB</th>\n",
       "      <th>SC</th>\n",
       "    </tr>\n",
       "  </thead>\n",
       "  <tbody>\n",
       "    <tr>\n",
       "      <th>0</th>\n",
       "      <td>ant-ivy-2.0.0-alpha2</td>\n",
       "      <td>public class Ivy {    private static final int...</td>\n",
       "      <td>41.0</td>\n",
       "      <td>136.0</td>\n",
       "      <td>1.0</td>\n",
       "      <td>346.0</td>\n",
       "      <td>2036.0</td>\n",
       "      <td>83.0</td>\n",
       "      <td>1482.0</td>\n",
       "      <td>346.0</td>\n",
       "      <td>...</td>\n",
       "      <td>5.592593</td>\n",
       "      <td>136.0</td>\n",
       "      <td>0.0</td>\n",
       "      <td>23.0</td>\n",
       "      <td>0</td>\n",
       "      <td>0</td>\n",
       "      <td>0</td>\n",
       "      <td>0</td>\n",
       "      <td>0</td>\n",
       "      <td>0</td>\n",
       "    </tr>\n",
       "    <tr>\n",
       "      <th>1</th>\n",
       "      <td>ant-ivy-2.0.0-alpha2</td>\n",
       "      <td>public class Ivy14 {                    privat...</td>\n",
       "      <td>31.0</td>\n",
       "      <td>172.0</td>\n",
       "      <td>1.0</td>\n",
       "      <td>221.0</td>\n",
       "      <td>0.0</td>\n",
       "      <td>207.0</td>\n",
       "      <td>0.0</td>\n",
       "      <td>221.0</td>\n",
       "      <td>...</td>\n",
       "      <td>3.583333</td>\n",
       "      <td>172.0</td>\n",
       "      <td>0.0</td>\n",
       "      <td>6.0</td>\n",
       "      <td>0</td>\n",
       "      <td>0</td>\n",
       "      <td>0</td>\n",
       "      <td>0</td>\n",
       "      <td>0</td>\n",
       "      <td>0</td>\n",
       "    </tr>\n",
       "    <tr>\n",
       "      <th>2</th>\n",
       "      <td>ant-ivy-2.0.0-alpha2</td>\n",
       "      <td>public final class Main {    private static fi...</td>\n",
       "      <td>43.0</td>\n",
       "      <td>35.0</td>\n",
       "      <td>1.0</td>\n",
       "      <td>295.0</td>\n",
       "      <td>20.0</td>\n",
       "      <td>121.0</td>\n",
       "      <td>45.0</td>\n",
       "      <td>295.0</td>\n",
       "      <td>...</td>\n",
       "      <td>28.900000</td>\n",
       "      <td>35.0</td>\n",
       "      <td>0.0</td>\n",
       "      <td>2.0</td>\n",
       "      <td>0</td>\n",
       "      <td>0</td>\n",
       "      <td>0</td>\n",
       "      <td>0</td>\n",
       "      <td>0</td>\n",
       "      <td>0</td>\n",
       "    </tr>\n",
       "    <tr>\n",
       "      <th>3</th>\n",
       "      <td>ant-ivy-2.0.0-alpha2</td>\n",
       "      <td>public class AddPathTask extends Task {    pri...</td>\n",
       "      <td>8.0</td>\n",
       "      <td>25.0</td>\n",
       "      <td>2.0</td>\n",
       "      <td>59.0</td>\n",
       "      <td>0.0</td>\n",
       "      <td>11.0</td>\n",
       "      <td>0.0</td>\n",
       "      <td>59.0</td>\n",
       "      <td>...</td>\n",
       "      <td>4.363636</td>\n",
       "      <td>25.0</td>\n",
       "      <td>0.0</td>\n",
       "      <td>5.0</td>\n",
       "      <td>0</td>\n",
       "      <td>0</td>\n",
       "      <td>0</td>\n",
       "      <td>0</td>\n",
       "      <td>0</td>\n",
       "      <td>0</td>\n",
       "    </tr>\n",
       "    <tr>\n",
       "      <th>4</th>\n",
       "      <td>ant-ivy-2.0.0-alpha2</td>\n",
       "      <td>public class AntBuildTrigger extends AbstractT...</td>\n",
       "      <td>16.0</td>\n",
       "      <td>26.0</td>\n",
       "      <td>2.0</td>\n",
       "      <td>101.0</td>\n",
       "      <td>2.0</td>\n",
       "      <td>37.0</td>\n",
       "      <td>44.0</td>\n",
       "      <td>101.0</td>\n",
       "      <td>...</td>\n",
       "      <td>8.888889</td>\n",
       "      <td>26.0</td>\n",
       "      <td>0.0</td>\n",
       "      <td>4.0</td>\n",
       "      <td>0</td>\n",
       "      <td>0</td>\n",
       "      <td>0</td>\n",
       "      <td>0</td>\n",
       "      <td>0</td>\n",
       "      <td>0</td>\n",
       "    </tr>\n",
       "    <tr>\n",
       "      <th>...</th>\n",
       "      <td>...</td>\n",
       "      <td>...</td>\n",
       "      <td>...</td>\n",
       "      <td>...</td>\n",
       "      <td>...</td>\n",
       "      <td>...</td>\n",
       "      <td>...</td>\n",
       "      <td>...</td>\n",
       "      <td>...</td>\n",
       "      <td>...</td>\n",
       "      <td>...</td>\n",
       "      <td>...</td>\n",
       "      <td>...</td>\n",
       "      <td>...</td>\n",
       "      <td>...</td>\n",
       "      <td>...</td>\n",
       "      <td>...</td>\n",
       "      <td>...</td>\n",
       "      <td>...</td>\n",
       "      <td>...</td>\n",
       "      <td>...</td>\n",
       "    </tr>\n",
       "    <tr>\n",
       "      <th>8139</th>\n",
       "      <td>xerces2-j-Xerces-J_2_3_0</td>\n",
       "      <td>class SecuritySupport12 extends SecuritySuppor...</td>\n",
       "      <td>4.0</td>\n",
       "      <td>25.0</td>\n",
       "      <td>2.0</td>\n",
       "      <td>55.0</td>\n",
       "      <td>5.0</td>\n",
       "      <td>15.0</td>\n",
       "      <td>28.0</td>\n",
       "      <td>55.0</td>\n",
       "      <td>...</td>\n",
       "      <td>9.375000</td>\n",
       "      <td>25.0</td>\n",
       "      <td>0.0</td>\n",
       "      <td>5.0</td>\n",
       "      <td>0</td>\n",
       "      <td>0</td>\n",
       "      <td>0</td>\n",
       "      <td>0</td>\n",
       "      <td>0</td>\n",
       "      <td>0</td>\n",
       "    </tr>\n",
       "    <tr>\n",
       "      <th>8140</th>\n",
       "      <td>xerces2-j-Xerces-J_2_3_0</td>\n",
       "      <td>public class XMLFilterImpl    implements XMLFi...</td>\n",
       "      <td>14.0</td>\n",
       "      <td>120.0</td>\n",
       "      <td>1.0</td>\n",
       "      <td>449.0</td>\n",
       "      <td>2.0</td>\n",
       "      <td>29.0</td>\n",
       "      <td>364.0</td>\n",
       "      <td>449.0</td>\n",
       "      <td>...</td>\n",
       "      <td>12.548387</td>\n",
       "      <td>120.0</td>\n",
       "      <td>0.0</td>\n",
       "      <td>9.0</td>\n",
       "      <td>0</td>\n",
       "      <td>0</td>\n",
       "      <td>0</td>\n",
       "      <td>0</td>\n",
       "      <td>0</td>\n",
       "      <td>0</td>\n",
       "    </tr>\n",
       "    <tr>\n",
       "      <th>8141</th>\n",
       "      <td>xerces2-j-Xerces-J_2_3_0</td>\n",
       "      <td>public class XMLReaderAdapter implements Par...</td>\n",
       "      <td>15.0</td>\n",
       "      <td>45.0</td>\n",
       "      <td>1.0</td>\n",
       "      <td>279.0</td>\n",
       "      <td>2.0</td>\n",
       "      <td>20.0</td>\n",
       "      <td>115.0</td>\n",
       "      <td>279.0</td>\n",
       "      <td>...</td>\n",
       "      <td>9.227273</td>\n",
       "      <td>45.0</td>\n",
       "      <td>0.0</td>\n",
       "      <td>4.0</td>\n",
       "      <td>0</td>\n",
       "      <td>0</td>\n",
       "      <td>0</td>\n",
       "      <td>0</td>\n",
       "      <td>0</td>\n",
       "      <td>0</td>\n",
       "    </tr>\n",
       "    <tr>\n",
       "      <th>8142</th>\n",
       "      <td>xerces2-j-Xerces-J_2_3_0</td>\n",
       "      <td>final public class XMLReaderFactory{        pr...</td>\n",
       "      <td>5.0</td>\n",
       "      <td>16.0</td>\n",
       "      <td>1.0</td>\n",
       "      <td>97.0</td>\n",
       "      <td>11.0</td>\n",
       "      <td>12.0</td>\n",
       "      <td>6.0</td>\n",
       "      <td>97.0</td>\n",
       "      <td>...</td>\n",
       "      <td>22.000000</td>\n",
       "      <td>16.0</td>\n",
       "      <td>0.0</td>\n",
       "      <td>2.0</td>\n",
       "      <td>0</td>\n",
       "      <td>0</td>\n",
       "      <td>0</td>\n",
       "      <td>0</td>\n",
       "      <td>0</td>\n",
       "      <td>1</td>\n",
       "    </tr>\n",
       "    <tr>\n",
       "      <th>8143</th>\n",
       "      <td>xerces2-j-Xerces-J_2_3_0</td>\n",
       "      <td>final public class XMLReaderFactory{        pr...</td>\n",
       "      <td>5.0</td>\n",
       "      <td>16.0</td>\n",
       "      <td>1.0</td>\n",
       "      <td>97.0</td>\n",
       "      <td>11.0</td>\n",
       "      <td>12.0</td>\n",
       "      <td>6.0</td>\n",
       "      <td>97.0</td>\n",
       "      <td>...</td>\n",
       "      <td>22.000000</td>\n",
       "      <td>16.0</td>\n",
       "      <td>0.0</td>\n",
       "      <td>2.0</td>\n",
       "      <td>0</td>\n",
       "      <td>0</td>\n",
       "      <td>0</td>\n",
       "      <td>0</td>\n",
       "      <td>0</td>\n",
       "      <td>1</td>\n",
       "    </tr>\n",
       "  </tbody>\n",
       "</table>\n",
       "<p>7899 rows × 28 columns</p>\n",
       "</div>"
      ],
      "text/plain": [
       "                  Project_name  \\\n",
       "0         ant-ivy-2.0.0-alpha2   \n",
       "1         ant-ivy-2.0.0-alpha2   \n",
       "2         ant-ivy-2.0.0-alpha2   \n",
       "3         ant-ivy-2.0.0-alpha2   \n",
       "4         ant-ivy-2.0.0-alpha2   \n",
       "...                        ...   \n",
       "8139  xerces2-j-Xerces-J_2_3_0   \n",
       "8140  xerces2-j-Xerces-J_2_3_0   \n",
       "8141  xerces2-j-Xerces-J_2_3_0   \n",
       "8142  xerces2-j-Xerces-J_2_3_0   \n",
       "8143  xerces2-j-Xerces-J_2_3_0   \n",
       "\n",
       "                                              Component   CBO  CYCLO  DIT  \\\n",
       "0     public class Ivy {    private static final int...  41.0  136.0  1.0   \n",
       "1     public class Ivy14 {                    privat...  31.0  172.0  1.0   \n",
       "2     public final class Main {    private static fi...  43.0   35.0  1.0   \n",
       "3     public class AddPathTask extends Task {    pri...   8.0   25.0  2.0   \n",
       "4     public class AntBuildTrigger extends AbstractT...  16.0   26.0  2.0   \n",
       "...                                                 ...   ...    ...  ...   \n",
       "8139  class SecuritySupport12 extends SecuritySuppor...   4.0   25.0  2.0   \n",
       "8140  public class XMLFilterImpl    implements XMLFi...  14.0  120.0  1.0   \n",
       "8141    public class XMLReaderAdapter implements Par...  15.0   45.0  1.0   \n",
       "8142  final public class XMLReaderFactory{        pr...   5.0   16.0  1.0   \n",
       "8143  final public class XMLReaderFactory{        pr...   5.0   16.0  1.0   \n",
       "\n",
       "       ELOC   FanIn  FanOut    LCOM    LOC  ...   WLOCNAMM    WMC  WMCNAMM  \\\n",
       "0     346.0  2036.0    83.0  1482.0  346.0  ...   5.592593  136.0      0.0   \n",
       "1     221.0     0.0   207.0     0.0  221.0  ...   3.583333  172.0      0.0   \n",
       "2     295.0    20.0   121.0    45.0  295.0  ...  28.900000   35.0      0.0   \n",
       "3      59.0     0.0    11.0     0.0   59.0  ...   4.363636   25.0      0.0   \n",
       "4     101.0     2.0    37.0    44.0  101.0  ...   8.888889   26.0      0.0   \n",
       "...     ...     ...     ...     ...    ...  ...        ...    ...      ...   \n",
       "8139   55.0     5.0    15.0    28.0   55.0  ...   9.375000   25.0      0.0   \n",
       "8140  449.0     2.0    29.0   364.0  449.0  ...  12.548387  120.0      0.0   \n",
       "8141  279.0     2.0    20.0   115.0  279.0  ...   9.227273   45.0      0.0   \n",
       "8142   97.0    11.0    12.0     6.0   97.0  ...  22.000000   16.0      0.0   \n",
       "8143   97.0    11.0    12.0     6.0   97.0  ...  22.000000   16.0      0.0   \n",
       "\n",
       "      NMNOPARAM  CDSBP  CC  LC  LZC  RB  SC  \n",
       "0          23.0      0   0   0    0   0   0  \n",
       "1           6.0      0   0   0    0   0   0  \n",
       "2           2.0      0   0   0    0   0   0  \n",
       "3           5.0      0   0   0    0   0   0  \n",
       "4           4.0      0   0   0    0   0   0  \n",
       "...         ...    ...  ..  ..  ...  ..  ..  \n",
       "8139        5.0      0   0   0    0   0   0  \n",
       "8140        9.0      0   0   0    0   0   0  \n",
       "8141        4.0      0   0   0    0   0   0  \n",
       "8142        2.0      0   0   0    0   0   1  \n",
       "8143        2.0      0   0   0    0   0   1  \n",
       "\n",
       "[7899 rows x 28 columns]"
      ]
     },
     "execution_count": 161,
     "metadata": {},
     "output_type": "execute_result"
    }
   ],
   "source": [
    "df"
   ]
  },
  {
   "cell_type": "code",
   "execution_count": 162,
   "metadata": {},
   "outputs": [
    {
     "name": "stdout",
     "output_type": "stream",
     "text": [
      "Current project: ant-ivy-2.0.0-alpha2\n",
      "Current code smell: CDSBP\n"
     ]
    },
    {
     "name": "stderr",
     "output_type": "stream",
     "text": [
      "C:\\Users\\demai\\AppData\\Local\\Packages\\PythonSoftwareFoundation.Python.3.10_qbz5n2kfra8p0\\LocalCache\\local-packages\\Python310\\site-packages\\sklearn\\neural_network\\_multilayer_perceptron.py:679: ConvergenceWarning: Stochastic Optimizer: Maximum iterations (200) reached and the optimization hasn't converged yet.\n",
      "  warnings.warn(\n",
      "C:\\Users\\demai\\AppData\\Local\\Packages\\PythonSoftwareFoundation.Python.3.10_qbz5n2kfra8p0\\LocalCache\\local-packages\\Python310\\site-packages\\sklearn\\metrics\\_classification.py:1344: UndefinedMetricWarning: Precision is ill-defined and being set to 0.0 in labels with no predicted samples. Use `zero_division` parameter to control this behavior.\n",
      "  _warn_prf(average, modifier, msg_start, len(result))\n"
     ]
    },
    {
     "name": "stdout",
     "output_type": "stream",
     "text": [
      "Current code smell: CC\n",
      "Current code smell: LC\n"
     ]
    },
    {
     "name": "stderr",
     "output_type": "stream",
     "text": [
      "C:\\Users\\demai\\AppData\\Local\\Packages\\PythonSoftwareFoundation.Python.3.10_qbz5n2kfra8p0\\LocalCache\\local-packages\\Python310\\site-packages\\sklearn\\metrics\\_classification.py:1344: UndefinedMetricWarning: Precision is ill-defined and being set to 0.0 in labels with no predicted samples. Use `zero_division` parameter to control this behavior.\n",
      "  _warn_prf(average, modifier, msg_start, len(result))\n"
     ]
    },
    {
     "name": "stdout",
     "output_type": "stream",
     "text": [
      "Current code smell: LZC\n"
     ]
    },
    {
     "name": "stderr",
     "output_type": "stream",
     "text": [
      "C:\\Users\\demai\\AppData\\Local\\Packages\\PythonSoftwareFoundation.Python.3.10_qbz5n2kfra8p0\\LocalCache\\local-packages\\Python310\\site-packages\\sklearn\\neural_network\\_multilayer_perceptron.py:679: ConvergenceWarning: Stochastic Optimizer: Maximum iterations (200) reached and the optimization hasn't converged yet.\n",
      "  warnings.warn(\n"
     ]
    },
    {
     "name": "stdout",
     "output_type": "stream",
     "text": [
      "Current code smell: RB\n"
     ]
    },
    {
     "name": "stderr",
     "output_type": "stream",
     "text": [
      "C:\\Users\\demai\\AppData\\Local\\Packages\\PythonSoftwareFoundation.Python.3.10_qbz5n2kfra8p0\\LocalCache\\local-packages\\Python310\\site-packages\\sklearn\\neural_network\\_multilayer_perceptron.py:679: ConvergenceWarning: Stochastic Optimizer: Maximum iterations (200) reached and the optimization hasn't converged yet.\n",
      "  warnings.warn(\n"
     ]
    },
    {
     "name": "stdout",
     "output_type": "stream",
     "text": [
      "Current code smell: SC\n"
     ]
    },
    {
     "name": "stderr",
     "output_type": "stream",
     "text": [
      "C:\\Users\\demai\\AppData\\Local\\Packages\\PythonSoftwareFoundation.Python.3.10_qbz5n2kfra8p0\\LocalCache\\local-packages\\Python310\\site-packages\\sklearn\\neural_network\\_multilayer_perceptron.py:679: ConvergenceWarning: Stochastic Optimizer: Maximum iterations (200) reached and the optimization hasn't converged yet.\n",
      "  warnings.warn(\n",
      "C:\\Users\\demai\\AppData\\Local\\Packages\\PythonSoftwareFoundation.Python.3.10_qbz5n2kfra8p0\\LocalCache\\local-packages\\Python310\\site-packages\\sklearn\\metrics\\_classification.py:1344: UndefinedMetricWarning: Precision is ill-defined and being set to 0.0 in labels with no predicted samples. Use `zero_division` parameter to control this behavior.\n",
      "  _warn_prf(average, modifier, msg_start, len(result))\n"
     ]
    },
    {
     "name": "stdout",
     "output_type": "stream",
     "text": [
      "Current project: ant-rel-1.8.3\n",
      "Current code smell: CDSBP\n"
     ]
    },
    {
     "name": "stderr",
     "output_type": "stream",
     "text": [
      "C:\\Users\\demai\\AppData\\Local\\Packages\\PythonSoftwareFoundation.Python.3.10_qbz5n2kfra8p0\\LocalCache\\local-packages\\Python310\\site-packages\\sklearn\\neural_network\\_multilayer_perceptron.py:679: ConvergenceWarning: Stochastic Optimizer: Maximum iterations (200) reached and the optimization hasn't converged yet.\n",
      "  warnings.warn(\n",
      "C:\\Users\\demai\\AppData\\Local\\Packages\\PythonSoftwareFoundation.Python.3.10_qbz5n2kfra8p0\\LocalCache\\local-packages\\Python310\\site-packages\\sklearn\\metrics\\_classification.py:1344: UndefinedMetricWarning: Precision is ill-defined and being set to 0.0 in labels with no predicted samples. Use `zero_division` parameter to control this behavior.\n",
      "  _warn_prf(average, modifier, msg_start, len(result))\n"
     ]
    },
    {
     "name": "stdout",
     "output_type": "stream",
     "text": [
      "Current code smell: CC\n"
     ]
    },
    {
     "name": "stderr",
     "output_type": "stream",
     "text": [
      "C:\\Users\\demai\\AppData\\Local\\Packages\\PythonSoftwareFoundation.Python.3.10_qbz5n2kfra8p0\\LocalCache\\local-packages\\Python310\\site-packages\\sklearn\\neural_network\\_multilayer_perceptron.py:679: ConvergenceWarning: Stochastic Optimizer: Maximum iterations (200) reached and the optimization hasn't converged yet.\n",
      "  warnings.warn(\n",
      "C:\\Users\\demai\\AppData\\Local\\Packages\\PythonSoftwareFoundation.Python.3.10_qbz5n2kfra8p0\\LocalCache\\local-packages\\Python310\\site-packages\\sklearn\\metrics\\_classification.py:1344: UndefinedMetricWarning: Precision is ill-defined and being set to 0.0 in labels with no predicted samples. Use `zero_division` parameter to control this behavior.\n",
      "  _warn_prf(average, modifier, msg_start, len(result))\n"
     ]
    },
    {
     "name": "stdout",
     "output_type": "stream",
     "text": [
      "Current code smell: LC\n"
     ]
    },
    {
     "name": "stderr",
     "output_type": "stream",
     "text": [
      "C:\\Users\\demai\\AppData\\Local\\Packages\\PythonSoftwareFoundation.Python.3.10_qbz5n2kfra8p0\\LocalCache\\local-packages\\Python310\\site-packages\\sklearn\\neural_network\\_multilayer_perceptron.py:679: ConvergenceWarning: Stochastic Optimizer: Maximum iterations (200) reached and the optimization hasn't converged yet.\n",
      "  warnings.warn(\n",
      "C:\\Users\\demai\\AppData\\Local\\Packages\\PythonSoftwareFoundation.Python.3.10_qbz5n2kfra8p0\\LocalCache\\local-packages\\Python310\\site-packages\\sklearn\\metrics\\_classification.py:1344: UndefinedMetricWarning: Precision is ill-defined and being set to 0.0 in labels with no predicted samples. Use `zero_division` parameter to control this behavior.\n",
      "  _warn_prf(average, modifier, msg_start, len(result))\n"
     ]
    },
    {
     "name": "stdout",
     "output_type": "stream",
     "text": [
      "Current code smell: LZC\n",
      "Current code smell: RB\n"
     ]
    },
    {
     "name": "stderr",
     "output_type": "stream",
     "text": [
      "C:\\Users\\demai\\AppData\\Local\\Packages\\PythonSoftwareFoundation.Python.3.10_qbz5n2kfra8p0\\LocalCache\\local-packages\\Python310\\site-packages\\sklearn\\neural_network\\_multilayer_perceptron.py:679: ConvergenceWarning: Stochastic Optimizer: Maximum iterations (200) reached and the optimization hasn't converged yet.\n",
      "  warnings.warn(\n",
      "C:\\Users\\demai\\AppData\\Local\\Packages\\PythonSoftwareFoundation.Python.3.10_qbz5n2kfra8p0\\LocalCache\\local-packages\\Python310\\site-packages\\sklearn\\metrics\\_classification.py:1344: UndefinedMetricWarning: Precision is ill-defined and being set to 0.0 in labels with no predicted samples. Use `zero_division` parameter to control this behavior.\n",
      "  _warn_prf(average, modifier, msg_start, len(result))\n"
     ]
    },
    {
     "name": "stdout",
     "output_type": "stream",
     "text": [
      "Current code smell: SC\n"
     ]
    },
    {
     "name": "stderr",
     "output_type": "stream",
     "text": [
      "C:\\Users\\demai\\AppData\\Local\\Packages\\PythonSoftwareFoundation.Python.3.10_qbz5n2kfra8p0\\LocalCache\\local-packages\\Python310\\site-packages\\sklearn\\neural_network\\_multilayer_perceptron.py:679: ConvergenceWarning: Stochastic Optimizer: Maximum iterations (200) reached and the optimization hasn't converged yet.\n",
      "  warnings.warn(\n"
     ]
    },
    {
     "name": "stdout",
     "output_type": "stream",
     "text": [
      "Current project: cassandra-cassandra-1.0.0\n",
      "Current code smell: CDSBP\n"
     ]
    },
    {
     "name": "stderr",
     "output_type": "stream",
     "text": [
      "C:\\Users\\demai\\AppData\\Local\\Packages\\PythonSoftwareFoundation.Python.3.10_qbz5n2kfra8p0\\LocalCache\\local-packages\\Python310\\site-packages\\sklearn\\neural_network\\_multilayer_perceptron.py:679: ConvergenceWarning: Stochastic Optimizer: Maximum iterations (200) reached and the optimization hasn't converged yet.\n",
      "  warnings.warn(\n",
      "C:\\Users\\demai\\AppData\\Local\\Packages\\PythonSoftwareFoundation.Python.3.10_qbz5n2kfra8p0\\LocalCache\\local-packages\\Python310\\site-packages\\sklearn\\metrics\\_classification.py:1344: UndefinedMetricWarning: Precision is ill-defined and being set to 0.0 in labels with no predicted samples. Use `zero_division` parameter to control this behavior.\n",
      "  _warn_prf(average, modifier, msg_start, len(result))\n"
     ]
    },
    {
     "name": "stdout",
     "output_type": "stream",
     "text": [
      "Current code smell: CC\n"
     ]
    },
    {
     "name": "stderr",
     "output_type": "stream",
     "text": [
      "C:\\Users\\demai\\AppData\\Local\\Packages\\PythonSoftwareFoundation.Python.3.10_qbz5n2kfra8p0\\LocalCache\\local-packages\\Python310\\site-packages\\sklearn\\neural_network\\_multilayer_perceptron.py:679: ConvergenceWarning: Stochastic Optimizer: Maximum iterations (200) reached and the optimization hasn't converged yet.\n",
      "  warnings.warn(\n"
     ]
    },
    {
     "name": "stdout",
     "output_type": "stream",
     "text": [
      "Current code smell: LC\n"
     ]
    },
    {
     "name": "stderr",
     "output_type": "stream",
     "text": [
      "C:\\Users\\demai\\AppData\\Local\\Packages\\PythonSoftwareFoundation.Python.3.10_qbz5n2kfra8p0\\LocalCache\\local-packages\\Python310\\site-packages\\sklearn\\neural_network\\_multilayer_perceptron.py:679: ConvergenceWarning: Stochastic Optimizer: Maximum iterations (200) reached and the optimization hasn't converged yet.\n",
      "  warnings.warn(\n",
      "C:\\Users\\demai\\AppData\\Local\\Packages\\PythonSoftwareFoundation.Python.3.10_qbz5n2kfra8p0\\LocalCache\\local-packages\\Python310\\site-packages\\sklearn\\metrics\\_classification.py:1344: UndefinedMetricWarning: Precision is ill-defined and being set to 0.0 in labels with no predicted samples. Use `zero_division` parameter to control this behavior.\n",
      "  _warn_prf(average, modifier, msg_start, len(result))\n"
     ]
    },
    {
     "name": "stdout",
     "output_type": "stream",
     "text": [
      "Current code smell: LZC\n"
     ]
    },
    {
     "name": "stderr",
     "output_type": "stream",
     "text": [
      "C:\\Users\\demai\\AppData\\Local\\Packages\\PythonSoftwareFoundation.Python.3.10_qbz5n2kfra8p0\\LocalCache\\local-packages\\Python310\\site-packages\\sklearn\\metrics\\_classification.py:1344: UndefinedMetricWarning: Precision is ill-defined and being set to 0.0 in labels with no predicted samples. Use `zero_division` parameter to control this behavior.\n",
      "  _warn_prf(average, modifier, msg_start, len(result))\n",
      "C:\\Users\\demai\\AppData\\Local\\Packages\\PythonSoftwareFoundation.Python.3.10_qbz5n2kfra8p0\\LocalCache\\local-packages\\Python310\\site-packages\\sklearn\\metrics\\_classification.py:1344: UndefinedMetricWarning: Precision is ill-defined and being set to 0.0 in labels with no predicted samples. Use `zero_division` parameter to control this behavior.\n",
      "  _warn_prf(average, modifier, msg_start, len(result))\n"
     ]
    },
    {
     "name": "stdout",
     "output_type": "stream",
     "text": [
      "Current code smell: RB\n"
     ]
    },
    {
     "name": "stderr",
     "output_type": "stream",
     "text": [
      "C:\\Users\\demai\\AppData\\Local\\Packages\\PythonSoftwareFoundation.Python.3.10_qbz5n2kfra8p0\\LocalCache\\local-packages\\Python310\\site-packages\\sklearn\\neural_network\\_multilayer_perceptron.py:679: ConvergenceWarning: Stochastic Optimizer: Maximum iterations (200) reached and the optimization hasn't converged yet.\n",
      "  warnings.warn(\n"
     ]
    },
    {
     "name": "stdout",
     "output_type": "stream",
     "text": [
      "Current code smell: SC\n"
     ]
    },
    {
     "name": "stderr",
     "output_type": "stream",
     "text": [
      "C:\\Users\\demai\\AppData\\Local\\Packages\\PythonSoftwareFoundation.Python.3.10_qbz5n2kfra8p0\\LocalCache\\local-packages\\Python310\\site-packages\\sklearn\\neural_network\\_multilayer_perceptron.py:679: ConvergenceWarning: Stochastic Optimizer: Maximum iterations (200) reached and the optimization hasn't converged yet.\n",
      "  warnings.warn(\n",
      "C:\\Users\\demai\\AppData\\Local\\Packages\\PythonSoftwareFoundation.Python.3.10_qbz5n2kfra8p0\\LocalCache\\local-packages\\Python310\\site-packages\\sklearn\\metrics\\_classification.py:1344: UndefinedMetricWarning: Precision is ill-defined and being set to 0.0 in labels with no predicted samples. Use `zero_division` parameter to control this behavior.\n",
      "  _warn_prf(average, modifier, msg_start, len(result))\n"
     ]
    },
    {
     "name": "stdout",
     "output_type": "stream",
     "text": [
      "Current project: elasticsearch-v0.19.0\n",
      "Current code smell: CDSBP\n"
     ]
    },
    {
     "name": "stderr",
     "output_type": "stream",
     "text": [
      "C:\\Users\\demai\\AppData\\Local\\Packages\\PythonSoftwareFoundation.Python.3.10_qbz5n2kfra8p0\\LocalCache\\local-packages\\Python310\\site-packages\\sklearn\\metrics\\_classification.py:1344: UndefinedMetricWarning: Precision is ill-defined and being set to 0.0 in labels with no predicted samples. Use `zero_division` parameter to control this behavior.\n",
      "  _warn_prf(average, modifier, msg_start, len(result))\n"
     ]
    },
    {
     "name": "stdout",
     "output_type": "stream",
     "text": [
      "Current code smell: CC\n"
     ]
    },
    {
     "name": "stderr",
     "output_type": "stream",
     "text": [
      "C:\\Users\\demai\\AppData\\Local\\Packages\\PythonSoftwareFoundation.Python.3.10_qbz5n2kfra8p0\\LocalCache\\local-packages\\Python310\\site-packages\\sklearn\\metrics\\_classification.py:1344: UndefinedMetricWarning: Precision is ill-defined and being set to 0.0 in labels with no predicted samples. Use `zero_division` parameter to control this behavior.\n",
      "  _warn_prf(average, modifier, msg_start, len(result))\n",
      "C:\\Users\\demai\\AppData\\Local\\Packages\\PythonSoftwareFoundation.Python.3.10_qbz5n2kfra8p0\\LocalCache\\local-packages\\Python310\\site-packages\\sklearn\\metrics\\_classification.py:1344: UndefinedMetricWarning: Precision is ill-defined and being set to 0.0 in labels with no predicted samples. Use `zero_division` parameter to control this behavior.\n",
      "  _warn_prf(average, modifier, msg_start, len(result))\n"
     ]
    },
    {
     "name": "stdout",
     "output_type": "stream",
     "text": [
      "Current code smell: LC\n"
     ]
    },
    {
     "name": "stderr",
     "output_type": "stream",
     "text": [
      "C:\\Users\\demai\\AppData\\Local\\Packages\\PythonSoftwareFoundation.Python.3.10_qbz5n2kfra8p0\\LocalCache\\local-packages\\Python310\\site-packages\\sklearn\\metrics\\_classification.py:1344: UndefinedMetricWarning: Precision is ill-defined and being set to 0.0 in labels with no predicted samples. Use `zero_division` parameter to control this behavior.\n",
      "  _warn_prf(average, modifier, msg_start, len(result))\n"
     ]
    },
    {
     "name": "stdout",
     "output_type": "stream",
     "text": [
      "Current code smell: LZC\n"
     ]
    },
    {
     "name": "stderr",
     "output_type": "stream",
     "text": [
      "C:\\Users\\demai\\AppData\\Local\\Packages\\PythonSoftwareFoundation.Python.3.10_qbz5n2kfra8p0\\LocalCache\\local-packages\\Python310\\site-packages\\sklearn\\metrics\\_classification.py:1344: UndefinedMetricWarning: Precision is ill-defined and being set to 0.0 in labels with no predicted samples. Use `zero_division` parameter to control this behavior.\n",
      "  _warn_prf(average, modifier, msg_start, len(result))\n"
     ]
    },
    {
     "name": "stdout",
     "output_type": "stream",
     "text": [
      "Current code smell: RB\n",
      "Current code smell: SC\n"
     ]
    },
    {
     "name": "stderr",
     "output_type": "stream",
     "text": [
      "C:\\Users\\demai\\AppData\\Local\\Packages\\PythonSoftwareFoundation.Python.3.10_qbz5n2kfra8p0\\LocalCache\\local-packages\\Python310\\site-packages\\sklearn\\metrics\\_classification.py:1344: UndefinedMetricWarning: Precision is ill-defined and being set to 0.0 in labels with no predicted samples. Use `zero_division` parameter to control this behavior.\n",
      "  _warn_prf(average, modifier, msg_start, len(result))\n"
     ]
    },
    {
     "name": "stdout",
     "output_type": "stream",
     "text": [
      "Current project: hadoop-release-0.6.0\n",
      "Current code smell: CDSBP\n"
     ]
    },
    {
     "name": "stderr",
     "output_type": "stream",
     "text": [
      "C:\\Users\\demai\\AppData\\Local\\Packages\\PythonSoftwareFoundation.Python.3.10_qbz5n2kfra8p0\\LocalCache\\local-packages\\Python310\\site-packages\\sklearn\\neural_network\\_multilayer_perceptron.py:679: ConvergenceWarning: Stochastic Optimizer: Maximum iterations (200) reached and the optimization hasn't converged yet.\n",
      "  warnings.warn(\n",
      "C:\\Users\\demai\\AppData\\Local\\Packages\\PythonSoftwareFoundation.Python.3.10_qbz5n2kfra8p0\\LocalCache\\local-packages\\Python310\\site-packages\\sklearn\\metrics\\_classification.py:1344: UndefinedMetricWarning: Precision is ill-defined and being set to 0.0 in labels with no predicted samples. Use `zero_division` parameter to control this behavior.\n",
      "  _warn_prf(average, modifier, msg_start, len(result))\n"
     ]
    },
    {
     "name": "stdout",
     "output_type": "stream",
     "text": [
      "Current code smell: CC\n"
     ]
    },
    {
     "name": "stderr",
     "output_type": "stream",
     "text": [
      "C:\\Users\\demai\\AppData\\Local\\Packages\\PythonSoftwareFoundation.Python.3.10_qbz5n2kfra8p0\\LocalCache\\local-packages\\Python310\\site-packages\\sklearn\\neural_network\\_multilayer_perceptron.py:679: ConvergenceWarning: Stochastic Optimizer: Maximum iterations (200) reached and the optimization hasn't converged yet.\n",
      "  warnings.warn(\n",
      "C:\\Users\\demai\\AppData\\Local\\Packages\\PythonSoftwareFoundation.Python.3.10_qbz5n2kfra8p0\\LocalCache\\local-packages\\Python310\\site-packages\\sklearn\\metrics\\_classification.py:1344: UndefinedMetricWarning: Precision is ill-defined and being set to 0.0 in labels with no predicted samples. Use `zero_division` parameter to control this behavior.\n",
      "  _warn_prf(average, modifier, msg_start, len(result))\n"
     ]
    },
    {
     "name": "stdout",
     "output_type": "stream",
     "text": [
      "Current code smell: LC\n"
     ]
    },
    {
     "name": "stderr",
     "output_type": "stream",
     "text": [
      "C:\\Users\\demai\\AppData\\Local\\Packages\\PythonSoftwareFoundation.Python.3.10_qbz5n2kfra8p0\\LocalCache\\local-packages\\Python310\\site-packages\\sklearn\\neural_network\\_multilayer_perceptron.py:679: ConvergenceWarning: Stochastic Optimizer: Maximum iterations (200) reached and the optimization hasn't converged yet.\n",
      "  warnings.warn(\n",
      "C:\\Users\\demai\\AppData\\Local\\Packages\\PythonSoftwareFoundation.Python.3.10_qbz5n2kfra8p0\\LocalCache\\local-packages\\Python310\\site-packages\\sklearn\\metrics\\_classification.py:1344: UndefinedMetricWarning: Precision is ill-defined and being set to 0.0 in labels with no predicted samples. Use `zero_division` parameter to control this behavior.\n",
      "  _warn_prf(average, modifier, msg_start, len(result))\n"
     ]
    },
    {
     "name": "stdout",
     "output_type": "stream",
     "text": [
      "Current code smell: LZC\n"
     ]
    },
    {
     "name": "stderr",
     "output_type": "stream",
     "text": [
      "C:\\Users\\demai\\AppData\\Local\\Packages\\PythonSoftwareFoundation.Python.3.10_qbz5n2kfra8p0\\LocalCache\\local-packages\\Python310\\site-packages\\sklearn\\neural_network\\_multilayer_perceptron.py:679: ConvergenceWarning: Stochastic Optimizer: Maximum iterations (200) reached and the optimization hasn't converged yet.\n",
      "  warnings.warn(\n",
      "C:\\Users\\demai\\AppData\\Local\\Packages\\PythonSoftwareFoundation.Python.3.10_qbz5n2kfra8p0\\LocalCache\\local-packages\\Python310\\site-packages\\sklearn\\metrics\\_classification.py:1344: UndefinedMetricWarning: Precision is ill-defined and being set to 0.0 in labels with no predicted samples. Use `zero_division` parameter to control this behavior.\n",
      "  _warn_prf(average, modifier, msg_start, len(result))\n"
     ]
    },
    {
     "name": "stdout",
     "output_type": "stream",
     "text": [
      "Current code smell: RB\n"
     ]
    },
    {
     "name": "stderr",
     "output_type": "stream",
     "text": [
      "C:\\Users\\demai\\AppData\\Local\\Packages\\PythonSoftwareFoundation.Python.3.10_qbz5n2kfra8p0\\LocalCache\\local-packages\\Python310\\site-packages\\sklearn\\neural_network\\_multilayer_perceptron.py:679: ConvergenceWarning: Stochastic Optimizer: Maximum iterations (200) reached and the optimization hasn't converged yet.\n",
      "  warnings.warn(\n"
     ]
    },
    {
     "name": "stdout",
     "output_type": "stream",
     "text": [
      "Current code smell: SC\n"
     ]
    },
    {
     "name": "stderr",
     "output_type": "stream",
     "text": [
      "C:\\Users\\demai\\AppData\\Local\\Packages\\PythonSoftwareFoundation.Python.3.10_qbz5n2kfra8p0\\LocalCache\\local-packages\\Python310\\site-packages\\sklearn\\neural_network\\_multilayer_perceptron.py:679: ConvergenceWarning: Stochastic Optimizer: Maximum iterations (200) reached and the optimization hasn't converged yet.\n",
      "  warnings.warn(\n",
      "C:\\Users\\demai\\AppData\\Local\\Packages\\PythonSoftwareFoundation.Python.3.10_qbz5n2kfra8p0\\LocalCache\\local-packages\\Python310\\site-packages\\sklearn\\metrics\\_classification.py:1344: UndefinedMetricWarning: Precision is ill-defined and being set to 0.0 in labels with no predicted samples. Use `zero_division` parameter to control this behavior.\n",
      "  _warn_prf(average, modifier, msg_start, len(result))\n"
     ]
    },
    {
     "name": "stdout",
     "output_type": "stream",
     "text": [
      "Current project: hive-release-0.9.0\n",
      "Current project: hsqldb-2.2.8\n",
      "Current code smell: CDSBP\n"
     ]
    },
    {
     "name": "stderr",
     "output_type": "stream",
     "text": [
      "C:\\Users\\demai\\AppData\\Local\\Packages\\PythonSoftwareFoundation.Python.3.10_qbz5n2kfra8p0\\LocalCache\\local-packages\\Python310\\site-packages\\sklearn\\neural_network\\_multilayer_perceptron.py:679: ConvergenceWarning: Stochastic Optimizer: Maximum iterations (200) reached and the optimization hasn't converged yet.\n",
      "  warnings.warn(\n",
      "C:\\Users\\demai\\AppData\\Local\\Packages\\PythonSoftwareFoundation.Python.3.10_qbz5n2kfra8p0\\LocalCache\\local-packages\\Python310\\site-packages\\sklearn\\metrics\\_classification.py:1344: UndefinedMetricWarning: Precision is ill-defined and being set to 0.0 in labels with no predicted samples. Use `zero_division` parameter to control this behavior.\n",
      "  _warn_prf(average, modifier, msg_start, len(result))\n"
     ]
    },
    {
     "name": "stdout",
     "output_type": "stream",
     "text": [
      "Current code smell: CC\n"
     ]
    },
    {
     "name": "stderr",
     "output_type": "stream",
     "text": [
      "C:\\Users\\demai\\AppData\\Local\\Packages\\PythonSoftwareFoundation.Python.3.10_qbz5n2kfra8p0\\LocalCache\\local-packages\\Python310\\site-packages\\sklearn\\metrics\\_classification.py:1344: UndefinedMetricWarning: Precision is ill-defined and being set to 0.0 in labels with no predicted samples. Use `zero_division` parameter to control this behavior.\n",
      "  _warn_prf(average, modifier, msg_start, len(result))\n",
      "C:\\Users\\demai\\AppData\\Local\\Packages\\PythonSoftwareFoundation.Python.3.10_qbz5n2kfra8p0\\LocalCache\\local-packages\\Python310\\site-packages\\sklearn\\metrics\\_classification.py:1344: UndefinedMetricWarning: Precision is ill-defined and being set to 0.0 in labels with no predicted samples. Use `zero_division` parameter to control this behavior.\n",
      "  _warn_prf(average, modifier, msg_start, len(result))\n"
     ]
    },
    {
     "name": "stdout",
     "output_type": "stream",
     "text": [
      "Current code smell: LC\n"
     ]
    },
    {
     "name": "stderr",
     "output_type": "stream",
     "text": [
      "C:\\Users\\demai\\AppData\\Local\\Packages\\PythonSoftwareFoundation.Python.3.10_qbz5n2kfra8p0\\LocalCache\\local-packages\\Python310\\site-packages\\sklearn\\neural_network\\_multilayer_perceptron.py:679: ConvergenceWarning: Stochastic Optimizer: Maximum iterations (200) reached and the optimization hasn't converged yet.\n",
      "  warnings.warn(\n",
      "C:\\Users\\demai\\AppData\\Local\\Packages\\PythonSoftwareFoundation.Python.3.10_qbz5n2kfra8p0\\LocalCache\\local-packages\\Python310\\site-packages\\sklearn\\metrics\\_classification.py:1344: UndefinedMetricWarning: Precision is ill-defined and being set to 0.0 in labels with no predicted samples. Use `zero_division` parameter to control this behavior.\n",
      "  _warn_prf(average, modifier, msg_start, len(result))\n"
     ]
    },
    {
     "name": "stdout",
     "output_type": "stream",
     "text": [
      "Current code smell: LZC\n"
     ]
    },
    {
     "name": "stderr",
     "output_type": "stream",
     "text": [
      "C:\\Users\\demai\\AppData\\Local\\Packages\\PythonSoftwareFoundation.Python.3.10_qbz5n2kfra8p0\\LocalCache\\local-packages\\Python310\\site-packages\\sklearn\\neural_network\\_multilayer_perceptron.py:679: ConvergenceWarning: Stochastic Optimizer: Maximum iterations (200) reached and the optimization hasn't converged yet.\n",
      "  warnings.warn(\n",
      "C:\\Users\\demai\\AppData\\Local\\Packages\\PythonSoftwareFoundation.Python.3.10_qbz5n2kfra8p0\\LocalCache\\local-packages\\Python310\\site-packages\\sklearn\\metrics\\_classification.py:1344: UndefinedMetricWarning: Precision is ill-defined and being set to 0.0 in labels with no predicted samples. Use `zero_division` parameter to control this behavior.\n",
      "  _warn_prf(average, modifier, msg_start, len(result))\n"
     ]
    },
    {
     "name": "stdout",
     "output_type": "stream",
     "text": [
      "Current code smell: RB\n"
     ]
    },
    {
     "name": "stderr",
     "output_type": "stream",
     "text": [
      "C:\\Users\\demai\\AppData\\Local\\Packages\\PythonSoftwareFoundation.Python.3.10_qbz5n2kfra8p0\\LocalCache\\local-packages\\Python310\\site-packages\\sklearn\\neural_network\\_multilayer_perceptron.py:679: ConvergenceWarning: Stochastic Optimizer: Maximum iterations (200) reached and the optimization hasn't converged yet.\n",
      "  warnings.warn(\n"
     ]
    },
    {
     "name": "stdout",
     "output_type": "stream",
     "text": [
      "Current code smell: SC\n"
     ]
    },
    {
     "name": "stderr",
     "output_type": "stream",
     "text": [
      "C:\\Users\\demai\\AppData\\Local\\Packages\\PythonSoftwareFoundation.Python.3.10_qbz5n2kfra8p0\\LocalCache\\local-packages\\Python310\\site-packages\\sklearn\\neural_network\\_multilayer_perceptron.py:679: ConvergenceWarning: Stochastic Optimizer: Maximum iterations (200) reached and the optimization hasn't converged yet.\n",
      "  warnings.warn(\n"
     ]
    },
    {
     "name": "stdout",
     "output_type": "stream",
     "text": [
      "Current project: karaf-karaf-2.3.0\n",
      "Current project: lucene-releases-lucene-solr-3.6.0\n",
      "Current project: manifold-cf-release-0.6\n",
      "Current project: nutch-release-1.4\n",
      "Current code smell: CDSBP\n"
     ]
    },
    {
     "name": "stderr",
     "output_type": "stream",
     "text": [
      "C:\\Users\\demai\\AppData\\Local\\Packages\\PythonSoftwareFoundation.Python.3.10_qbz5n2kfra8p0\\LocalCache\\local-packages\\Python310\\site-packages\\sklearn\\metrics\\_classification.py:1344: UndefinedMetricWarning: Precision is ill-defined and being set to 0.0 in labels with no predicted samples. Use `zero_division` parameter to control this behavior.\n",
      "  _warn_prf(average, modifier, msg_start, len(result))\n"
     ]
    },
    {
     "name": "stdout",
     "output_type": "stream",
     "text": [
      "Current code smell: CC\n"
     ]
    },
    {
     "name": "stderr",
     "output_type": "stream",
     "text": [
      "C:\\Users\\demai\\AppData\\Local\\Packages\\PythonSoftwareFoundation.Python.3.10_qbz5n2kfra8p0\\LocalCache\\local-packages\\Python310\\site-packages\\sklearn\\neural_network\\_multilayer_perceptron.py:679: ConvergenceWarning: Stochastic Optimizer: Maximum iterations (200) reached and the optimization hasn't converged yet.\n",
      "  warnings.warn(\n"
     ]
    },
    {
     "name": "stdout",
     "output_type": "stream",
     "text": [
      "Current code smell: LC\n"
     ]
    },
    {
     "name": "stderr",
     "output_type": "stream",
     "text": [
      "C:\\Users\\demai\\AppData\\Local\\Packages\\PythonSoftwareFoundation.Python.3.10_qbz5n2kfra8p0\\LocalCache\\local-packages\\Python310\\site-packages\\sklearn\\neural_network\\_multilayer_perceptron.py:679: ConvergenceWarning: Stochastic Optimizer: Maximum iterations (200) reached and the optimization hasn't converged yet.\n",
      "  warnings.warn(\n"
     ]
    },
    {
     "name": "stdout",
     "output_type": "stream",
     "text": [
      "Current code smell: LZC\n"
     ]
    },
    {
     "name": "stderr",
     "output_type": "stream",
     "text": [
      "C:\\Users\\demai\\AppData\\Local\\Packages\\PythonSoftwareFoundation.Python.3.10_qbz5n2kfra8p0\\LocalCache\\local-packages\\Python310\\site-packages\\sklearn\\metrics\\_classification.py:1344: UndefinedMetricWarning: Precision is ill-defined and being set to 0.0 in labels with no predicted samples. Use `zero_division` parameter to control this behavior.\n",
      "  _warn_prf(average, modifier, msg_start, len(result))\n"
     ]
    },
    {
     "name": "stdout",
     "output_type": "stream",
     "text": [
      "Current code smell: RB\n"
     ]
    },
    {
     "name": "stderr",
     "output_type": "stream",
     "text": [
      "C:\\Users\\demai\\AppData\\Local\\Packages\\PythonSoftwareFoundation.Python.3.10_qbz5n2kfra8p0\\LocalCache\\local-packages\\Python310\\site-packages\\sklearn\\neural_network\\_multilayer_perceptron.py:679: ConvergenceWarning: Stochastic Optimizer: Maximum iterations (200) reached and the optimization hasn't converged yet.\n",
      "  warnings.warn(\n",
      "C:\\Users\\demai\\AppData\\Local\\Packages\\PythonSoftwareFoundation.Python.3.10_qbz5n2kfra8p0\\LocalCache\\local-packages\\Python310\\site-packages\\sklearn\\metrics\\_classification.py:1344: UndefinedMetricWarning: Precision is ill-defined and being set to 0.0 in labels with no predicted samples. Use `zero_division` parameter to control this behavior.\n",
      "  _warn_prf(average, modifier, msg_start, len(result))\n"
     ]
    },
    {
     "name": "stdout",
     "output_type": "stream",
     "text": [
      "Current code smell: SC\n"
     ]
    },
    {
     "name": "stderr",
     "output_type": "stream",
     "text": [
      "C:\\Users\\demai\\AppData\\Local\\Packages\\PythonSoftwareFoundation.Python.3.10_qbz5n2kfra8p0\\LocalCache\\local-packages\\Python310\\site-packages\\sklearn\\neural_network\\_multilayer_perceptron.py:679: ConvergenceWarning: Stochastic Optimizer: Maximum iterations (200) reached and the optimization hasn't converged yet.\n",
      "  warnings.warn(\n"
     ]
    },
    {
     "name": "stdout",
     "output_type": "stream",
     "text": [
      "Current project: pig-release-0.8.0\n",
      "Current code smell: CDSBP\n"
     ]
    },
    {
     "name": "stderr",
     "output_type": "stream",
     "text": [
      "C:\\Users\\demai\\AppData\\Local\\Packages\\PythonSoftwareFoundation.Python.3.10_qbz5n2kfra8p0\\LocalCache\\local-packages\\Python310\\site-packages\\sklearn\\metrics\\_classification.py:1344: UndefinedMetricWarning: Precision is ill-defined and being set to 0.0 in labels with no predicted samples. Use `zero_division` parameter to control this behavior.\n",
      "  _warn_prf(average, modifier, msg_start, len(result))\n"
     ]
    },
    {
     "name": "stdout",
     "output_type": "stream",
     "text": [
      "Current code smell: CC\n"
     ]
    },
    {
     "name": "stderr",
     "output_type": "stream",
     "text": [
      "C:\\Users\\demai\\AppData\\Local\\Packages\\PythonSoftwareFoundation.Python.3.10_qbz5n2kfra8p0\\LocalCache\\local-packages\\Python310\\site-packages\\sklearn\\metrics\\_classification.py:1344: UndefinedMetricWarning: Precision is ill-defined and being set to 0.0 in labels with no predicted samples. Use `zero_division` parameter to control this behavior.\n",
      "  _warn_prf(average, modifier, msg_start, len(result))\n"
     ]
    },
    {
     "name": "stdout",
     "output_type": "stream",
     "text": [
      "Current code smell: LC\n",
      "Current code smell: LZC\n"
     ]
    },
    {
     "name": "stderr",
     "output_type": "stream",
     "text": [
      "C:\\Users\\demai\\AppData\\Local\\Packages\\PythonSoftwareFoundation.Python.3.10_qbz5n2kfra8p0\\LocalCache\\local-packages\\Python310\\site-packages\\sklearn\\neural_network\\_multilayer_perceptron.py:679: ConvergenceWarning: Stochastic Optimizer: Maximum iterations (200) reached and the optimization hasn't converged yet.\n",
      "  warnings.warn(\n"
     ]
    },
    {
     "name": "stdout",
     "output_type": "stream",
     "text": [
      "Current code smell: RB\n"
     ]
    },
    {
     "name": "stderr",
     "output_type": "stream",
     "text": [
      "C:\\Users\\demai\\AppData\\Local\\Packages\\PythonSoftwareFoundation.Python.3.10_qbz5n2kfra8p0\\LocalCache\\local-packages\\Python310\\site-packages\\sklearn\\metrics\\_classification.py:1344: UndefinedMetricWarning: Precision is ill-defined and being set to 0.0 in labels with no predicted samples. Use `zero_division` parameter to control this behavior.\n",
      "  _warn_prf(average, modifier, msg_start, len(result))\n"
     ]
    },
    {
     "name": "stdout",
     "output_type": "stream",
     "text": [
      "Current code smell: SC\n"
     ]
    },
    {
     "name": "stderr",
     "output_type": "stream",
     "text": [
      "C:\\Users\\demai\\AppData\\Local\\Packages\\PythonSoftwareFoundation.Python.3.10_qbz5n2kfra8p0\\LocalCache\\local-packages\\Python310\\site-packages\\sklearn\\neural_network\\_multilayer_perceptron.py:679: ConvergenceWarning: Stochastic Optimizer: Maximum iterations (200) reached and the optimization hasn't converged yet.\n",
      "  warnings.warn(\n",
      "C:\\Users\\demai\\AppData\\Local\\Packages\\PythonSoftwareFoundation.Python.3.10_qbz5n2kfra8p0\\LocalCache\\local-packages\\Python310\\site-packages\\sklearn\\metrics\\_classification.py:1344: UndefinedMetricWarning: Precision is ill-defined and being set to 0.0 in labels with no predicted samples. Use `zero_division` parameter to control this behavior.\n",
      "  _warn_prf(average, modifier, msg_start, len(result))\n"
     ]
    },
    {
     "name": "stdout",
     "output_type": "stream",
     "text": [
      "Current project: qpid-0.14\n",
      "Current project: struts-STRUTS_2_3_4\n",
      "Current project: xerces2-j-Xerces-J_2_3_0\n",
      "Current code smell: CDSBP\n"
     ]
    },
    {
     "name": "stderr",
     "output_type": "stream",
     "text": [
      "C:\\Users\\demai\\AppData\\Local\\Packages\\PythonSoftwareFoundation.Python.3.10_qbz5n2kfra8p0\\LocalCache\\local-packages\\Python310\\site-packages\\sklearn\\neural_network\\_multilayer_perceptron.py:679: ConvergenceWarning: Stochastic Optimizer: Maximum iterations (200) reached and the optimization hasn't converged yet.\n",
      "  warnings.warn(\n"
     ]
    },
    {
     "name": "stdout",
     "output_type": "stream",
     "text": [
      "Current code smell: CC\n"
     ]
    },
    {
     "name": "stderr",
     "output_type": "stream",
     "text": [
      "C:\\Users\\demai\\AppData\\Local\\Packages\\PythonSoftwareFoundation.Python.3.10_qbz5n2kfra8p0\\LocalCache\\local-packages\\Python310\\site-packages\\sklearn\\neural_network\\_multilayer_perceptron.py:679: ConvergenceWarning: Stochastic Optimizer: Maximum iterations (200) reached and the optimization hasn't converged yet.\n",
      "  warnings.warn(\n",
      "C:\\Users\\demai\\AppData\\Local\\Packages\\PythonSoftwareFoundation.Python.3.10_qbz5n2kfra8p0\\LocalCache\\local-packages\\Python310\\site-packages\\sklearn\\metrics\\_classification.py:1344: UndefinedMetricWarning: Precision is ill-defined and being set to 0.0 in labels with no predicted samples. Use `zero_division` parameter to control this behavior.\n",
      "  _warn_prf(average, modifier, msg_start, len(result))\n"
     ]
    },
    {
     "name": "stdout",
     "output_type": "stream",
     "text": [
      "Current code smell: LC\n"
     ]
    },
    {
     "name": "stderr",
     "output_type": "stream",
     "text": [
      "C:\\Users\\demai\\AppData\\Local\\Packages\\PythonSoftwareFoundation.Python.3.10_qbz5n2kfra8p0\\LocalCache\\local-packages\\Python310\\site-packages\\sklearn\\metrics\\_classification.py:1344: UndefinedMetricWarning: Precision is ill-defined and being set to 0.0 in labels with no predicted samples. Use `zero_division` parameter to control this behavior.\n",
      "  _warn_prf(average, modifier, msg_start, len(result))\n"
     ]
    },
    {
     "name": "stdout",
     "output_type": "stream",
     "text": [
      "Current code smell: LZC\n"
     ]
    },
    {
     "name": "stderr",
     "output_type": "stream",
     "text": [
      "C:\\Users\\demai\\AppData\\Local\\Packages\\PythonSoftwareFoundation.Python.3.10_qbz5n2kfra8p0\\LocalCache\\local-packages\\Python310\\site-packages\\sklearn\\metrics\\_classification.py:1344: UndefinedMetricWarning: Precision is ill-defined and being set to 0.0 in labels with no predicted samples. Use `zero_division` parameter to control this behavior.\n",
      "  _warn_prf(average, modifier, msg_start, len(result))\n"
     ]
    },
    {
     "name": "stdout",
     "output_type": "stream",
     "text": [
      "Current code smell: RB\n"
     ]
    },
    {
     "name": "stderr",
     "output_type": "stream",
     "text": [
      "C:\\Users\\demai\\AppData\\Local\\Packages\\PythonSoftwareFoundation.Python.3.10_qbz5n2kfra8p0\\LocalCache\\local-packages\\Python310\\site-packages\\sklearn\\neural_network\\_multilayer_perceptron.py:679: ConvergenceWarning: Stochastic Optimizer: Maximum iterations (200) reached and the optimization hasn't converged yet.\n",
      "  warnings.warn(\n",
      "C:\\Users\\demai\\AppData\\Local\\Packages\\PythonSoftwareFoundation.Python.3.10_qbz5n2kfra8p0\\LocalCache\\local-packages\\Python310\\site-packages\\sklearn\\metrics\\_classification.py:1344: UndefinedMetricWarning: Precision is ill-defined and being set to 0.0 in labels with no predicted samples. Use `zero_division` parameter to control this behavior.\n",
      "  _warn_prf(average, modifier, msg_start, len(result))\n"
     ]
    },
    {
     "name": "stdout",
     "output_type": "stream",
     "text": [
      "Current code smell: SC\n"
     ]
    },
    {
     "name": "stderr",
     "output_type": "stream",
     "text": [
      "C:\\Users\\demai\\AppData\\Local\\Packages\\PythonSoftwareFoundation.Python.3.10_qbz5n2kfra8p0\\LocalCache\\local-packages\\Python310\\site-packages\\sklearn\\neural_network\\_multilayer_perceptron.py:679: ConvergenceWarning: Stochastic Optimizer: Maximum iterations (200) reached and the optimization hasn't converged yet.\n",
      "  warnings.warn(\n",
      "C:\\Users\\demai\\AppData\\Local\\Packages\\PythonSoftwareFoundation.Python.3.10_qbz5n2kfra8p0\\LocalCache\\local-packages\\Python310\\site-packages\\sklearn\\metrics\\_classification.py:1344: UndefinedMetricWarning: Precision is ill-defined and being set to 0.0 in labels with no predicted samples. Use `zero_division` parameter to control this behavior.\n",
      "  _warn_prf(average, modifier, msg_start, len(result))\n"
     ]
    }
   ],
   "source": [
    "code_smells = ['CDSBP', 'CC', 'LC', 'LZC', 'RB', 'SC']\n",
    "# Dizionario per salvare le predizioni\n",
    "RF_Trad_predictions = {}\n",
    "CB_predictions = {}\n",
    "MLP_predictions = {}\n",
    "\n",
    "# Dizionario per salvare le metriche\n",
    "RF_metrics = {}\n",
    "CB_metrics = {}\n",
    "MLP_metrics = {}\n",
    "\n",
    "# Loop attraverso i progetti\n",
    "for project in projects:\n",
    "    print(\"Current project:\", project)\n",
    "\n",
    "    # Caricamento dei dati specifici del progetto\n",
    "    project_df = df[df['Project_name'] == project]\n",
    "    if len(project_df) == 0:\n",
    "            continue\n",
    "    \n",
    "    # Inizializza il dizionari per il progetto corrente\n",
    "    RF_Trad_predictions[project] = {}\n",
    "    RF_metrics[project] = {}\n",
    "\n",
    "    MLP_predictions[project] = {}\n",
    "    MLP_metrics[project] = {}\n",
    "\n",
    "    # Loop attraverso i code smell\n",
    "    for smell in code_smells:\n",
    "        print(\"Current code smell:\", smell)\n",
    "\n",
    "        X = project_df.drop(columns=['CDSBP', 'CC', 'LC', 'LC', 'LZC', 'RB', 'SC'])\n",
    "        y = project_df[str(smell)]\n",
    "\n",
    "        X_train, X_test, Y_train, Y_test = train_test_split(X, y, test_size=0.33, random_state=1)\n",
    "        \n",
    "        #Dati per MLP e per CodeBert\n",
    "        X_train_comp = X_train['Component']\n",
    "        X_test_comp = X_test['Component']\n",
    "\n",
    "        X_train.drop(columns=['Component', 'Project_name'], inplace=True)\n",
    "        X_test.drop(columns=['Component', 'Project_name'], inplace=True)\n",
    "\n",
    "        normalizer = MinMaxScaler()\n",
    "\n",
    "        X_train_normalized = normalizer.fit_transform(X_train)\n",
    "        X_test_normalized = normalizer.transform(X_test)\n",
    "\n",
    "        classifier = MLPClassifier(verbose=False, hidden_layer_sizes=[10, 20, 20],activation='logistic')\n",
    "\n",
    "        # Crea il pipeline\n",
    "        pipeline = Pipeline([\n",
    "            ('vectorizer', CountVectorizer()),\n",
    "            ('tfidf', TfidfTransformer()),\n",
    "            ('classifier', classifier),\n",
    "        ], verbose=False)\n",
    "\n",
    "        # Addestra il modello\n",
    "        pipeline.fit(X_train_comp, Y_train)\n",
    "\n",
    "        # Valuta il modello\n",
    "        y_pred_MLP = pipeline.predict(X_test_comp)\n",
    "\n",
    "        #Metriche per MLP\n",
    "        precision = precision_score(Y_test, y_pred_MLP, average='macro')\n",
    "        accuracy = accuracy_score(Y_test, y_pred_MLP)\n",
    "        mcc = matthews_corrcoef(Y_test, y_pred_MLP)\n",
    "        recall = recall_score(Y_test, y_pred_MLP, average='macro')\n",
    "        f1 = f1_score(Y_test, y_pred_MLP, average='macro')\n",
    "\n",
    "        # Salva le metriche per lo smell corrente nel progetto corrente\n",
    "        MLP_metrics[project][smell] = {\n",
    "            \"Precision\": precision,\n",
    "            \"Accuracy\": accuracy,\n",
    "            \"Recall\": recall,\n",
    "            \"F1\": f1,\n",
    "            \"MCC\": mcc\n",
    "        }\n",
    "\n",
    "        # Salva le predizioni per lo smell corrente nel progetto corrente\n",
    "        MLP_predictions[project][smell] = y_pred_MLP\n",
    "\n",
    "        #RandomForest Tradizionale\n",
    "        rf = RandomForestClassifier(n_estimators=100, random_state=42)\n",
    "        rf.fit(X_train_normalized, Y_train)\n",
    "        y_pred = rf.predict(X_test_normalized)\n",
    "        \n",
    "        #Metriche per RandomForest Tradizionale\n",
    "        precision = precision_score(Y_test, y_pred, average='macro')\n",
    "        accuracy = accuracy_score(Y_test, y_pred)\n",
    "        mcc = matthews_corrcoef(Y_test, y_pred)\n",
    "        recall = recall_score(Y_test, y_pred, average='macro')\n",
    "        f1 = f1_score(Y_test, y_pred, average='macro')\n",
    "\n",
    "        # Salva le metriche per lo smell corrente nel progetto corrente\n",
    "        RF_metrics[project][smell] = {\n",
    "            \"Precision\": precision,\n",
    "            \"Accuracy\": accuracy,\n",
    "            \"Recall\": recall,\n",
    "            \"F1\": f1,\n",
    "            \"MCC\": mcc\n",
    "        }\n",
    "\n",
    "        # Salva le predizioni per lo smell corrente nel progetto corrente\n",
    "        RF_Trad_predictions[project][smell] = y_pred\n",
    "\n",
    "\n",
    "\n",
    "        "
   ]
  },
  {
   "cell_type": "code",
   "execution_count": 163,
   "metadata": {},
   "outputs": [
    {
     "name": "stdout",
     "output_type": "stream",
     "text": [
      "Project: ant-ivy-2.0.0-alpha2\n",
      "Code Smell: CDSBP\n",
      "{'Precision': 1.0, 'Accuracy': 1.0, 'Recall': 1.0, 'F1': 1.0, 'MCC': 1.0}\n",
      "--------------\n",
      "Code Smell: CC\n",
      "{'Precision': 1.0, 'Accuracy': 1.0, 'Recall': 1.0, 'F1': 1.0, 'MCC': 0.0}\n",
      "--------------\n",
      "Code Smell: LC\n",
      "{'Precision': 1.0, 'Accuracy': 1.0, 'Recall': 1.0, 'F1': 1.0, 'MCC': 1.0}\n",
      "--------------\n",
      "Code Smell: LZC\n",
      "{'Precision': 1.0, 'Accuracy': 1.0, 'Recall': 1.0, 'F1': 1.0, 'MCC': 0.0}\n",
      "--------------\n",
      "Code Smell: RB\n",
      "{'Precision': 1.0, 'Accuracy': 1.0, 'Recall': 1.0, 'F1': 1.0, 'MCC': 0.0}\n",
      "--------------\n",
      "Code Smell: SC\n",
      "{'Precision': 1.0, 'Accuracy': 1.0, 'Recall': 1.0, 'F1': 1.0, 'MCC': 1.0}\n",
      "--------------\n",
      "Project: ant-rel-1.8.3\n",
      "Code Smell: CDSBP\n",
      "{'Precision': 0.9848484848484849, 'Accuracy': 0.9980582524271845, 'Recall': 0.9989648033126294, 'F1': 0.9917895575926664, 'MCC': 0.9837120084228933}\n",
      "--------------\n",
      "Code Smell: CC\n",
      "{'Precision': 0.7182696530522618, 'Accuracy': 0.9825242718446602, 'Recall': 0.745069033530572, 'F1': 0.7308518669066837, 'MCC': 0.4625630029415282}\n",
      "--------------\n",
      "Code Smell: LC\n",
      "{'Precision': 0.6391089108910891, 'Accuracy': 0.9650485436893204, 'Recall': 0.6001568291987454, 'F1': 0.6160536779324056, 'MCC': 0.23607378023103118}\n",
      "--------------\n",
      "Code Smell: LZC\n",
      "{'Precision': 1.0, 'Accuracy': 1.0, 'Recall': 1.0, 'F1': 1.0, 'MCC': 0.0}\n",
      "--------------\n",
      "Code Smell: RB\n",
      "{'Precision': 0.9967602591792657, 'Accuracy': 0.9941747572815534, 'Recall': 0.9727272727272727, 'F1': 0.9843561729832626, 'MCC': 0.9691896048165342}\n",
      "--------------\n",
      "Code Smell: SC\n",
      "{'Precision': 0.9547122646526965, 'Accuracy': 0.9592233009708738, 'Recall': 0.9500210548478787, 'F1': 0.9523167070089811, 'MCC': 0.9047211570230338}\n",
      "--------------\n",
      "Project: cassandra-cassandra-1.0.0\n",
      "Code Smell: CDSBP\n",
      "{'Precision': 0.9674826452320058, 'Accuracy': 0.9887640449438202, 'Recall': 0.9674826452320058, 'F1': 0.9674826452320058, 'MCC': 0.9349652904640117}\n",
      "--------------\n",
      "Code Smell: CC\n",
      "{'Precision': 1.0, 'Accuracy': 1.0, 'Recall': 1.0, 'F1': 1.0, 'MCC': 0.0}\n",
      "--------------\n",
      "Code Smell: LC\n",
      "{'Precision': 1.0, 'Accuracy': 1.0, 'Recall': 1.0, 'F1': 1.0, 'MCC': 1.0}\n",
      "--------------\n",
      "Code Smell: LZC\n",
      "{'Precision': 0.4887640449438202, 'Accuracy': 0.9775280898876404, 'Recall': 0.5, 'F1': 0.4943181818181818, 'MCC': 0.0}\n",
      "--------------\n",
      "Code Smell: RB\n",
      "{'Precision': 1.0, 'Accuracy': 1.0, 'Recall': 1.0, 'F1': 1.0, 'MCC': 0.0}\n",
      "--------------\n",
      "Code Smell: SC\n",
      "{'Precision': 1.0, 'Accuracy': 1.0, 'Recall': 1.0, 'F1': 1.0, 'MCC': 1.0}\n",
      "--------------\n",
      "Project: elasticsearch-v0.19.0\n",
      "Code Smell: CDSBP\n",
      "{'Precision': 0.9992774566473989, 'Accuracy': 0.9985714285714286, 'Recall': 0.9444444444444444, 'F1': 0.9702267023946238, 'MCC': 0.9421275748926753}\n",
      "--------------\n",
      "Code Smell: CC\n",
      "{'Precision': 0.4992857142857143, 'Accuracy': 0.9985714285714286, 'Recall': 0.5, 'F1': 0.4996426018584703, 'MCC': 0.0}\n",
      "--------------\n",
      "Code Smell: LC\n",
      "{'Precision': 1.0, 'Accuracy': 1.0, 'Recall': 1.0, 'F1': 1.0, 'MCC': 1.0}\n",
      "--------------\n",
      "Code Smell: LZC\n",
      "{'Precision': 0.8403314298510804, 'Accuracy': 0.9828571428571429, 'Recall': 0.7617776246662648, 'F1': 0.7956204379562043, 'MCC': 0.5969628239871871}\n",
      "--------------\n",
      "Code Smell: RB\n",
      "{'Precision': 1.0, 'Accuracy': 1.0, 'Recall': 1.0, 'F1': 1.0, 'MCC': 0.0}\n",
      "--------------\n",
      "Code Smell: SC\n",
      "{'Precision': 1.0, 'Accuracy': 1.0, 'Recall': 1.0, 'F1': 1.0, 'MCC': 1.0}\n",
      "--------------\n",
      "Project: hadoop-release-0.6.0\n",
      "Code Smell: CDSBP\n",
      "{'Precision': 1.0, 'Accuracy': 1.0, 'Recall': 1.0, 'F1': 1.0, 'MCC': 1.0}\n",
      "--------------\n",
      "Code Smell: CC\n",
      "{'Precision': 1.0, 'Accuracy': 1.0, 'Recall': 1.0, 'F1': 1.0, 'MCC': 1.0}\n",
      "--------------\n",
      "Code Smell: LC\n",
      "{'Precision': 0.9947916666666667, 'Accuracy': 0.9896907216494846, 'Recall': 0.75, 'F1': 0.8307155322862129, 'MCC': 0.7034142923389222}\n",
      "--------------\n",
      "Code Smell: LZC\n",
      "{'Precision': 0.9943181818181819, 'Accuracy': 0.9896907216494846, 'Recall': 0.95, 'F1': 0.9708270676691729, 'MCC': 0.9432776512102506}\n",
      "--------------\n",
      "Code Smell: RB\n",
      "{'Precision': 1.0, 'Accuracy': 1.0, 'Recall': 1.0, 'F1': 1.0, 'MCC': 0.0}\n",
      "--------------\n",
      "Code Smell: SC\n",
      "{'Precision': 1.0, 'Accuracy': 1.0, 'Recall': 1.0, 'F1': 1.0, 'MCC': 1.0}\n",
      "--------------\n",
      "Project: hsqldb-2.2.8\n",
      "Code Smell: CDSBP\n",
      "{'Precision': 1.0, 'Accuracy': 1.0, 'Recall': 1.0, 'F1': 1.0, 'MCC': 1.0}\n",
      "--------------\n",
      "Code Smell: CC\n",
      "{'Precision': 0.470189701897019, 'Accuracy': 0.940379403794038, 'Recall': 0.5, 'F1': 0.4846368715083799, 'MCC': 0.0}\n",
      "--------------\n",
      "Code Smell: LC\n",
      "{'Precision': 0.7262611275964392, 'Accuracy': 0.9132791327913279, 'Recall': 0.7262611275964392, 'F1': 0.7262611275964392, 'MCC': 0.45252225519287836}\n",
      "--------------\n",
      "Code Smell: LZC\n",
      "{'Precision': 0.9985632183908046, 'Accuracy': 0.997289972899729, 'Recall': 0.9772727272727273, 'F1': 0.9876526685628242, 'MCC': 0.9756036632962131}\n",
      "--------------\n",
      "Code Smell: RB\n",
      "{'Precision': 0.8806409130816506, 'Accuracy': 0.9512195121951219, 'Recall': 0.8446891397678487, 'F1': 0.8614864864864864, 'MCC': 0.7244385105460989}\n",
      "--------------\n",
      "Code Smell: SC\n",
      "{'Precision': 0.863919443545778, 'Accuracy': 0.8997289972899729, 'Recall': 0.861115569823435, 'F1': 0.8625033988942263, 'MCC': 0.7250295917432916}\n",
      "--------------\n",
      "Project: nutch-release-1.4\n",
      "Code Smell: CDSBP\n",
      "{'Precision': 1.0, 'Accuracy': 1.0, 'Recall': 1.0, 'F1': 1.0, 'MCC': 1.0}\n",
      "--------------\n",
      "Code Smell: CC\n",
      "{'Precision': 1.0, 'Accuracy': 1.0, 'Recall': 1.0, 'F1': 1.0, 'MCC': 0.0}\n",
      "--------------\n",
      "Code Smell: LC\n",
      "{'Precision': 1.0, 'Accuracy': 1.0, 'Recall': 1.0, 'F1': 1.0, 'MCC': 0.0}\n",
      "--------------\n",
      "Code Smell: LZC\n",
      "{'Precision': 1.0, 'Accuracy': 1.0, 'Recall': 1.0, 'F1': 1.0, 'MCC': 1.0}\n",
      "--------------\n",
      "Code Smell: RB\n",
      "{'Precision': 1.0, 'Accuracy': 1.0, 'Recall': 1.0, 'F1': 1.0, 'MCC': 1.0}\n",
      "--------------\n",
      "Code Smell: SC\n",
      "{'Precision': 1.0, 'Accuracy': 1.0, 'Recall': 1.0, 'F1': 1.0, 'MCC': 0.0}\n",
      "--------------\n",
      "Project: pig-release-0.8.0\n",
      "Code Smell: CDSBP\n",
      "{'Precision': 0.997983870967742, 'Accuracy': 0.9960629921259843, 'Recall': 0.9285714285714286, 'F1': 0.9605283605283605, 'MCC': 0.9239516415617759}\n",
      "--------------\n",
      "Code Smell: CC\n",
      "{'Precision': 0.9117647058823529, 'Accuracy': 0.9881889763779528, 'Recall': 0.99375, 'F1': 0.9484682491377561, 'MCC': 0.9017955944212895}\n",
      "--------------\n",
      "Code Smell: LC\n",
      "{'Precision': 1.0, 'Accuracy': 1.0, 'Recall': 1.0, 'F1': 1.0, 'MCC': 0.0}\n",
      "--------------\n",
      "Code Smell: LZC\n",
      "{'Precision': 1.0, 'Accuracy': 1.0, 'Recall': 1.0, 'F1': 1.0, 'MCC': 0.0}\n",
      "--------------\n",
      "Code Smell: RB\n",
      "{'Precision': 0.9959349593495934, 'Accuracy': 0.9921259842519685, 'Recall': 0.9, 'F1': 0.9424036281179139, 'MCC': 0.8907838879096038}\n",
      "--------------\n",
      "Code Smell: SC\n",
      "{'Precision': 0.997907949790795, 'Accuracy': 0.9960629921259843, 'Recall': 0.96875, 'F1': 0.9828227497125854, 'MCC': 0.9662180943543444}\n",
      "--------------\n",
      "Project: xerces2-j-Xerces-J_2_3_0\n",
      "Code Smell: CDSBP\n",
      "{'Precision': 0.9901960784313726, 'Accuracy': 0.9969325153374233, 'Recall': 0.9981884057971014, 'F1': 0.994142063934161, 'MCC': 0.9883521697081792}\n",
      "--------------\n",
      "Code Smell: CC\n",
      "{'Precision': 0.8670258887650192, 'Accuracy': 0.9723926380368099, 'Recall': 0.9430322966507176, 'F1': 0.9007005787389583, 'MCC': 0.8064845254060051}\n",
      "--------------\n",
      "Code Smell: LC\n",
      "{'Precision': 0.7889240506329114, 'Accuracy': 0.9662576687116564, 'Recall': 0.7243794544114033, 'F1': 0.7521255270615884, 'MCC': 0.509229303349072}\n",
      "--------------\n",
      "Code Smell: LZC\n",
      "{'Precision': 1.0, 'Accuracy': 1.0, 'Recall': 1.0, 'F1': 1.0, 'MCC': 1.0}\n",
      "--------------\n",
      "Code Smell: RB\n",
      "{'Precision': 0.9639112903225806, 'Accuracy': 0.9877300613496932, 'Recall': 0.9150432900432901, 'F1': 0.9379402246335428, 'MCC': 0.8775950506326063}\n",
      "--------------\n",
      "Code Smell: SC\n",
      "{'Precision': 0.9921630094043887, 'Accuracy': 0.9846625766871165, 'Recall': 0.7916666666666667, 'F1': 0.8644716055541698, 'MCC': 0.7577533752075629}\n",
      "--------------\n"
     ]
    }
   ],
   "source": [
    "# Stampa le metriche per ogni progetto e smell\n",
    "for project, smell_metrics in RF_metrics.items():\n",
    "    print(\"Project:\", project)\n",
    "    for smell, metric_values in smell_metrics.items():\n",
    "        print(\"Code Smell:\", smell)\n",
    "        print(metric_values)\n",
    "        print(\"--------------\")"
   ]
  },
  {
   "cell_type": "code",
   "execution_count": 164,
   "metadata": {},
   "outputs": [
    {
     "name": "stdout",
     "output_type": "stream",
     "text": [
      "Project: ant-ivy-2.0.0-alpha2\n",
      "Code Smell: CDSBP\n",
      "{'Precision': 0.481651376146789, 'Accuracy': 0.963302752293578, 'Recall': 0.5, 'F1': 0.49065420560747663, 'MCC': 0.0}\n",
      "--------------\n",
      "Code Smell: CC\n",
      "{'Precision': 1.0, 'Accuracy': 1.0, 'Recall': 1.0, 'F1': 1.0, 'MCC': 0.0}\n",
      "--------------\n",
      "Code Smell: LC\n",
      "{'Precision': 0.4954128440366973, 'Accuracy': 0.9908256880733946, 'Recall': 0.5, 'F1': 0.4976958525345622, 'MCC': 0.0}\n",
      "--------------\n",
      "Code Smell: LZC\n",
      "{'Precision': 1.0, 'Accuracy': 1.0, 'Recall': 1.0, 'F1': 1.0, 'MCC': 0.0}\n",
      "--------------\n",
      "Code Smell: RB\n",
      "{'Precision': 1.0, 'Accuracy': 1.0, 'Recall': 1.0, 'F1': 1.0, 'MCC': 0.0}\n",
      "--------------\n",
      "Code Smell: SC\n",
      "{'Precision': 0.43577981651376146, 'Accuracy': 0.8715596330275229, 'Recall': 0.5, 'F1': 0.46568627450980393, 'MCC': 0.0}\n",
      "--------------\n",
      "Project: ant-rel-1.8.3\n",
      "Code Smell: CDSBP\n",
      "{'Precision': 0.46893203883495144, 'Accuracy': 0.9378640776699029, 'Recall': 0.5, 'F1': 0.4839679358717435, 'MCC': 0.0}\n",
      "--------------\n",
      "Code Smell: CC\n",
      "{'Precision': 0.49223300970873785, 'Accuracy': 0.9844660194174757, 'Recall': 0.5, 'F1': 0.49608610567514677, 'MCC': 0.0}\n",
      "--------------\n",
      "Code Smell: LC\n",
      "{'Precision': 0.48640776699029126, 'Accuracy': 0.9728155339805825, 'Recall': 0.5, 'F1': 0.4931102362204724, 'MCC': 0.0}\n",
      "--------------\n",
      "Code Smell: LZC\n",
      "{'Precision': 1.0, 'Accuracy': 1.0, 'Recall': 1.0, 'F1': 1.0, 'MCC': 0.0}\n",
      "--------------\n",
      "Code Smell: RB\n",
      "{'Precision': 0.44660194174757284, 'Accuracy': 0.8932038834951457, 'Recall': 0.5, 'F1': 0.4717948717948718, 'MCC': 0.0}\n",
      "--------------\n",
      "Code Smell: SC\n",
      "{'Precision': 0.9471867007672634, 'Accuracy': 0.9592233009708738, 'Recall': 0.9601800189493631, 'F1': 0.9532564863918676, 'MCC': 0.9072736840292073}\n",
      "--------------\n",
      "Project: cassandra-cassandra-1.0.0\n",
      "Code Smell: CDSBP\n",
      "{'Precision': 0.45224719101123595, 'Accuracy': 0.9044943820224719, 'Recall': 0.5, 'F1': 0.4749262536873156, 'MCC': 0.0}\n",
      "--------------\n",
      "Code Smell: CC\n",
      "{'Precision': 1.0, 'Accuracy': 1.0, 'Recall': 1.0, 'F1': 1.0, 'MCC': 0.0}\n",
      "--------------\n",
      "Code Smell: LC\n",
      "{'Precision': 0.49157303370786515, 'Accuracy': 0.9831460674157303, 'Recall': 0.5, 'F1': 0.49575070821529743, 'MCC': 0.0}\n",
      "--------------\n",
      "Code Smell: LZC\n",
      "{'Precision': 0.4887640449438202, 'Accuracy': 0.9775280898876404, 'Recall': 0.5, 'F1': 0.4943181818181818, 'MCC': 0.0}\n",
      "--------------\n",
      "Code Smell: RB\n",
      "{'Precision': 1.0, 'Accuracy': 1.0, 'Recall': 1.0, 'F1': 1.0, 'MCC': 0.0}\n",
      "--------------\n",
      "Code Smell: SC\n",
      "{'Precision': 0.4859550561797753, 'Accuracy': 0.9719101123595506, 'Recall': 0.5, 'F1': 0.4928774928774929, 'MCC': 0.0}\n",
      "--------------\n",
      "Project: elasticsearch-v0.19.0\n",
      "Code Smell: CDSBP\n",
      "{'Precision': 0.49357142857142855, 'Accuracy': 0.9871428571428571, 'Recall': 0.5, 'F1': 0.49676491732566497, 'MCC': 0.0}\n",
      "--------------\n",
      "Code Smell: CC\n",
      "{'Precision': 0.4992857142857143, 'Accuracy': 0.9985714285714286, 'Recall': 0.5, 'F1': 0.4996426018584703, 'MCC': 0.0}\n",
      "--------------\n",
      "Code Smell: LC\n",
      "{'Precision': 0.49857142857142855, 'Accuracy': 0.9971428571428571, 'Recall': 0.5, 'F1': 0.4992846924177396, 'MCC': 0.0}\n",
      "--------------\n",
      "Code Smell: LZC\n",
      "{'Precision': 0.4878571428571429, 'Accuracy': 0.9757142857142858, 'Recall': 0.5, 'F1': 0.4938539407086045, 'MCC': 0.0}\n",
      "--------------\n",
      "Code Smell: RB\n",
      "{'Precision': 1.0, 'Accuracy': 1.0, 'Recall': 1.0, 'F1': 1.0, 'MCC': 0.0}\n",
      "--------------\n",
      "Code Smell: SC\n",
      "{'Precision': 0.4928571428571429, 'Accuracy': 0.9857142857142858, 'Recall': 0.5, 'F1': 0.49640287769784175, 'MCC': 0.0}\n",
      "--------------\n",
      "Project: hadoop-release-0.6.0\n",
      "Code Smell: CDSBP\n",
      "{'Precision': 0.4845360824742268, 'Accuracy': 0.9690721649484536, 'Recall': 0.5, 'F1': 0.4921465968586387, 'MCC': 0.0}\n",
      "--------------\n",
      "Code Smell: CC\n",
      "{'Precision': 0.4845360824742268, 'Accuracy': 0.9690721649484536, 'Recall': 0.5, 'F1': 0.4921465968586387, 'MCC': 0.0}\n",
      "--------------\n",
      "Code Smell: LC\n",
      "{'Precision': 0.4896907216494845, 'Accuracy': 0.979381443298969, 'Recall': 0.5, 'F1': 0.49479166666666663, 'MCC': 0.0}\n",
      "--------------\n",
      "Code Smell: LZC\n",
      "{'Precision': 0.4484536082474227, 'Accuracy': 0.8969072164948454, 'Recall': 0.5, 'F1': 0.4728260869565218, 'MCC': 0.0}\n",
      "--------------\n",
      "Code Smell: RB\n",
      "{'Precision': 1.0, 'Accuracy': 1.0, 'Recall': 1.0, 'F1': 1.0, 'MCC': 0.0}\n",
      "--------------\n",
      "Code Smell: SC\n",
      "{'Precision': 0.4020618556701031, 'Accuracy': 0.8041237113402062, 'Recall': 0.5, 'F1': 0.44571428571428573, 'MCC': 0.0}\n",
      "--------------\n",
      "Project: hsqldb-2.2.8\n",
      "Code Smell: CDSBP\n",
      "{'Precision': 0.47560975609756095, 'Accuracy': 0.9512195121951219, 'Recall': 0.5, 'F1': 0.4875, 'MCC': 0.0}\n",
      "--------------\n",
      "Code Smell: CC\n",
      "{'Precision': 0.470189701897019, 'Accuracy': 0.940379403794038, 'Recall': 0.5, 'F1': 0.4846368715083799, 'MCC': 0.0}\n",
      "--------------\n",
      "Code Smell: LC\n",
      "{'Precision': 0.45663956639566394, 'Accuracy': 0.9132791327913279, 'Recall': 0.5, 'F1': 0.4773371104815864, 'MCC': 0.0}\n",
      "--------------\n",
      "Code Smell: LZC\n",
      "{'Precision': 0.470189701897019, 'Accuracy': 0.940379403794038, 'Recall': 0.5, 'F1': 0.4846368715083799, 'MCC': 0.0}\n",
      "--------------\n",
      "Code Smell: RB\n",
      "{'Precision': 0.8663867150219507, 'Accuracy': 0.943089430894309, 'Recall': 0.8052154555573223, 'F1': 0.8321310196919478, 'MCC': 0.6688105505614441}\n",
      "--------------\n",
      "Code Smell: SC\n",
      "{'Precision': 0.8686109073123013, 'Accuracy': 0.9024390243902439, 'Recall': 0.8629012841091492, 'F1': 0.865698802976383, 'MCC': 0.7314899086119309}\n",
      "--------------\n",
      "Project: nutch-release-1.4\n",
      "Code Smell: CDSBP\n",
      "{'Precision': 0.4523809523809524, 'Accuracy': 0.9047619047619048, 'Recall': 0.5, 'F1': 0.47500000000000003, 'MCC': 0.0}\n",
      "--------------\n",
      "Code Smell: CC\n",
      "{'Precision': 1.0, 'Accuracy': 1.0, 'Recall': 1.0, 'F1': 1.0, 'MCC': 0.0}\n",
      "--------------\n",
      "Code Smell: LC\n",
      "{'Precision': 1.0, 'Accuracy': 1.0, 'Recall': 1.0, 'F1': 1.0, 'MCC': 0.0}\n",
      "--------------\n",
      "Code Smell: LZC\n",
      "{'Precision': 0.46825396825396826, 'Accuracy': 0.9365079365079365, 'Recall': 0.5, 'F1': 0.48360655737704916, 'MCC': 0.0}\n",
      "--------------\n",
      "Code Smell: RB\n",
      "{'Precision': 0.49206349206349204, 'Accuracy': 0.9841269841269841, 'Recall': 0.5, 'F1': 0.49599999999999994, 'MCC': 0.0}\n",
      "--------------\n",
      "Code Smell: SC\n",
      "{'Precision': 1.0, 'Accuracy': 1.0, 'Recall': 1.0, 'F1': 1.0, 'MCC': 0.0}\n",
      "--------------\n",
      "Project: pig-release-0.8.0\n",
      "Code Smell: CDSBP\n",
      "{'Precision': 0.4862204724409449, 'Accuracy': 0.9724409448818898, 'Recall': 0.5, 'F1': 0.49301397205588826, 'MCC': 0.0}\n",
      "--------------\n",
      "Code Smell: CC\n",
      "{'Precision': 0.47244094488188976, 'Accuracy': 0.9448818897637795, 'Recall': 0.5, 'F1': 0.48582995951417, 'MCC': 0.0}\n",
      "--------------\n",
      "Code Smell: LC\n",
      "{'Precision': 1.0, 'Accuracy': 1.0, 'Recall': 1.0, 'F1': 1.0, 'MCC': 0.0}\n",
      "--------------\n",
      "Code Smell: LZC\n",
      "{'Precision': 1.0, 'Accuracy': 1.0, 'Recall': 1.0, 'F1': 1.0, 'MCC': 0.0}\n",
      "--------------\n",
      "Code Smell: RB\n",
      "{'Precision': 0.48031496062992124, 'Accuracy': 0.9606299212598425, 'Recall': 0.5, 'F1': 0.4899598393574297, 'MCC': 0.0}\n",
      "--------------\n",
      "Code Smell: SC\n",
      "{'Precision': 0.468503937007874, 'Accuracy': 0.937007874015748, 'Recall': 0.5, 'F1': 0.48373983739837395, 'MCC': 0.0}\n",
      "--------------\n",
      "Project: xerces2-j-Xerces-J_2_3_0\n",
      "Code Smell: CDSBP\n",
      "{'Precision': 0.9662162162162162, 'Accuracy': 0.9386503067484663, 'Recall': 0.8, 'F1': 0.8575174825174825, 'MCC': 0.7479702263188419}\n",
      "--------------\n",
      "Code Smell: CC\n",
      "{'Precision': 0.4662576687116564, 'Accuracy': 0.9325153374233128, 'Recall': 0.5, 'F1': 0.48253968253968255, 'MCC': 0.0}\n",
      "--------------\n",
      "Code Smell: LC\n",
      "{'Precision': 0.48006134969325154, 'Accuracy': 0.9601226993865031, 'Recall': 0.5, 'F1': 0.48982785602503914, 'MCC': 0.0}\n",
      "--------------\n",
      "Code Smell: LZC\n",
      "{'Precision': 0.495398773006135, 'Accuracy': 0.99079754601227, 'Recall': 0.5, 'F1': 0.49768875192604006, 'MCC': 0.0}\n",
      "--------------\n",
      "Code Smell: RB\n",
      "{'Precision': 0.4723926380368098, 'Accuracy': 0.9447852760736196, 'Recall': 0.5, 'F1': 0.4858044164037855, 'MCC': 0.0}\n",
      "--------------\n",
      "Code Smell: SC\n",
      "{'Precision': 0.4815950920245399, 'Accuracy': 0.9631901840490797, 'Recall': 0.5, 'F1': 0.490625, 'MCC': 0.0}\n",
      "--------------\n"
     ]
    }
   ],
   "source": [
    "# Stampa le metriche per ogni progetto e smell\n",
    "for project, smell_metrics in MLP_metrics.items():\n",
    "    print(\"Project:\", project)\n",
    "    for smell, metric_values in smell_metrics.items():\n",
    "        print(\"Code Smell:\", smell)\n",
    "        print(metric_values)\n",
    "        print(\"--------------\")"
   ]
  }
 ],
 "metadata": {
  "kernelspec": {
   "display_name": "Python 3",
   "language": "python",
   "name": "python3"
  },
  "language_info": {
   "codemirror_mode": {
    "name": "ipython",
    "version": 3
   },
   "file_extension": ".py",
   "mimetype": "text/x-python",
   "name": "python",
   "nbconvert_exporter": "python",
   "pygments_lexer": "ipython3",
   "version": "3.10.11"
  },
  "orig_nbformat": 4
 },
 "nbformat": 4,
 "nbformat_minor": 2
}
